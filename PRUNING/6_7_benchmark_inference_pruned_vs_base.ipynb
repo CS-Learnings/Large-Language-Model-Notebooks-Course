{
  "cells": [
    {
      "cell_type": "markdown",
      "metadata": {
        "id": "view-in-github",
        "colab_type": "text"
      },
      "source": [
        "<a href=\"https://colab.research.google.com/github/peremartra/Large-Language-Model-Notebooks-Course/blob/main/PRUNING/6_7_benchmark_inference_pruned_vs_base.ipynb\" target=\"_parent\"><img src=\"https://colab.research.google.com/assets/colab-badge.svg\" alt=\"Open In Colab\"/></a>"
      ]
    },
    {
      "cell_type": "markdown",
      "id": "725655d9",
      "metadata": {
        "id": "725655d9"
      },
      "source": [
        "<div>\n",
        "    <h1>Large Language Models Projects</a></h1>\n",
        "    <h3>Apply and Implement Strategies for Large Language Models</h3>\n",
        "    <h2>Inference Efficiency Benchmark: Base vs. Pruned Model</h2>\n",
        "    <h3>Evaluate speed and efficiency gains from structured pruning.</h3>\n",
        "</div>\n",
        "\n",
        "by [Pere Martra](https://www.linkedin.com/in/pere-martra/)\n",
        "_______\n",
        "Models: meta-llama/Llama-3.2-1B vs oopere/pruned40-llama-3.2-1B\n",
        "\n",
        "Colab Environment: GPU T4.\n",
        "\n",
        "Keys:\n",
        "* Inference\n",
        "* BenchMarks\n",
        "* PowerConsumption\n",
        "* CodeCarbon\n",
        "\n",
        "_______\n",
        "**disclaimer: The pruning / knowledge distillation section has been created after the first edition of the book was published. They are not included in the book’s original content but are intended to supplement and expand on the topics covered.**\n",
        "\n",
        "This is the unofficial repository for the book:\n",
        "        <a href=\"https://amzn.to/4eanT1g\"> <b>Large Language Models:</b> Apply and Implement Strategies for Large Language Models</a> (Apress).\n",
        "        The book is based on the content of this repository, but the notebooks are being updated, and I am incorporating new examples and chapters.\n",
        "        If you are looking for the official repository for the book, with the original notebooks, you should visit the\n",
        "        <a href=\"https://github.com/Apress/Large-Language-Models-Projects\">Apress repository</a>, where you can find all the notebooks in their original format as they appear in the book.\n",
        "\n",
        "______\n",
        "# INTRODUCTION\n",
        "This notebook benchmarks the **inference performance** of two Hugging Face models: a base model (`meta-llama/Llama-3.2-1B`) and its **pruned** version (`oopere/pruned40-llama-3.2-1B`).\n",
        "\n",
        "We evaluate and compare them in terms of:\n",
        "- **Latency** (including Time To First Token and token-level percentiles)\n",
        "- **Throughput** across different batch sizes\n",
        "- **GPU memory usage** for increasing context lengths\n",
        "- **Energy consumption and emissions**, using CodeCarbon\n",
        "\n",
        "Although this is an evaluation notebook, it is included in the **Pruning and Optimization** section because it directly analyzes the **impact of pruning techniques** on efficiency and environmental cost."
      ]
    },
    {
      "cell_type": "markdown",
      "id": "f62480d8",
      "metadata": {
        "id": "f62480d8"
      },
      "source": [
        "## 1. Configurations & Imports."
      ]
    },
    {
      "cell_type": "code",
      "source": [
        "!pip install -q codecarbon"
      ],
      "metadata": {
        "id": "Y8Uix6ESeuIG",
        "colab": {
          "base_uri": "https://localhost:8080/"
        },
        "outputId": "905a541c-2f47-47ab-f810-a510300d5501"
      },
      "id": "Y8Uix6ESeuIG",
      "execution_count": 1,
      "outputs": [
        {
          "output_type": "stream",
          "name": "stdout",
          "text": [
            "\u001b[?25l   \u001b[90m━━━━━━━━━━━━━━━━━━━━━━━━━━━━━━━━━━━━━━━━\u001b[0m \u001b[32m0.0/576.3 kB\u001b[0m \u001b[31m?\u001b[0m eta \u001b[36m-:--:--\u001b[0m\r\u001b[2K   \u001b[91m━━━━━━━━━━━━━━━━━━━━━━━━━\u001b[0m\u001b[91m╸\u001b[0m\u001b[90m━━━━━━━━━━━━━━\u001b[0m \u001b[32m368.6/576.3 kB\u001b[0m \u001b[31m11.0 MB/s\u001b[0m eta \u001b[36m0:00:01\u001b[0m\r\u001b[2K   \u001b[90m━━━━━━━━━━━━━━━━━━━━━━━━━━━━━━━━━━━━━━━━\u001b[0m \u001b[32m576.3/576.3 kB\u001b[0m \u001b[31m10.8 MB/s\u001b[0m eta \u001b[36m0:00:00\u001b[0m\n",
            "\u001b[?25h\u001b[?25l   \u001b[90m━━━━━━━━━━━━━━━━━━━━━━━━━━━━━━━━━━━━━━━━\u001b[0m \u001b[32m0.0/278.0 kB\u001b[0m \u001b[31m?\u001b[0m eta \u001b[36m-:--:--\u001b[0m\r\u001b[2K   \u001b[90m━━━━━━━━━━━━━━━━━━━━━━━━━━━━━━━━━━━━━━━━\u001b[0m \u001b[32m278.0/278.0 kB\u001b[0m \u001b[31m21.1 MB/s\u001b[0m eta \u001b[36m0:00:00\u001b[0m\n",
            "\u001b[2K   \u001b[90m━━━━━━━━━━━━━━━━━━━━━━━━━━━━━━━━━━━━━━━━\u001b[0m \u001b[32m66.4/66.4 kB\u001b[0m \u001b[31m5.3 MB/s\u001b[0m eta \u001b[36m0:00:00\u001b[0m\n",
            "\u001b[2K   \u001b[90m━━━━━━━━━━━━━━━━━━━━━━━━━━━━━━━━━━━━━━━━\u001b[0m \u001b[32m3.1/3.1 MB\u001b[0m \u001b[31m57.1 MB/s\u001b[0m eta \u001b[36m0:00:00\u001b[0m\n",
            "\u001b[2K   \u001b[90m━━━━━━━━━━━━━━━━━━━━━━━━━━━━━━━━━━━━━━━━\u001b[0m \u001b[32m76.4/76.4 kB\u001b[0m \u001b[31m6.0 MB/s\u001b[0m eta \u001b[36m0:00:00\u001b[0m\n",
            "\u001b[2K   \u001b[90m━━━━━━━━━━━━━━━━━━━━━━━━━━━━━━━━━━━━━━━━\u001b[0m \u001b[32m92.5/92.5 kB\u001b[0m \u001b[31m7.2 MB/s\u001b[0m eta \u001b[36m0:00:00\u001b[0m\n",
            "\u001b[?25h\u001b[31mERROR: pip's dependency resolver does not currently take into account all the packages that are installed. This behaviour is the source of the following dependency conflicts.\n",
            "google-genai 1.10.0 requires httpx<1.0.0,>=0.28.1, but you have httpx 0.27.2 which is incompatible.\u001b[0m\u001b[31m\n",
            "\u001b[0m"
          ]
        }
      ]
    },
    {
      "cell_type": "code",
      "execution_count": 2,
      "id": "92a5076f",
      "metadata": {
        "id": "92a5076f"
      },
      "outputs": [],
      "source": [
        "# Initial Configuration\n",
        "import os\n",
        "import time\n",
        "import json\n",
        "import torch\n",
        "from transformers import AutoModelForCausalLM, AutoTokenizer\n",
        "import psutil\n",
        "import matplotlib.pyplot as plt\n",
        "import numpy as np\n",
        "\n",
        "# Try importing CodeCarbon to track emissions\n",
        "try:\n",
        "    from codecarbon import EmissionsTracker\n",
        "    codecarbon_available = True\n",
        "except ImportError:\n",
        "    print(\"Warning: CodeCarbon is not installed. Environmental tracking will be skipped.\")\n",
        "    codecarbon_available = False\n",
        "\n",
        "# Try importing NVIDIA Management Library to retrieve GPU metrics\n",
        "try:\n",
        "    import pynvml\n",
        "    pynvml.nvmlInit()\n",
        "    gpu_available = True\n",
        "except ImportError:\n",
        "    print(\"Warning: pynvml is not installed. GPU metrics may be limited.\")\n",
        "    gpu_available = False\n",
        "\n",
        "# Detect devices: cuda > mps > cpu\n",
        "if torch.cuda.is_available():\n",
        "    device = \"cuda\"\n",
        "elif torch.backends.mps.is_available():\n",
        "    device = \"mps\"\n",
        "else:\n",
        "    device = \"cpu\"\n"
      ]
    },
    {
      "cell_type": "code",
      "source": [
        "# Model loading parameters\n",
        "USE_QUANTIZED = False  # Set to True to load in 8-bit mode"
      ],
      "metadata": {
        "id": "haui_hafnSmx"
      },
      "id": "haui_hafnSmx",
      "execution_count": 3,
      "outputs": []
    },
    {
      "cell_type": "code",
      "source": [
        "codecarbon_available"
      ],
      "metadata": {
        "colab": {
          "base_uri": "https://localhost:8080/"
        },
        "id": "s2nNS9kee5SH",
        "outputId": "4a71b33b-baa8-45ea-b10a-3f2b7bcca171"
      },
      "id": "s2nNS9kee5SH",
      "execution_count": 4,
      "outputs": [
        {
          "output_type": "execute_result",
          "data": {
            "text/plain": [
              "True"
            ]
          },
          "metadata": {},
          "execution_count": 4
        }
      ]
    },
    {
      "cell_type": "markdown",
      "id": "2f9dbd66",
      "metadata": {
        "id": "2f9dbd66"
      },
      "source": [
        "## 2. Model and prompt loading functions\n",
        "In this section, we define utility functions to:\n",
        "\n",
        "* Load a model and its tokenizer from the Hugging Face Hub\n",
        "* Optionally enable 8-bit quantization for reduced memory usage\n",
        "* Load input prompts from either .json or .jsonl files\n",
        "* Provide a set of default prompts for quick testing\n",
        "\n",
        "These functions are designed to keep the benchmarking code clean, modular, and easy to adapt to different models and input formats."
      ]
    },
    {
      "cell_type": "code",
      "execution_count": 5,
      "id": "cbdae074",
      "metadata": {
        "id": "cbdae074"
      },
      "outputs": [],
      "source": [
        "# Function to load the model and tokenizer\n",
        "def load_model_and_tokenizer(model_id, use_quantized, device):\n",
        "    \"\"\"Loads the model and tokenizer from the Hugging Face Hub.\"\"\"\n",
        "    load_kwargs = {\"torch_dtype\": torch.float16} if device != \"cpu\" else {}\n",
        "    if use_quantized:\n",
        "        load_kwargs[\"load_in_8bit\"] = True\n",
        "    tokenizer = AutoTokenizer.from_pretrained(model_id)\n",
        "    if tokenizer.pad_token_id is None:\n",
        "      tokenizer.pad_token_id = tokenizer.eos_token_id\n",
        "    model = AutoModelForCausalLM.from_pretrained(model_id, **load_kwargs).to(device)\n",
        "    model.eval()\n",
        "    return model, tokenizer\n",
        "\n",
        "# Function to load prompts from a JSON or JSONL file\n",
        "def load_prompts_from_file(file_path):\n",
        "    \"\"\"Loads prompts from an external file (.json or .jsonl).\"\"\"\n",
        "    prompts = []\n",
        "    if file_path.endswith(\".json\"):\n",
        "        with open(file_path, \"r\", encoding=\"utf-8\") as f:\n",
        "            prompts = json.load(f)\n",
        "    elif file_path.endswith(\".jsonl\"):\n",
        "        with open(file_path, \"r\", encoding=\"utf-8\") as f:\n",
        "            prompts = [json.loads(line) for line in f]\n",
        "    else:\n",
        "        raise ValueError(\"Unsupported file format. Please use .json or .jsonl\")\n",
        "    return prompts\n",
        "\n",
        "# Lista de prompts por defecto\n",
        "example_prompts = [\n",
        "    \"Hello, how are you?\",\n",
        "    \"Write a poem about spring.\",\n",
        "    \"Summarize the plot of 'One Hundred Years of Solitude'.\",\n",
        "    \"Give three tips for maintaining a healthy lifestyle.\",\n",
        "    \"Explain the theory of relativity in simple terms.\"\n",
        "]"
      ]
    },
    {
      "cell_type": "markdown",
      "id": "05354a50",
      "metadata": {
        "id": "05354a50"
      },
      "source": [
        "## 3. Benchmarking functions\n",
        "This section defines all the necessary functions to evaluate the model's performance during inference. These functions allow you to measure several key aspects:\n",
        "\n",
        "* Latency: average time per token, TTFT (Time To First Token), and percentiles.\n",
        "* Throughput: tokens generated per second depending on batch size.\n",
        "* Resource usage: GPU and CPU utilization during generation.\n",
        "* Context scaling: how latency and memory usage change as prompt length increases.\n",
        "\n",
        "Energy consumption: total usage, estimated emissions, and per-token metrics (if CodeCarbon is available).\n",
        "\n",
        "These tools enable comparison of models in terms of computational efficiency and sustainability."
      ]
    },
    {
      "cell_type": "code",
      "execution_count": 6,
      "id": "90390495",
      "metadata": {
        "id": "90390495"
      },
      "outputs": [],
      "source": [
        "# Latency Benchmark\n",
        "def benchmark_latency(model, tokenizer, device, prompts):\n",
        "    \"\"\"\n",
        "    Measures latency: average time per token, TTFT, and percentiles.\n",
        "    \"\"\"\n",
        "    import numpy as np\n",
        "    tiempos_por_token = []\n",
        "    ttft_list = []\n",
        "    for prompt in prompts:\n",
        "        batch = tokenizer(prompt, return_tensors=\"pt\", padding=True).to(device)\n",
        "        start_time = time.time()\n",
        "        with torch.no_grad():\n",
        "            model.generate(\n",
        "                input_ids=batch[\"input_ids\"],\n",
        "                attention_mask=batch[\"attention_mask\"],\n",
        "                max_new_tokens=50,\n",
        "                pad_token_id=tokenizer.pad_token_id\n",
        "            )\n",
        "        end_time = time.time()\n",
        "        total = end_time - start_time\n",
        "        tiempos_por_token.extend([total/50] * 50)\n",
        "        ttft_list.append(total)\n",
        "    p50, p90, p99 = np.percentile(tiempos_por_token, [50, 90, 99])\n",
        "    return {\n",
        "        \"mean_token_time\": float(np.mean(tiempos_por_token)),\n",
        "        \"ttft_mean\": float(np.mean(ttft_list)),\n",
        "        \"p50\": float(p50),\n",
        "        \"p90\": float(p90),\n",
        "        \"p99\": float(p99)\n",
        "    }"
      ]
    },
    {
      "cell_type": "code",
      "execution_count": 7,
      "id": "c941ed56",
      "metadata": {
        "id": "c941ed56"
      },
      "outputs": [],
      "source": [
        "# Throughput benchmark for different batch sizes\n",
        "def benchmark_throughput(model, tokenizer, device, prompts, batch_sizes=[1,4,8,16,32]):\n",
        "    import numpy as np\n",
        "    results = {}\n",
        "    handle = None\n",
        "    if gpu_available and device==\"cuda\":\n",
        "        handle = pynvml.nvmlDeviceGetHandleByIndex(0)\n",
        "\n",
        "    for bs in batch_sizes:\n",
        "        batch_prompts = prompts[:bs]\n",
        "        batch = tokenizer(batch_prompts, return_tensors=\"pt\", padding=True, truncation=True).to(device)\n",
        "\n",
        "        # Measure peak memory usage\n",
        "        if device==\"cuda\":\n",
        "            torch.cuda.reset_peak_memory_stats()\n",
        "\n",
        "        # Synchronize and measure real time\n",
        "        if device==\"cuda\":\n",
        "            torch.cuda.synchronize()\n",
        "        start = time.time()\n",
        "\n",
        "        with torch.no_grad():\n",
        "            model.generate(\n",
        "                input_ids=batch[\"input_ids\"],\n",
        "                attention_mask=batch[\"attention_mask\"],\n",
        "                max_new_tokens=50,\n",
        "                pad_token_id=tokenizer.pad_token_id\n",
        "            )\n",
        "\n",
        "        if device==\"cuda\":\n",
        "            torch.cuda.synchronize()\n",
        "        end = time.time()\n",
        "\n",
        "        # Collect metrics\n",
        "        tokens = bs * 50\n",
        "        peak_mem = (torch.cuda.max_memory_allocated(device) / 1024**2) if device==\"cuda\" else None\n",
        "        gpu_util = pynvml.nvmlDeviceGetUtilizationRates(handle).gpu if handle else None\n",
        "        results[f\"batch_{bs}\"] = {\n",
        "            \"tokens_per_sec\": tokens / (end - start),\n",
        "            \"peak_mem_mb\": peak_mem,\n",
        "            \"gpu_util_pct\": gpu_util\n",
        "        }\n",
        "\n",
        "    return results"
      ]
    },
    {
      "cell_type": "code",
      "execution_count": 8,
      "id": "82ff1624",
      "metadata": {
        "id": "82ff1624"
      },
      "outputs": [],
      "source": [
        "# Context scaling benchmark\n",
        "def benchmark_context_scaling(model, tokenizer, device, context_lengths=[512,1024,2048,4096]):\n",
        "    \"\"\"Evaluates latency and throughput for different context lengths.\"\"\"\n",
        "    results = {}\n",
        "    base_prompt = \"word \" * max(context_lengths)\n",
        "    for length in context_lengths:\n",
        "        inputs = tokenizer(base_prompt, return_tensors=\"pt\", max_length=length, truncation=True).to(device)\n",
        "        start = time.time()\n",
        "        with torch.no_grad():\n",
        "            model.generate(**inputs, max_new_tokens=10)\n",
        "        end = time.time()\n",
        "        dur = end - start\n",
        "        results[f\"context_{length}\"] = {\n",
        "            \"latency\": dur,\n",
        "            \"throughput\": 10 / dur\n",
        "        }\n",
        "    return results"
      ]
    },
    {
      "cell_type": "code",
      "source": [
        "def benchmark_memory_context_scaling(model, tokenizer, device, context_lengths=[512,1024,2048,4096]):\n",
        "    \"\"\"\n",
        "    For each length in context_lengths:\n",
        "      Generate a sufficiently long prompt\n",
        "\n",
        "      Measure GPU peak memory (in MB)\n",
        "      Returns a dict: {\"512\": peak_mb, \"1024\": peak_mb, …}\n",
        "    \"\"\"\n",
        "    results = {}\n",
        "    base = \"palabra \" * max(context_lengths)\n",
        "    for L in context_lengths:\n",
        "        # Prepara el batch con truncation\n",
        "        inputs = tokenizer(base, return_tensors=\"pt\", max_length=L, truncation=True).to(device)\n",
        "        if device==\"cuda\":\n",
        "            # Resetea contadores\n",
        "            torch.cuda.reset_peak_memory_stats()\n",
        "        with torch.no_grad():\n",
        "            model.generate(**inputs, max_new_tokens=1)\n",
        "        if device==\"cuda\":\n",
        "            peak = torch.cuda.max_memory_allocated(device) / 1024**2\n",
        "        else:\n",
        "            peak = None\n",
        "        results[L] = peak\n",
        "    return results"
      ],
      "metadata": {
        "id": "oX7KWG2eEofQ"
      },
      "id": "oX7KWG2eEofQ",
      "execution_count": 9,
      "outputs": []
    },
    {
      "cell_type": "code",
      "execution_count": 10,
      "id": "ac5b98f2",
      "metadata": {
        "id": "ac5b98f2"
      },
      "outputs": [],
      "source": [
        "# Resources Benchmark (GPU y CPU)\n",
        "def benchmark_resource_usage(model, tokenizer, device, prompts):\n",
        "    \"\"\"Measures GPU and CPU utilization during inference.\"\"\"\n",
        "    data = {}\n",
        "    for p in prompts:\n",
        "        inputs = tokenizer(p, return_tensors=\"pt\").to(device)\n",
        "        if gpu_available:\n",
        "            handle = pynvml.nvmlDeviceGetHandleByIndex(0)\n",
        "            mem = pynvml.nvmlDeviceGetMemoryInfo(handle)\n",
        "            util = pynvml.nvmlDeviceGetUtilizationRates(handle)\n",
        "            power = pynvml.nvmlDeviceGetPowerUsage(handle)/1000.0\n",
        "        else:\n",
        "            mem = util = power = None\n",
        "        cpu = psutil.cpu_percent(interval=None)\n",
        "        data[p] = {\n",
        "            \"gpu_mem_used\": mem.used if mem else None,\n",
        "            \"gpu_util\": util.gpu if util else None,\n",
        "            \"gpu_power_w\": power,\n",
        "            \"cpu_util\": cpu\n",
        "        }\n",
        "    return data"
      ]
    },
    {
      "cell_type": "markdown",
      "id": "cb711211",
      "metadata": {
        "id": "cb711211"
      },
      "source": [
        "## 4. Results visualization\n",
        "This section includes functions to visually represent the results obtained during benchmarking. These visualizations allow for a more intuitive and comparative analysis of the performance of the evaluated models.\n",
        "\n",
        "The following aspects are covered:\n",
        "\n",
        "* Latency: comparison of TTFT and per-token times with percentiles.\n",
        "* Throughput: tokens per second as a function of batch size.\n",
        "* Memory usage: GPU consumption as context length increases.\n",
        "* Environmental impact: energy consumption, average power, and emissions per token.\n",
        "\n",
        "These charts help identify bottlenecks, efficiency advantages, and the real impact of techniques like structured pruning."
      ]
    },
    {
      "cell_type": "code",
      "execution_count": 11,
      "id": "91da4fc1",
      "metadata": {
        "id": "91da4fc1"
      },
      "outputs": [],
      "source": [
        "# Visualization functions.\n",
        "def plot_latency(latency, latency2=None):\n",
        "    \"\"\"\n",
        "    Draw two bar charts side by side:\n",
        "      - Left: only TTFT (ttft_mean)\n",
        "      - Right: mean_token_time and percentiles p50, p90, p99\n",
        "    If a second result (latency2) is provided, plot both sets in different colors for comparison.\n",
        "    \"\"\"\n",
        "    import numpy as np\n",
        "    import matplotlib.pyplot as plt\n",
        "\n",
        "    # Figure setup and bar width configuration\n",
        "    fig, (ax1, ax2) = plt.subplots(1, 2, figsize=(12, 4))\n",
        "    width = 0.35\n",
        "\n",
        "    # --- Chart 1: TTFT (ttft_mean) ---\n",
        "    métricas1 = [\"ttft_mean\"]\n",
        "    x1 = np.arange(len(métricas1))\n",
        "    # Result 1\n",
        "    ax1.bar(x1 - width/2, [latency[\"ttft_mean\"]], width, label=\"Result 1\", color=\"tab:blue\")\n",
        "    # Result 2 (if exists)\n",
        "    if latency2 is not None:\n",
        "        ax1.bar(x1 + width/2, [latency2[\"ttft_mean\"]], width, label=\"Result 2\", color=\"tab:orange\")\n",
        "    ax1.set_title(\"Time to First Token (TTFT)\")\n",
        "    ax1.set_ylabel(\"Seconds\")\n",
        "    ax1.set_xticks(x1)\n",
        "    ax1.set_xticklabels(métricas1)\n",
        "    ax1.tick_params(axis=\"x\", rotation=0)\n",
        "    if latency2 is not None:\n",
        "        ax1.legend()\n",
        "\n",
        "    # --- Chart 2: Mean token time + percentiles ---\n",
        "    métricas2 = [\"mean_token_time\", \"p50\", \"p90\", \"p99\"]\n",
        "    x2 = np.arange(len(métricas2))\n",
        "    # Result 1\n",
        "    ax2.bar(x2 - width/2, [latency[m] for m in métricas2], width, label=\"Result 1\", color=\"tab:blue\")\n",
        "    # Result 2 (if exists)\n",
        "    if latency2 is not None:\n",
        "        ax2.bar(x2 + width/2, [latency2[m] for m in métricas2], width, label=\"Result 2\", color=\"tab:orange\")\n",
        "    ax2.set_title(\"Mean Token Time and Percentiles\")\n",
        "    ax2.set_ylabel(\"Seconds\")\n",
        "    ax2.set_xticks(x2)\n",
        "    ax2.set_xticklabels(métricas2)\n",
        "    ax2.tick_params(axis=\"x\", rotation=0)\n",
        "    if latency2 is not None:\n",
        "        ax2.legend()\n",
        "\n",
        "    plt.tight_layout()\n",
        "    plt.show()\n",
        "\n",
        "\n",
        "def plot_throughput(results1, results2=None):\n",
        "    \"\"\"\n",
        "    Compares throughput from one or two results:\n",
        "      - Throughput (tokens/s) as bars.\n",
        "      - Use colors tab:blue and tab:orange (same as plot_latency).\n",
        "      - Annotate average prompt length for each model.\n",
        "    \"\"\"\n",
        "    # Throughput data\n",
        "    tp1 = results1[\"throughput_metrics\"]\n",
        "    batches = sorted(int(k.split('_')[1]) for k in tp1.keys())\n",
        "    x = np.arange(len(batches))\n",
        "    width = 0.35\n",
        "\n",
        "    tokens1 = [tp1[f\"batch_{b}\"][\"tokens_per_sec\"] for b in batches]\n",
        "\n",
        "    if results2:\n",
        "        tp2 = results2[\"throughput_metrics\"]\n",
        "        tokens2 = [tp2[f\"batch_{b}\"][\"tokens_per_sec\"] for b in batches]\n",
        "\n",
        "    # Plot\n",
        "    plt.figure(figsize=(8, 4))\n",
        "    plt.bar(x - width/2, tokens1, width, label=\"Model 1\", color=\"tab:blue\")\n",
        "    if results2:\n",
        "        plt.bar(x + width/2, tokens2, width, label=\"Model 2\", color=\"tab:orange\")\n",
        "    plt.xlabel(\"Batch size\")\n",
        "    plt.ylabel(\"Tokens/s\")\n",
        "    plt.title(\"Throughput vs Batch size\")\n",
        "    plt.xticks(x, batches)\n",
        "\n",
        "    # Average prompt length annotation\n",
        "    notes = []\n",
        "    m1 = results1.get(\"prompt_stats\", {}).get(\"mean_length\")\n",
        "    if m1:\n",
        "        notes.append(f\"M1 long. average prompts: {m1:.1f}\")\n",
        "    if results2:\n",
        "        m2 = results2.get(\"prompt_stats\", {}).get(\"mean_length\")\n",
        "        if m2:\n",
        "            notes.append(f\"M2 long. average prompts: {m2:.1f}\")\n",
        "    if notes:\n",
        "        plt.text(\n",
        "            0.95, 0.95,\n",
        "            \"\\n\".join(notes),\n",
        "            transform=plt.gca().transAxes,\n",
        "            ha=\"right\", va=\"top\",\n",
        "            bbox=dict(boxstyle=\"round,pad=0.3\", facecolor=\"white\", alpha=0.7)\n",
        "        )\n",
        "\n",
        "    if results2:\n",
        "        plt.legend()\n",
        "    plt.tight_layout()\n",
        "    plt.show()\n",
        "\n",
        "def plot_memory_scaling(results1, results2=None):\n",
        "    \"\"\"\n",
        "    Compares peak memory usage as a function of context length\n",
        "    for one or two sets of results.\n",
        "      Parameters:\n",
        "        results1: a 'results' dictionary with 'memory_context_metrics'\n",
        "        results2: (optional) second 'results' dictionary\n",
        "    \"\"\"\n",
        "    # Extract memory metrics by context length\n",
        "    mem1 = results1.get(\"memory_context_metrics\", {})\n",
        "    if not mem1:\n",
        "        print(\"No memory_context_metrics data found in results1.\")\n",
        "        return\n",
        "    # Order context\n",
        "    ctx1, vals1 = zip(*sorted(mem1.items()))\n",
        "\n",
        "    # Get figure ready\n",
        "    plt.figure(figsize=(6,4))\n",
        "    plt.plot(ctx1, vals1, marker=\"o\", linestyle=\"-\", label=\"Modelo 1\", color=\"tab:blue\")\n",
        "\n",
        "    # process second results\n",
        "    if results2:\n",
        "        mem2 = results2.get(\"memory_context_metrics\", {})\n",
        "        if mem2:\n",
        "            ctx2, vals2 = zip(*sorted(mem2.items()))\n",
        "            # Verificar que ctx2 coincide con ctx1 para comparar\n",
        "            if list(ctx2) != list(ctx1):\n",
        "                print(\"Warning: The context lengths in results2 differ. They will be plotted separately.\")\n",
        "            plt.plot(ctx2, vals2, marker=\"x\", linestyle=\"--\", label=\"Modelo 2\", color=\"tab:orange\")\n",
        "\n",
        "    # Labels\n",
        "    plt.title(\"Memory vs Context Length\")\n",
        "    plt.xlabel(\"Context (tokens)\")\n",
        "    plt.ylabel(\"Memory peak (MB)\")\n",
        "    plt.xticks(ctx1)\n",
        "    plt.grid(alpha=0.3)\n",
        "    plt.legend()\n",
        "    plt.tight_layout()\n",
        "    plt.show()\n",
        "\n",
        "def plot_environmental_comparison(results1, results2):\n",
        "    \"\"\"\n",
        "      Compares environmental metrics in three separate subplots:\n",
        "      - Average power (W)\n",
        "      - Energy per token (kWh)\n",
        "      - Emissions per token (kg CO₂)\n",
        "    \"\"\"\n",
        "    ei1 = results1[\"environmental_impact\"]\n",
        "    ei2 = results2[\"environmental_impact\"]\n",
        "\n",
        "    metrics = [\n",
        "        (\"avg_power_w\", \"Average power (W)\"),\n",
        "        (\"energy_per_token_kwh\", \"Energy/token (kWh)\"),\n",
        "        (\"emissions_per_token_kg\", \"Emissions/token (kg CO₂)\")\n",
        "    ]\n",
        "\n",
        "    fig, axes = plt.subplots(1, 3, figsize=(14, 4))\n",
        "\n",
        "    for ax, (key, label) in zip(axes, metrics):\n",
        "        # Extraer valores\n",
        "        v1 = ei1.get(key, 0)\n",
        "        v2 = ei2.get(key, 0)\n",
        "\n",
        "        # Dibujar barras\n",
        "        ax.bar([\"Model 1\", \"Model 2\"], [v1, v2], color=[\"tab:blue\", \"tab:orange\"])\n",
        "        ax.set_title(label)\n",
        "        ax.set_ylabel(label)\n",
        "\n",
        "        # Rotar y alinear etiquetas X\n",
        "        ax.tick_params(axis=\"x\", labelrotation=45)\n",
        "        # Alineación horizontal de cada etiqueta\n",
        "        for lbl in ax.get_xticklabels():\n",
        "            lbl.set_ha(\"right\")\n",
        "\n",
        "        # Anotar valor encima de las barras\n",
        "        for i, v in enumerate([v1, v2]):\n",
        "            texto = f\"{v:.2e}\" if abs(v) < 1e-2 else f\"{v:.2f}\"\n",
        "            ax.text(i, v * 1.01, texto, ha=\"center\", va=\"bottom\")\n",
        "\n",
        "    plt.suptitle(\"Environmental comparison per token / average power\")\n",
        "    plt.tight_layout(rect=[0, 0, 1, 0.95])\n",
        "    plt.show()"
      ]
    },
    {
      "cell_type": "markdown",
      "id": "6fafe8d1",
      "metadata": {
        "id": "6fafe8d1"
      },
      "source": [
        "## 5. Full execution and result saving\n",
        "\n",
        "This section brings together all the previous functions into a single workflow that:\n",
        "\n",
        "- Runs the various performance and environmental impact benchmarks.  \n",
        "- Collects and organizes the metrics into a single structured dictionary.  \n",
        "- Computes additional indicators such as energy per token and average power.  \n",
        "- Saves the results in a benchmark_results.json file for later analysis.  \n",
        "\n",
        "This block allows automated model evaluation with a single line of code, making it easier to systematically compare different versions or optimized variants."
      ]
    },
    {
      "cell_type": "code",
      "execution_count": 12,
      "id": "47cb0de5",
      "metadata": {
        "id": "47cb0de5"
      },
      "outputs": [],
      "source": [
        "def run_all_benchmarks(model, tokenizer, device, prompts):\n",
        "    results = {}\n",
        "    # Prompt length statistics\n",
        "    token_lengths = [len(tokenizer.encode(p)) for p in prompts]\n",
        "    results[\"prompt_stats\"] = {\n",
        "        \"lengths\": token_lengths,\n",
        "        \"mean_length\": sum(token_lengths) / len(token_lengths)\n",
        "    }\n",
        "    # 1. Prepare environmental tracking\n",
        "    env_start = time.time()\n",
        "    if codecarbon_available:\n",
        "        try:\n",
        "            # Some versions need 2-letter country codes some others 3-letter code.\n",
        "            tracker = EmissionsTracker(country_iso_code=\"ESP\")\n",
        "        except TypeError:\n",
        "            print(\"Warning: 'country_iso_code' incorrect. Using default configuration.\")\n",
        "            tracker = EmissionsTracker()\n",
        "        tracker.start()\n",
        "\n",
        "    # 2. model info.\n",
        "    results[\"model_info\"] = {\n",
        "        \"base_model\": model.config._name_or_path,\n",
        "        \"quantized\": USE_QUANTIZED,\n",
        "        \"device\": device,\n",
        "        \"torch_version\": torch.__version__,\n",
        "        \"cuda_available\": torch.cuda.is_available(),\n",
        "        \"timestamp\": time.strftime(\"%Y-%m-%dT%H:%M:%S\", time.localtime())\n",
        "    }\n",
        "\n",
        "    # 3. Run benchmarks\n",
        "    results[\"latency_metrics\"]    = benchmark_latency(model, tokenizer, device, prompts)\n",
        "    results[\"throughput_metrics\"] = benchmark_throughput(model, tokenizer, device, prompts)\n",
        "    results[\"context_metrics\"]    = benchmark_context_scaling(model, tokenizer, device)\n",
        "    results[\"resource_metrics\"]   = benchmark_resource_usage(model, tokenizer, device, prompts)\n",
        "    results[\"memory_context_metrics\"] = benchmark_memory_context_scaling(model, tokenizer, device)\n",
        "\n",
        "    # 4. Stop and collect environmental impact data\n",
        "    if codecarbon_available:\n",
        "        # tracker.stop() Returns the energy consumed in kWh (float) :contentReference[oaicite:3]{index=3}\n",
        "        energy_kwh = tracker.stop()\n",
        "        # tracker.flush() Writes to disk/API and returns emissions in kg of CO₂ :contentReference[oaicite:4]{index=4}\n",
        "        emissions_kg = tracker.flush()\n",
        "        duration = time.time() - env_start\n",
        "\n",
        "        results[\"environmental_impact\"] = {\n",
        "            \"energy_consumed_kwh\": energy_kwh,\n",
        "            \"emissions_kg\": emissions_kg,\n",
        "            \"country\": getattr(tracker, \"country_iso_code\", \"N/A\"),\n",
        "            \"duration_seconds\": duration\n",
        "        }\n",
        "\n",
        "        ei = results[\"environmental_impact\"]\n",
        "        energy_kwh   = ei[\"energy_consumed_kwh\"]\n",
        "        emissions_kg = ei[\"emissions_kg\"]\n",
        "        duration_s   = ei[\"duration_seconds\"]\n",
        "\n",
        "        # 1) Average power (W)\n",
        "        #   1 kWh = 1000 Wh, y power = Wh / (s/3600)\n",
        "        avg_power_w = (energy_kwh * 1000) / (duration_s / 3600)\n",
        "\n",
        "        # 2) Throughput total tokens generated(sum bs*50)\n",
        "        batch_sizes = [int(k.split(\"_\")[1]) for k in results[\"throughput_metrics\"].keys()]\n",
        "        total_tokens = sum(batch_sizes) * 50\n",
        "\n",
        "        # 3) Consumption per token (kWh/token) and emissions per token (kg/token)\n",
        "        energy_per_token   = energy_kwh / total_tokens\n",
        "        emissions_per_token = emissions_kg / total_tokens\n",
        "\n",
        "        # Guardar en el mismo bloque de environmental_impact\n",
        "        ei.update({\n",
        "            \"avg_power_w\": avg_power_w,\n",
        "            \"energy_per_token_kwh\": energy_per_token,\n",
        "            \"emissions_per_token_kg\": emissions_per_token\n",
        "        })\n",
        "\n",
        "\n",
        "    # 5. Guardar a JSON\n",
        "    with open(\"benchmark_results.json\", \"w\", encoding=\"utf-8\") as f:\n",
        "        json.dump(results, f, indent=4, ensure_ascii=False)\n",
        "    print(\"Results stored at benchmark_results.json\")\n",
        "    return results\n"
      ]
    },
    {
      "cell_type": "code",
      "source": [
        "# Load models and ejecution\n",
        "model, tokenizer = load_model_and_tokenizer(\"meta-llama/Llama-3.2-1B\", USE_QUANTIZED, device)\n",
        "model2, tokenizer = load_model_and_tokenizer(\"oopere/pruned40-llama-3.2-1B\", USE_QUANTIZED, device)\n",
        "prompts = example_prompts\n"
      ],
      "metadata": {
        "id": "vWmO_sNvNSHc"
      },
      "id": "vWmO_sNvNSHc",
      "execution_count": null,
      "outputs": []
    },
    {
      "cell_type": "code",
      "source": [
        "results = run_all_benchmarks(model, tokenizer, device, prompts)"
      ],
      "metadata": {
        "colab": {
          "base_uri": "https://localhost:8080/"
        },
        "id": "cYnMNj06Uepy",
        "outputId": "0cdbde85-7537-4938-a54a-f2c94739922f"
      },
      "id": "cYnMNj06Uepy",
      "execution_count": 14,
      "outputs": [
        {
          "output_type": "stream",
          "name": "stderr",
          "text": [
            "[codecarbon WARNING @ 09:08:42] Multiple instances of codecarbon are allowed to run at the same time.\n",
            "[codecarbon INFO @ 09:08:42] [setup] RAM Tracking...\n",
            "[codecarbon INFO @ 09:08:42] [setup] CPU Tracking...\n"
          ]
        },
        {
          "output_type": "stream",
          "name": "stdout",
          "text": [
            "Warning: 'country_iso_code' incorrect. Using default configuration.\n"
          ]
        },
        {
          "output_type": "stream",
          "name": "stderr",
          "text": [
            "[codecarbon WARNING @ 09:08:43] We saw that you have a Intel(R) Xeon(R) CPU @ 2.30GHz but we don't know it. Please contact us.\n",
            "[codecarbon WARNING @ 09:08:43] No CPU tracking mode found. Falling back on estimation based on TDP for CPU. \n",
            " Linux OS detected: Please ensure RAPL files exist at /sys/class/powercap/intel-rapl/subsystem to measure CPU\n",
            "\n",
            "[codecarbon INFO @ 09:08:43] CPU Model on constant consumption mode: Intel(R) Xeon(R) CPU @ 2.30GHz\n",
            "[codecarbon WARNING @ 09:08:43] No CPU tracking mode found. Falling back on CPU constant mode.\n",
            "[codecarbon INFO @ 09:08:43] [setup] GPU Tracking...\n",
            "[codecarbon INFO @ 09:08:43] Tracking Nvidia GPU via pynvml\n",
            "[codecarbon INFO @ 09:08:43] The below tracking methods have been set up:\n",
            "                RAM Tracking Method: RAM power estimation model\n",
            "                CPU Tracking Method: global constant\n",
            "                GPU Tracking Method: pynvml\n",
            "            \n",
            "[codecarbon INFO @ 09:08:43] >>> Tracker's metadata:\n",
            "[codecarbon INFO @ 09:08:43]   Platform system: Linux-6.1.123+-x86_64-with-glibc2.35\n",
            "[codecarbon INFO @ 09:08:43]   Python version: 3.11.12\n",
            "[codecarbon INFO @ 09:08:43]   CodeCarbon version: 3.0.0\n",
            "[codecarbon INFO @ 09:08:43]   Available RAM : 50.993 GB\n",
            "[codecarbon INFO @ 09:08:43]   CPU count: 8 thread(s) in 1 physical CPU(s)\n",
            "[codecarbon INFO @ 09:08:43]   CPU model: Intel(R) Xeon(R) CPU @ 2.30GHz\n",
            "[codecarbon INFO @ 09:08:43]   GPU count: 1\n",
            "[codecarbon INFO @ 09:08:43]   GPU model: 1 x Tesla T4\n",
            "[codecarbon INFO @ 09:08:43] Emissions data (if any) will be saved to file /content/emissions.csv\n",
            "A decoder-only architecture is being used, but right-padding was detected! For correct generation results, please set `padding_side='left'` when initializing the tokenizer.\n",
            "A decoder-only architecture is being used, but right-padding was detected! For correct generation results, please set `padding_side='left'` when initializing the tokenizer.\n",
            "A decoder-only architecture is being used, but right-padding was detected! For correct generation results, please set `padding_side='left'` when initializing the tokenizer.\n",
            "A decoder-only architecture is being used, but right-padding was detected! For correct generation results, please set `padding_side='left'` when initializing the tokenizer.\n",
            "Setting `pad_token_id` to `eos_token_id`:128001 for open-end generation.\n",
            "Setting `pad_token_id` to `eos_token_id`:128001 for open-end generation.\n",
            "Setting `pad_token_id` to `eos_token_id`:128001 for open-end generation.\n",
            "Setting `pad_token_id` to `eos_token_id`:128001 for open-end generation.\n",
            "Setting `pad_token_id` to `eos_token_id`:128001 for open-end generation.\n",
            "Setting `pad_token_id` to `eos_token_id`:128001 for open-end generation.\n",
            "Setting `pad_token_id` to `eos_token_id`:128001 for open-end generation.\n",
            "Setting `pad_token_id` to `eos_token_id`:128001 for open-end generation.\n",
            "[codecarbon INFO @ 09:08:58] Energy consumed for RAM : 0.000083 kWh. RAM Power : 20.0 W\n",
            "[codecarbon INFO @ 09:08:58] Delta energy consumed for CPU with constant : 0.000177 kWh, power : 42.5 W\n",
            "[codecarbon INFO @ 09:08:58] Energy consumed for All CPU : 0.000177 kWh\n",
            "[codecarbon INFO @ 09:08:58] Energy consumed for all GPUs : 0.000254 kWh. Total GPU Power : 60.93073133154665 W\n",
            "[codecarbon INFO @ 09:08:58] 0.000514 kWh of electricity used since the beginning.\n",
            "[codecarbon INFO @ 09:08:58] Energy consumed for RAM : 0.000085 kWh. RAM Power : 20.0 W\n",
            "[codecarbon INFO @ 09:08:58] Delta energy consumed for CPU with constant : 0.000003 kWh, power : 42.5 W\n",
            "[codecarbon INFO @ 09:08:58] Energy consumed for All CPU : 0.000180 kWh\n",
            "[codecarbon INFO @ 09:08:58] Energy consumed for all GPUs : 0.000258 kWh. Total GPU Power : 52.01722249917276 W\n",
            "[codecarbon INFO @ 09:08:58] 0.000523 kWh of electricity used since the beginning.\n",
            "[codecarbon INFO @ 09:08:58] Energy consumed for RAM : 0.000085 kWh. RAM Power : 20.0 W\n",
            "[codecarbon INFO @ 09:08:58] Delta energy consumed for CPU with constant : 0.000000 kWh, power : 42.5 W\n",
            "[codecarbon INFO @ 09:08:58] Energy consumed for All CPU : 0.000181 kWh\n",
            "[codecarbon INFO @ 09:08:58] Energy consumed for all GPUs : 0.000260 kWh. Total GPU Power : 384.13775548880386 W\n",
            "[codecarbon INFO @ 09:08:58] 0.000525 kWh of electricity used since the beginning.\n"
          ]
        },
        {
          "output_type": "stream",
          "name": "stdout",
          "text": [
            "Results stored at benchmark_results.json\n"
          ]
        }
      ]
    },
    {
      "cell_type": "code",
      "source": [
        "results"
      ],
      "metadata": {
        "colab": {
          "base_uri": "https://localhost:8080/"
        },
        "id": "BFZq_RE6eMT3",
        "outputId": "e14df5f3-eac0-47b6-aa1f-67e0bfe0c185"
      },
      "id": "BFZq_RE6eMT3",
      "execution_count": 15,
      "outputs": [
        {
          "output_type": "execute_result",
          "data": {
            "text/plain": [
              "{'prompt_stats': {'lengths': [7, 7, 15, 10, 12], 'mean_length': 10.2},\n",
              " 'model_info': {'base_model': 'meta-llama/Llama-3.2-1B',\n",
              "  'quantized': False,\n",
              "  'device': 'cuda',\n",
              "  'torch_version': '2.6.0+cu124',\n",
              "  'cuda_available': True,\n",
              "  'timestamp': '2025-04-19T09:08:43'},\n",
              " 'latency_metrics': {'mean_token_time': 0.027237844467163087,\n",
              "  'ttft_mean': 1.3618922233581543,\n",
              "  'p50': 0.021362671852111815,\n",
              "  'p90': 0.05069376468658447,\n",
              "  'p99': 0.05069376468658447},\n",
              " 'throughput_metrics': {'batch_1': {'tokens_per_sec': 47.655007298845454,\n",
              "   'peak_mem_mb': 4156.31005859375,\n",
              "   'gpu_util_pct': 58},\n",
              "  'batch_4': {'tokens_per_sec': 152.26674590449747,\n",
              "   'peak_mem_mb': 4187.0498046875,\n",
              "   'gpu_util_pct': 57},\n",
              "  'batch_8': {'tokens_per_sec': 331.5113518008025,\n",
              "   'peak_mem_mb': 4197.5302734375,\n",
              "   'gpu_util_pct': 62},\n",
              "  'batch_16': {'tokens_per_sec': 675.0613761989307,\n",
              "   'peak_mem_mb': 4197.5302734375,\n",
              "   'gpu_util_pct': 61},\n",
              "  'batch_32': {'tokens_per_sec': 1330.4388183060853,\n",
              "   'peak_mem_mb': 4197.5302734375,\n",
              "   'gpu_util_pct': 62}},\n",
              " 'context_metrics': {'context_512': {'latency': 0.23646211624145508,\n",
              "   'throughput': 42.29007233356927},\n",
              "  'context_1024': {'latency': 0.2832949161529541,\n",
              "   'throughput': 35.29890382713712},\n",
              "  'context_2048': {'latency': 0.3834495544433594,\n",
              "   'throughput': 26.079049731891484},\n",
              "  'context_4096': {'latency': 0.6836550235748291,\n",
              "   'throughput': 14.627260321602034}},\n",
              " 'resource_metrics': {'Hello, how are you?': {'gpu_mem_used': 5280497664,\n",
              "   'gpu_util': 95,\n",
              "   'gpu_power_w': 68.471,\n",
              "   'cpu_util': 24.0},\n",
              "  'Write a poem about spring.': {'gpu_mem_used': 5280497664,\n",
              "   'gpu_util': 95,\n",
              "   'gpu_power_w': 68.471,\n",
              "   'cpu_util': 33.3},\n",
              "  \"Summarize the plot of 'One Hundred Years of Solitude'.\": {'gpu_mem_used': 5280497664,\n",
              "   'gpu_util': 95,\n",
              "   'gpu_power_w': 68.471,\n",
              "   'cpu_util': 0.0},\n",
              "  'Give three tips for maintaining a healthy lifestyle.': {'gpu_mem_used': 5280497664,\n",
              "   'gpu_util': 95,\n",
              "   'gpu_power_w': 68.471,\n",
              "   'cpu_util': 0.0},\n",
              "  'Explain the theory of relativity in simple terms.': {'gpu_mem_used': 5280497664,\n",
              "   'gpu_util': 95,\n",
              "   'gpu_power_w': 68.471,\n",
              "   'cpu_util': 33.3}},\n",
              " 'memory_context_metrics': {512: 4196.52978515625,\n",
              "  1024: 4244.67431640625,\n",
              "  2048: 4340.96337890625,\n",
              "  4096: 4533.54150390625},\n",
              " 'environmental_impact': {'energy_consumed_kwh': 0.0001493398639754712,\n",
              "  'emissions_kg': 0.00014988403166783367,\n",
              "  'country': 'N/A',\n",
              "  'duration_seconds': 16.612079620361328,\n",
              "  'avg_power_w': 32.36340798973382,\n",
              "  'energy_per_token_kwh': 4.8963889828023346e-08,\n",
              "  'emissions_per_token_kg': 4.91423054648635e-08}}"
            ]
          },
          "metadata": {},
          "execution_count": 15
        }
      ]
    },
    {
      "cell_type": "code",
      "source": [
        "results2 = run_all_benchmarks(model2, tokenizer, device, prompts)"
      ],
      "metadata": {
        "colab": {
          "base_uri": "https://localhost:8080/"
        },
        "id": "BAe7I0aAsh_s",
        "outputId": "88fd3cfc-f0ed-49da-b023-84b5360abeaa"
      },
      "id": "BAe7I0aAsh_s",
      "execution_count": 16,
      "outputs": [
        {
          "output_type": "stream",
          "name": "stderr",
          "text": [
            "[codecarbon WARNING @ 09:08:58] Multiple instances of codecarbon are allowed to run at the same time.\n",
            "[codecarbon INFO @ 09:08:58] [setup] RAM Tracking...\n",
            "[codecarbon INFO @ 09:08:58] [setup] CPU Tracking...\n"
          ]
        },
        {
          "output_type": "stream",
          "name": "stdout",
          "text": [
            "Warning: 'country_iso_code' incorrect. Using default configuration.\n"
          ]
        },
        {
          "output_type": "stream",
          "name": "stderr",
          "text": [
            "[codecarbon WARNING @ 09:09:00] We saw that you have a Intel(R) Xeon(R) CPU @ 2.30GHz but we don't know it. Please contact us.\n",
            "[codecarbon WARNING @ 09:09:00] No CPU tracking mode found. Falling back on estimation based on TDP for CPU. \n",
            " Linux OS detected: Please ensure RAPL files exist at /sys/class/powercap/intel-rapl/subsystem to measure CPU\n",
            "\n",
            "[codecarbon INFO @ 09:09:00] CPU Model on constant consumption mode: Intel(R) Xeon(R) CPU @ 2.30GHz\n",
            "[codecarbon WARNING @ 09:09:00] No CPU tracking mode found. Falling back on CPU constant mode.\n",
            "[codecarbon INFO @ 09:09:00] [setup] GPU Tracking...\n",
            "[codecarbon INFO @ 09:09:00] Tracking Nvidia GPU via pynvml\n",
            "[codecarbon INFO @ 09:09:00] The below tracking methods have been set up:\n",
            "                RAM Tracking Method: RAM power estimation model\n",
            "                CPU Tracking Method: global constant\n",
            "                GPU Tracking Method: pynvml\n",
            "            \n",
            "[codecarbon INFO @ 09:09:00] >>> Tracker's metadata:\n",
            "[codecarbon INFO @ 09:09:00]   Platform system: Linux-6.1.123+-x86_64-with-glibc2.35\n",
            "[codecarbon INFO @ 09:09:00]   Python version: 3.11.12\n",
            "[codecarbon INFO @ 09:09:00]   CodeCarbon version: 3.0.0\n",
            "[codecarbon INFO @ 09:09:00]   Available RAM : 50.993 GB\n",
            "[codecarbon INFO @ 09:09:00]   CPU count: 8 thread(s) in 1 physical CPU(s)\n",
            "[codecarbon INFO @ 09:09:00]   CPU model: Intel(R) Xeon(R) CPU @ 2.30GHz\n",
            "[codecarbon INFO @ 09:09:00]   GPU count: 1\n",
            "[codecarbon INFO @ 09:09:00]   GPU model: 1 x Tesla T4\n",
            "[codecarbon INFO @ 09:09:00] Emissions data (if any) will be saved to file /content/emissions.csv\n",
            "A decoder-only architecture is being used, but right-padding was detected! For correct generation results, please set `padding_side='left'` when initializing the tokenizer.\n",
            "A decoder-only architecture is being used, but right-padding was detected! For correct generation results, please set `padding_side='left'` when initializing the tokenizer.\n",
            "A decoder-only architecture is being used, but right-padding was detected! For correct generation results, please set `padding_side='left'` when initializing the tokenizer.\n",
            "A decoder-only architecture is being used, but right-padding was detected! For correct generation results, please set `padding_side='left'` when initializing the tokenizer.\n",
            "Setting `pad_token_id` to `eos_token_id`:128001 for open-end generation.\n",
            "Setting `pad_token_id` to `eos_token_id`:128001 for open-end generation.\n",
            "Setting `pad_token_id` to `eos_token_id`:128001 for open-end generation.\n",
            "Setting `pad_token_id` to `eos_token_id`:128001 for open-end generation.\n",
            "Setting `pad_token_id` to `eos_token_id`:128001 for open-end generation.\n",
            "Setting `pad_token_id` to `eos_token_id`:128001 for open-end generation.\n",
            "Setting `pad_token_id` to `eos_token_id`:128001 for open-end generation.\n",
            "Setting `pad_token_id` to `eos_token_id`:128001 for open-end generation.\n",
            "[codecarbon INFO @ 09:09:13] Energy consumed for RAM : 0.000076 kWh. RAM Power : 20.0 W\n",
            "[codecarbon INFO @ 09:09:13] Delta energy consumed for CPU with constant : 0.000162 kWh, power : 42.5 W\n",
            "[codecarbon INFO @ 09:09:13] Energy consumed for All CPU : 0.000162 kWh\n",
            "[codecarbon INFO @ 09:09:13] Energy consumed for all GPUs : 0.000234 kWh. Total GPU Power : 61.57340402396222 W\n",
            "[codecarbon INFO @ 09:09:13] 0.000472 kWh of electricity used since the beginning.\n",
            "[codecarbon INFO @ 09:09:13] Energy consumed for RAM : 0.000076 kWh. RAM Power : 20.0 W\n",
            "[codecarbon INFO @ 09:09:13] Delta energy consumed for CPU with constant : 0.000000 kWh, power : 42.5 W\n",
            "[codecarbon INFO @ 09:09:13] Energy consumed for All CPU : 0.000162 kWh\n",
            "[codecarbon INFO @ 09:09:13] Energy consumed for all GPUs : 0.000234 kWh. Total GPU Power : 0.0 W\n",
            "[codecarbon INFO @ 09:09:13] 0.000472 kWh of electricity used since the beginning.\n"
          ]
        },
        {
          "output_type": "stream",
          "name": "stdout",
          "text": [
            "Results stored at benchmark_results.json\n"
          ]
        }
      ]
    },
    {
      "cell_type": "markdown",
      "source": [
        "# 6. Plot results.\n",
        "This section visualizes the benchmarking results to make comparisons more intuitive and interpretable.\n",
        "\n",
        "* Each plot focuses on a specific aspect of model performance:\n",
        "* Latency metrics: including mean token time and percentiles (P50, P90, P99)\n",
        "* Throughput vs. batch size: to identify the most efficient batch size\n",
        "* GPU memory usage: across different context lengths\n",
        "* Environmental impact: including energy per token and CO₂ emissions\n",
        "\n",
        "These plots help highlight the practical differences between the base and pruned models, not only in speed and memory consumption, but also in sustainability."
      ],
      "metadata": {
        "id": "5Ub6ZRRm_NUQ"
      },
      "id": "5Ub6ZRRm_NUQ"
    },
    {
      "cell_type": "markdown",
      "source": [
        "### Latency."
      ],
      "metadata": {
        "id": "2bCEYZXk_rhY"
      },
      "id": "2bCEYZXk_rhY"
    },
    {
      "cell_type": "code",
      "source": [
        "plot_latency(results[\"latency_metrics\"], results2[\"latency_metrics\"])"
      ],
      "metadata": {
        "colab": {
          "base_uri": "https://localhost:8080/",
          "height": 404
        },
        "id": "tym_152iURIm",
        "outputId": "0888c9cd-95ee-4568-dad6-8470ce03de84"
      },
      "id": "tym_152iURIm",
      "execution_count": 17,
      "outputs": [
        {
          "output_type": "display_data",
          "data": {
            "text/plain": [
              "<Figure size 1200x400 with 2 Axes>"
            ],
            "image/png": "[encoded data removed]"
          },
          "metadata": {}
        }
      ]
    },
    {
      "cell_type": "markdown",
      "source": [
        "This chart displays five latency metrics:\n",
        "\n",
        "**mean_token_time**: the average time it takes to generate each token (in seconds).  \n",
        "**ttft_mean**: Time To First Token, which measures the full initial overhead.  \n",
        "**p50, p90, p99**: the 50th, 90th, and 99th percentiles of per-token time.\n",
        "\n",
        "**P50 (50th percentile or median)**  \n",
        "50% of token generation times are equal to or below this value. It's a robust measure of the “typical case” and less affected by extreme outliers than the mean.\n",
        "\n",
        "**P90 (90th percentile)**  \n",
        "Indicates that 90% of token times fall below this value. This starts to reflect the “bad case,” meaning those tokens that take longer than usual but are not extreme outliers.\n",
        "\n",
        "**P99 (99th percentile)**  \n",
        "Shows that 99% of token times are equal to or below this value. It represents the worst typical case—only 1% of tokens take longer. If your application is sensitive to occasional high latencies (e.g., real-time systems), this metric is critical."
      ],
      "metadata": {
        "id": "8V4k9C1Gh6Ux"
      },
      "id": "8V4k9C1Gh6Ux"
    },
    {
      "cell_type": "markdown",
      "source": [
        "### Throughhput vs Batch Size"
      ],
      "metadata": {
        "id": "Gql8xXlT_1qz"
      },
      "id": "Gql8xXlT_1qz"
    },
    {
      "cell_type": "code",
      "source": [
        "plot_throughput(results, results2)"
      ],
      "metadata": {
        "colab": {
          "base_uri": "https://localhost:8080/",
          "height": 407
        },
        "id": "lV67gqvAh1S3",
        "outputId": "37a6a9bd-affb-4ee5-dcf9-0d1c0e2d9d7d"
      },
      "id": "lV67gqvAh1S3",
      "execution_count": 18,
      "outputs": [
        {
          "output_type": "display_data",
          "data": {
            "text/plain": [
              "<Figure size 800x400 with 1 Axes>"
            ],
            "image/png": "[encoded data removed]"
          },
          "metadata": {}
        }
      ]
    },
    {
      "cell_type": "markdown",
      "source": [
        "**Throughput vs Batch Size**  \n",
        "This chart shows the number of tokens generated per second as a function of the batch size used during generation.\n",
        "\n",
        "- At **batch=1**, all the overhead from invoking the model is applied to a single prompt, resulting in low throughput.  \n",
        "- As batch size increases, the cost of kernel launches and data transfers is better amortized, so throughput grows almost linearly up to a saturation point.  \n",
        "- With **batch=32**, the GPU is nearly fully utilized and reaches its maximum throughput. Beyond this point, memory limits or resource contention may prevent further gains.\n",
        "\n",
        "This experiment helps identify the “sweet spot” for batch size, where tokens per second are maximized without exceeding the GPU’s capacity.\n",
        "\n",
        "The chart clearly shows that performance (in tokens per second) increases as batch size grows:\n",
        "\n",
        "* At batch=1, throughput is around 50 tokens/s.  \n",
        "* At batch=4, it jumps to ≈170 tokens/s.  \n",
        "* At batch=8, it reaches ≈330 tokens/s.  \n",
        "* At batch=16, another jump to ≈660 tokens/s.  \n",
        "* Finally, at batch=32, it peaks at ≈1,300 tokens/s.\n",
        "\n",
        "In summary, each time the batch size doubles, throughput nearly doubles as well, showing an almost linear scale in this range. There are no visible inflection points—performance grows steadily up to 32 prompts per batch.\n",
        "\n",
        "### Model Comparison  \n",
        "The chart also shows that for small batch sizes, both models perform similarly, but as the batch size increases, the pruned model clearly outperforms the base model.\n",
        "\n",
        "* At batch 16, it gains ≈120 additional tokens/s (~20% more).  \n",
        "* At batch 32, the advantage increases to ≈125 tokens/s (~11% more).\n",
        "\n",
        "This indicates that “Model 2” amortizes inference costs more efficiently at larger batch sizes.\n"
      ],
      "metadata": {
        "id": "cfK9OIotvIhj"
      },
      "id": "cfK9OIotvIhj"
    },
    {
      "cell_type": "markdown",
      "source": [
        "### Plot Memory Scaling"
      ],
      "metadata": {
        "id": "nTCapNnOEFRq"
      },
      "id": "nTCapNnOEFRq"
    },
    {
      "cell_type": "code",
      "source": [
        "plot_memory_scaling(results, results2)"
      ],
      "metadata": {
        "colab": {
          "base_uri": "https://localhost:8080/",
          "height": 407
        },
        "id": "8GH6NIeFcfL_",
        "outputId": "6e71b954-1670-47a3-9b89-664804bf8a42"
      },
      "id": "8GH6NIeFcfL_",
      "execution_count": 19,
      "outputs": [
        {
          "output_type": "display_data",
          "data": {
            "text/plain": [
              "<Figure size 600x400 with 1 Axes>"
            ],
            "image/png": "[encoded data removed]"
          },
          "metadata": {}
        }
      ]
    },
    {
      "cell_type": "markdown",
      "source": [
        "This chart shows the GPU peak memory usage (in MB) measured during the generation of a single token, depending on the context length (number of prompt tokens) for two models:\n",
        "\n",
        "* The X-axis marks different context lengths: 512, 1024, 2048, and 4096 tokens.  \n",
        "* The Y-axis shows the maximum memory used in each case.\n",
        "\n",
        "Each point reflects how much GPU memory is consumed when the model processes a prompt of that length.\n",
        "\n",
        "#### Model Comparison  \n",
        "As shown, the pruned model consistently consumes less GPU memory. The gap between the two models widens as the context window becomes larger."
      ],
      "metadata": {
        "id": "oI3fKj_6J1Kt"
      },
      "id": "oI3fKj_6J1Kt"
    },
    {
      "cell_type": "markdown",
      "source": [
        "### Environmental and energy consumption data"
      ],
      "metadata": {
        "id": "ZBYcCVD8O6Uv"
      },
      "id": "ZBYcCVD8O6Uv"
    },
    {
      "cell_type": "code",
      "source": [
        "plot_environmental_comparison(results, results2)"
      ],
      "metadata": {
        "colab": {
          "base_uri": "https://localhost:8080/",
          "height": 354
        },
        "id": "IWCHBOxaEEaQ",
        "outputId": "44d24b62-8933-49c3-f0b9-309fa8e69459"
      },
      "id": "IWCHBOxaEEaQ",
      "execution_count": 20,
      "outputs": [
        {
          "output_type": "display_data",
          "data": {
            "text/plain": [
              "<Figure size 1400x400 with 3 Axes>"
            ],
            "image/png": "[encoded data removed]"
          },
          "metadata": {}
        }
      ]
    },
    {
      "cell_type": "markdown",
      "source": [
        "In this set of charts, you're looking at three different metrics that describe the energy and emissions impact of text generation:\n",
        "\n",
        "**Average power (W)**  \n",
        "Shows the average electrical power consumed by the GPU during the entire benchmarking process (i.e., how many watts it was drawing while generating tokens). It's a direct measure of the inference workload on the hardware.\n",
        "\n",
        "**Energy per token (kWh/token)**  \n",
        "Divides the total energy consumed (in kWh) by the number of tokens generated. It indicates how much energy is \"spent\" to produce a single token — the lower this value, the more energy-efficient the model is.\n",
        "\n",
        "**Emissions per token (kg CO₂/token)**  \n",
        "Converts the same per-token energy into estimated CO₂ emissions (in kilograms) using standard emission factors. This helps quantify the environmental cost of generating each token, making it easier to compare sustainability across models or configurations.\n",
        "\n",
        "Together, these charts help you understand not just GPU speed or total consumption, but also the energy and ecological cost of each unit of text produced by the model."
      ],
      "metadata": {
        "id": "z4OgfeJsPR7v"
      },
      "id": "z4OgfeJsPR7v"
    },
    {
      "cell_type": "markdown",
      "source": [
        "# Conclusions\n",
        "When developing optimized models using techniques like structured pruning, it's essential not only to evaluate performance in terms of accuracy or task-specific quality, but also to measure efficiency-related metrics such as latency, throughput, memory usage, and energy consumption.\n",
        "\n",
        "These metrics help us:\n",
        "\n",
        "* Quantify real-world inference speed improvements\n",
        "* Detect resource savings in constrained environments (e.g., edge devices or cloud services)\n",
        "* Evaluate the environmental impact of different architectures or optimization strategies\n",
        "* Make informed decisions when choosing between multiple versions of a model\n",
        "\n",
        "This notebook provides a structured and reproducible workflow to compare base models against their optimized counterparts.\n",
        "\n",
        "*Note: All experiments have been run on Google Colab, using its default hardware configuration (typically a Tesla T4 GPU). Due to resource allocation and system load, results may vary slightly between runs. For consistent benchmarking, it's recommended to repeat the process several times or use a dedicated environment.*\n",
        "\n",
        "# Authors Note.\n",
        "\n",
        "In addition to creating content like this notebook and offering it under the MIT license, I have also contributed to repositories such as those of Hugging Face and Google Gemini.\n",
        "\n",
        "I am especially proud of my book: [Large Language Models: Apply and Implement Strategies for Large Language Models (Apress)](https://amzn.to/3DSepLb).\n",
        "\n",
        "You can find it on both [Amazon](https://amzn.to/3DSepLb) and [Springer](https://link.springer.com/book/10.1007/979-8-8688-0515-8), where they often have good deals on the purchase price.\n",
        "\n",
        "If you take a look and end up purchasing it, keep in mind that you can reach out with any questions via the Discussions section of this same repository or on any of my social media channels. I’ll do my best to respond as quickly as possible.\n",
        "\n",
        "🚀 If you'd like to stay updated on my work, or even discuss some ideas, feel free to connect with me on [LinkedIn](https://www.linkedin.com/in/pere-martra/) or follow me on [X (Twitter)](https://x.com/PereMartra). I regularly share new tools, techniques, and insights on LLMs and AI optimization.🚀\n"
      ],
      "metadata": {
        "id": "LBKigKQrArgK"
      },
      "id": "LBKigKQrArgK"
    },
    {
      "cell_type": "code",
      "source": [],
      "metadata": {
        "id": "Lybaj0vlB0QM"
      },
      "id": "Lybaj0vlB0QM",
      "execution_count": 20,
      "outputs": []
    }
  ],
  "metadata": {
    "colab": {
      "provenance": [],
      "machine_shape": "hm",
      "gpuType": "T4",
      "include_colab_link": true
    },
    "language_info": {
      "name": "python"
    },
    "kernelspec": {
      "name": "python3",
      "display_name": "Python 3"
    },
    "accelerator": "GPU"
  },
  "nbformat": 4,
  "nbformat_minor": 5
}