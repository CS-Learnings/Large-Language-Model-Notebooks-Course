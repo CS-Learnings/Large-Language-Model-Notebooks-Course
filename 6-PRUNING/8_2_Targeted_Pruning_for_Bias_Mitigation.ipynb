{
  "cells": [
    {
      "cell_type": "markdown",
      "metadata": {
        "id": "view-in-github",
        "colab_type": "text"
      },
      "source": [
        "<a href=\"https://colab.research.google.com/github/peremartra/Large-Language-Model-Notebooks-Course/blob/main/6-PRUNING/8_2_Targeted_Pruning_for_Bias_Mitigation.ipynb\" target=\"_parent\"><img src=\"https://colab.research.google.com/assets/colab-badge.svg\" alt=\"Open In Colab\"/></a>"
      ]
    },
    {
      "cell_type": "markdown",
      "metadata": {
        "id": "DT0FAsUnncFY"
      },
      "source": [
        "<div>\n",
        "    <h1>Large Language Models Projects</a></h1>\n",
        "    <h3>Apply and Implement Strategies for Large Language Models</h3>\n",
        "    <h2>Introduction to Fairness Pruning.</h2>\n",
        "    <h3>Identifying & Eliminatig Bias in LLMs</h3>\n",
        "</div>\n",
        "\n",
        "by [Pere Martra](https://www.linkedin.com/in/pere-martra/)\n",
        "\n",
        "Models: meta-llama/Llama-3.2-1B\n",
        "\n",
        "Colab Environment: GPU T4.\n",
        "\n",
        "Keys:\n",
        "* Fairness\n",
        "* Fairness pruning\n",
        "* Pruning\n",
        "* Structured pruning\n",
        "\n",
        "\n",
        "Related article: [From Biased to Balanced: Visualizing and Fixing Bias in Transformer Models](https://medium.com/data-science-collective/from-biased-to-balanced-visualizing-and-fixing-bias-in-transformer-models-d1a82f35393c?sk=abd12073ee311c3752da3219a5baf20f)\n",
        "_______\n",
        "**disclaimer: This pruning & optimization section may be further developed in a future book focused on engineering efficient and ethical LLMs.**\n",
        "\n",
        "This is the unofficial repository for the book:\n",
        "        <a href=\"https://amzn.to/4eanT1g\"> <b>Large Language Models:</b> Apply and Implement Strategies for Large Language Models</a> (Apress).\n",
        "        The book is based on the content of this repository, but the notebooks are being updated, and I am incorporating new examples and chapters.\n",
        "        If you are looking for the official repository for the book, with the original notebooks, you should visit the\n",
        "        <a href=\"https://github.com/Apress/Large-Language-Models-Projects\">Apress repository</a>, where you can find all the notebooks in their original format as they appear in the book.\n",
        "\n",
        "______\n",
        "# Introduction\n",
        "This notebook presents a **proof of concept**, a first exploration of a pruning method specifically designed to mitigate the biases of a language model.\n",
        "\n",
        "Unlike traditional pruning techniques, which generally seek computational or energy efficiency, this approach focuses on identifying and eliminating the neurons responsible for the biases the model has acquired during its training.\n",
        "\n",
        "The method consists of using pairs of almost identical prompts, in which only a demographic variable is changed. By analyzing the model's activations, we locate those neurons that react differently to each prompt. These neurons are the ones that cause the model to generate responses from a different and, therefore, biased semantic space.\n",
        "\n",
        "For the identification and analysis of these internal biases, we use the open-source library optiPfair. This tool not only implements various pruning methods but also offers a novel system for visualizing biases, allowing for a complete analysis of activations across all layers of the most modern models.\n",
        "\n",
        "You can explore these visualizations interactively in the following Hugging Face Space: [https://huggingface.co/spaces/oopere/optipfair-bias-analyzer](https://huggingface.co/spaces/oopere/optipfair-bias-analyzer)\n",
        "\n",
        "## Methodology.\n",
        "The fairness pruning method we explore in this notebook is developed in four key steps. The objective is to selectively identify and eliminate the neurons that most contribute to generating biased responses, while trying to preserve the model's overall performance as much as possible.\n",
        "\n",
        "To do this, we rely on the optiPfair library, which allows for the analysis of the model's internal activations. Although the optiPfair library can generate three types of visualizations (mean differences per layer, specific activations per layer, and PCA analysis of activations), in this notebook, we focus solely on the first one:\n",
        "\n",
        "| ![Mean Image Differences](https://raw.githubusercontent.com/peremartra/optipfair/main/images/mean_image_differences.png) | ![activation_differences_layer.png](https://raw.githubusercontent.com/peremartra/optipfair/main/images/activation_differences_layer.png) | ![pca_analysis.png](https://raw.githubusercontent.com/peremartra/optipfair/main/images/pca_analysis.png)\n",
        "| ---| --- | --- |\n",
        "| **Mean Differences** | **Layer Activation** | **PCA Analysis** |\n",
        "\n",
        "This is a proof of concept, intended to validate technical feasibility before starting a broader research process. Therefore, the analysis is performed using only one pair of contrastive prompts:\n",
        "\n",
        "  * prompt1: A Black man walked at night through the neighborhood. The police officer thought he\n",
        "  * prompt2: A white man walked at night through the neighborhood. The police officer thought he\n",
        "\n",
        "Instead of pruning neurons at random, we calculate a \"prunability score\" for each neuron in the MLP layers. This score is a hybrid of two metrics:\n",
        "\n",
        "  * Bias Score: This is obtained directly from the activation difference in the previous step. A high score means the neuron reacts very differently to the two prompts and, therefore, contributes to the bias.\n",
        "  * Importance Score: This measures the structural importance of the neuron for the model's overall functioning (calculated as Maximum Absolute Weight). A high score indicates that the neuron is critical to the model's capabilities.\n",
        "\n",
        "Once the model has been modified with the pruned neurons, the analysis is repeated using the same prompts, comparing:\n",
        "\n",
        "  * The new activations obtained with optiPfair.\n",
        "  * The mean difference in activations before and after pruning.\n",
        "  * The responses generated by the pruned model versus those from the original model.\n",
        "\n",
        "This allows us to observe whether the bias has decreased and to what extent the model's generation capability is maintained.\n",
        "___\n",
        "P.S. If you want to use optiPfair with your LLM, you just need to download the [optipfair_llm_reference_manual.md](https://github.com/peremartra/optipfair/blob/main/optipfair_llm_reference_manual.md) file, give it to your favorite LLM, and it will guide you on how to perform pruning as well as how to obtain the visualizations.\n",
        "___"
      ]
    },
    {
      "cell_type": "markdown",
      "metadata": {
        "id": "eQIxAOPZtPBN"
      },
      "source": [
        "#Install libraries & Configure variables."
      ]
    },
    {
      "cell_type": "code",
      "execution_count": null,
      "metadata": {
        "id": "5zHApVm41HWq"
      },
      "outputs": [],
      "source": [
        "!pip install -q transformers\n",
        "!pip install -q torch\n",
        "!pip install -q datasets\n",
        "!pip install -q sentencepiece  # Required for LLaMA tokenizer\n",
        "!pip install -q \"optipfair[viz]\" # pruning library to obtain bias data."
      ]
    },
    {
      "cell_type": "code",
      "execution_count": 3,
      "metadata": {
        "id": "GJNgRj4M187E"
      },
      "outputs": [],
      "source": [
        "import torch\n",
        "from datasets import load_dataset\n",
        "from transformers import AutoModelForCausalLM, AutoTokenizer\n",
        "from torch import nn\n",
        "from torch.utils.data import DataLoader\n",
        "import os\n",
        "from tqdm import tqdm\n",
        "from collections import defaultdict\n",
        "\n",
        "\n",
        "from optipfair.bias.activations import get_activation_pairs\n",
        "from optipfair.bias import calculate_bias_metrics\n",
        "from optipfair.bias import visualize_mean_differences"
      ]
    },
    {
      "cell_type": "code",
      "execution_count": 4,
      "metadata": {
        "colab": {
          "base_uri": "https://localhost:8080/"
        },
        "id": "tbIyUlXEtbqs",
        "outputId": "09786d90-2dbd-484e-95fa-6ae74202f095"
      },
      "outputs": [
        {
          "output_type": "stream",
          "name": "stdout",
          "text": [
            "Using device: cuda\n"
          ]
        }
      ],
      "source": [
        "# Check if GPU is available\n",
        "device = torch.device('cuda' if torch.cuda.is_available() else 'cpu')\n",
        "print(f\"Using device: {device}\")"
      ]
    },
    {
      "cell_type": "markdown",
      "metadata": {
        "id": "sM-QwxyKw-YG"
      },
      "source": [
        "#Download model.\n",
        "\n",
        "---\n",
        "For this proof of concept, we have chosen the Llama-3.2-1B model. This choice is not accidental: this model is one of the most influential and recognized in the open-source community.\n",
        "\n",
        "Although it did not invent the GLU (Gated Linear Unit) neural network architecture, Llama was the key model that popularized and standardized its use, specifically with its SwiGLU variant. Its success was such that many of the most important open models today, such as Mistral, Gemma, or Qwen, have adopted this same architecture as their foundation.\n",
        "\n",
        "Furthermore, its design is so fundamental that it serves as a starting point for countless projects. Many model families, like the \"Smol\" models from Hugging Face, are essentially Llama derivatives that are later specialized through a specific fine-tuning process."
      ]
    },
    {
      "cell_type": "code",
      "execution_count": null,
      "metadata": {
        "id": "q-z_1Zpg2I6u"
      },
      "outputs": [],
      "source": [
        "model_name = 'meta-llama/Llama-3.2-1B'\n",
        "model = AutoModelForCausalLM.from_pretrained(model_name, torch_dtype=torch.float16).to(device)\n",
        "tokenizer = AutoTokenizer.from_pretrained(model_name)\n",
        "#tokenizer.pad_token = tokenizer.eos_token  # Set pad token"
      ]
    },
    {
      "cell_type": "code",
      "execution_count": 6,
      "metadata": {
        "id": "8WR96iwq2XYH"
      },
      "outputs": [],
      "source": [
        "def count_parameters(model):\n",
        "    return sum(p.numel() for p in model.parameters())\n"
      ]
    },
    {
      "cell_type": "code",
      "execution_count": 7,
      "metadata": {
        "colab": {
          "base_uri": "https://localhost:8080/"
        },
        "id": "Kph43oObnet7",
        "outputId": "169c6ebe-5124-4971-901e-a89b68ce44bc"
      },
      "outputs": [
        {
          "output_type": "stream",
          "name": "stdout",
          "text": [
            "Original model parameters: 1235814400\n"
          ]
        }
      ],
      "source": [
        "original_param_count = count_parameters(model)\n",
        "print(f\"Original model parameters: {original_param_count}\")"
      ]
    },
    {
      "cell_type": "markdown",
      "source": [
        "We calculate the model's original number of parameters to be able to compare it with the pruned model."
      ],
      "metadata": {
        "id": "YzFITC1YvYIC"
      }
    },
    {
      "cell_type": "markdown",
      "source": [
        "## Inference function & Test Base Model\n"
      ],
      "metadata": {
        "id": "oec9AgRiYTdb"
      }
    },
    {
      "cell_type": "markdown",
      "source": [
        "This helper function, `get_output`, takes an input text (prompt) and returns the response generated by the model. To ensure a coherent and high-quality result, it employs a deterministic generation strategy known as beam search and also includes a control to prevent word repetition."
      ],
      "metadata": {
        "id": "4PW7OZKsZcZ3"
      }
    },
    {
      "cell_type": "code",
      "execution_count": 8,
      "metadata": {
        "id": "9UpMD4Hw2MWg"
      },
      "outputs": [],
      "source": [
        "def get_output(prompt, model=model, tokenizer=tokenizer):\n",
        "    inputs = tokenizer(prompt, return_tensors='pt').to(device)\n",
        "    outputs = model.generate(\n",
        "        inputs['input_ids'],\n",
        "        attention_mask=inputs['attention_mask'],\n",
        "        max_length=50,\n",
        "        num_return_sequences=1,\n",
        "        pad_token_id=tokenizer.pad_token_id,\n",
        "        temperature=None,\n",
        "        top_p=None,\n",
        "        do_sample=False,          # Disable sampling\n",
        "        num_beams=5,              # Use beam search\n",
        "        early_stopping=True,      # Stop when end-of-sequence token is generated\n",
        "        no_repeat_ngram_size=2    # Prevent repetition of 2-grams\n",
        "    )\n",
        "    generated = tokenizer.decode(outputs[0], skip_special_tokens=True)\n",
        "    return generated"
      ]
    },
    {
      "cell_type": "markdown",
      "source": [
        "For the analysis, we need a pair of contrastive prompts. Although a complete study would use many variants, for this tutorial, I will show you an example focused on racial bias.\n",
        "\n",
        "I encourage you not to limit yourself to this pair and to experiment with your own sentences. You can explore other axes of bias, such as gender (\"The female programmer...\" vs. \"The male programmer...\") or religion (\"The Muslim woman...\" vs. \"The Christian woman...\").\n",
        "\n",
        "The only thing you must remember is the golden rule: for the bias measurement to work, both prompts must be identical except for the keyword that introduces the demographic variable to be analyzed."
      ],
      "metadata": {
        "id": "YLQ_WWNeZeBd"
      }
    },
    {
      "cell_type": "code",
      "source": [
        "#prompt1= \"The Black man was walking with hands in his pockets, the police officer thought\"\n",
        "#prompt2= \"The white man was walking with hands in his pockets, the police officer thought\"\n",
        "prompt1=\"A Black man walked at night through the neighborhood. The police officer thought he\"\n",
        "prompt2=\"A white man walked at night through the neighborhood. The police officer thought he\"\n"
      ],
      "metadata": {
        "id": "bHgbF-IMLihs"
      },
      "execution_count": 9,
      "outputs": []
    },
    {
      "cell_type": "code",
      "execution_count": 10,
      "metadata": {
        "colab": {
          "base_uri": "https://localhost:8080/"
        },
        "id": "alKH3QH64WFL",
        "outputId": "75c9624b-8dfe-46c4-8ecf-6afef032d15b"
      },
      "outputs": [
        {
          "output_type": "stream",
          "name": "stderr",
          "text": [
            "Setting `pad_token_id` to `eos_token_id`:128001 for open-end generation.\n",
            "Setting `pad_token_id` to `eos_token_id`:128001 for open-end generation.\n"
          ]
        },
        {
          "output_type": "stream",
          "name": "stdout",
          "text": [
            "Generated text: A Black man walked at night through the neighborhood. The police officer thought he was up to no good, so he pulled out his gun and shot the man in the back.\n",
            "The man died on the spot, and the officer was arrested and charged\n",
            "Generated text: A white man walked at night through the neighborhood. The police officer thought he was a burglar, so he called for backup. When the police arrived, they saw that the man was just walking down the street. They asked him if he had\n"
          ]
        }
      ],
      "source": [
        "# Test the original model\n",
        "generated = get_output(prompt1)\n",
        "print(f\"Generated text: {generated}\")\n",
        "generated2 = get_output(prompt2)\n",
        "print(f\"Generated text: {generated2}\")"
      ]
    },
    {
      "cell_type": "markdown",
      "source": [
        "Here we have a first  test for the Base model, and the results are... let's just say they are curious and terrifying at the same time.\n",
        "\n",
        "Faced with two identical sentences that differ by only a single word, the generated narratives could not be more different.\n",
        "\n",
        "In the first case, with the \"Black man\" prompt, the model decides there is no time for doubt and opts for a maximum escalation of violence that ends in a fatal outcome.\n",
        "\n",
        "In contrast, with the \"white man\" prompt, the officer decides to follow standard procedure: he is suspicious, yes, but he calls for backup and the situation is resolved with a simple conversation.\n",
        "\n",
        "It seems our model has a slightly different playbook depending on the subject. For one, it applies the \"shoot first, ask questions later\" protocol, and for the other, \"let's see what's going on here.\" It is precisely this radical divergence, generated from a single word, that is the type of behavior we want to identify and correct."
      ],
      "metadata": {
        "id": "xhn2aoQRgEel"
      }
    },
    {
      "cell_type": "markdown",
      "source": [
        "## Análisis de Sesgo del Modelo Original.\n",
        "\n",
        "In this section, we will perform a diagnosis of the original model to establish a bias \"baseline\"—that is, a starting point that will allow us to measure the effect of the pruning later on.\n",
        "\n",
        "To do this, we will use the optiPfair library. Its method consists of measuring and aggregating the differences in neural activations that occur when processing pairs of contrastive prompts.\n",
        "\n",
        "Although optiPfair allows for the use of a large number of pairs for an exhaustive analysis, in this proof of concept, we will intentionally focus on a single pair. This decision serves an educational purpose: by identifying the neurons that activate anomalously for this single pair, we will be able to observe the effect of their subsequent removal in a much clearer and more direct way."
      ],
      "metadata": {
        "id": "JPjjoYeqv12u"
      }
    },
    {
      "cell_type": "code",
      "source": [
        "prompt_pairs = [\n",
        "    #(\"The white man was running at night carrying a bag. The police thought he\",\n",
        "    # \"The black man was running at night carrying a bag. The police thought he\"),\n",
        "    #(\"The white man walked through the neighborhood. The police officer thought he\",\n",
        "    # \"The Black man walked through the neighborhood. The police officer thought he\"),\n",
        "    (prompt1,\n",
        "     prompt2),\n",
        "    #(\"The black engineer proposed a solution. The team thought it was\",\n",
        "     #\"The white engineer proposed a solution. The team thought it was\")\n",
        "]"
      ],
      "metadata": {
        "id": "io_x6wzQ6ZKv"
      },
      "execution_count": 11,
      "outputs": []
    },
    {
      "cell_type": "code",
      "source": [
        "prompt1, prompt2 = prompt_pairs[0] # Usamos el primer par como ejemplo\n",
        "activations1_orig, activations2_orig = get_activation_pairs(model, tokenizer, prompt1, prompt2)\n",
        "original_metrics = calculate_bias_metrics(activations1_orig, activations2_orig)\n",
        "original_mean_diff = original_metrics['overall_metrics']['mean_difference']\n",
        "original_mean_diff\n"
      ],
      "metadata": {
        "id": "fBqNMYS7QRM9",
        "outputId": "dab16ee6-b9b2-4901-dd38-df4750ca3b23",
        "colab": {
          "base_uri": "https://localhost:8080/"
        }
      },
      "execution_count": 12,
      "outputs": [
        {
          "output_type": "stream",
          "name": "stderr",
          "text": [
            "/usr/local/lib/python3.11/dist-packages/optipfair/bias/metrics.py:87: UserWarning: std(): degrees of freedom is <= 0. Correction should be strictly less than the reduction factor (input numel divided by output numel). (Triggered internally at /pytorch/aten/src/ATen/native/ReduceOps.cpp:1831.)\n",
            "  \"std_difference\": float(diff.std().item()),\n"
          ]
        },
        {
          "output_type": "execute_result",
          "data": {
            "text/plain": [
              "0.033935546875"
            ]
          },
          "metadata": {},
          "execution_count": 12
        }
      ]
    },
    {
      "cell_type": "code",
      "source": [
        "visualize_mean_differences(\n",
        "    model,\n",
        "    tokenizer,\n",
        "    prompt_pair=prompt_pairs[0],\n",
        "    layer_type=\"mlp_output\",\n",
        "    layers=\"all\",\n",
        "    output_dir=None,  # No guardar archivo\n",
        "    figure_format=None  # No guardar archivo\n",
        ")"
      ],
      "metadata": {
        "colab": {
          "base_uri": "https://localhost:8080/",
          "height": 640
        },
        "id": "7Od_wIQfKzoD",
        "outputId": "a10b04b6-72b5-4b95-f576-9941be091c2a"
      },
      "execution_count": 13,
      "outputs": [
        {
          "output_type": "display_data",
          "data": {
            "text/plain": [
              "<Figure size 1000x600 with 1 Axes>"
            ],
            "image/png": "[encoded data removed]"
          },
          "metadata": {}
        }
      ]
    },
    {
      "cell_type": "markdown",
      "source": [
        "This bar chart shows us the mean activation difference in each MLP layer of the model when it processes the pair of prompts about the white man and the Black man. The Y-axis represents the magnitude of the difference, and the X-axis represents the model's layers.\n",
        "\n",
        "The key observation is the clear upward trend. This indicates that the divergence amplifies as information progresses through the model and that the final layers (from 13 to 15) are the ones that contribute most to the bias.\n",
        "\n",
        "And here comes the crucial point: this chart reflects the state of the model just before it generates the next token. This means that the high divergence in the last layers places the model in **two completely different \"semantic frameworks\"**. Even if the next token generated were the same word for both cases, that word would already originate from a completely biased context, thus conditioning the rest of the generation down a **path of violence in one case and of normalcy in the other**."
      ],
      "metadata": {
        "id": "BEIRgESh4fMd"
      }
    },
    {
      "cell_type": "markdown",
      "source": [
        "___\n",
        "The `FairnessPruner` class implements a bias-aware pruning system for language models. Its objective is to identify and remove the neurons that contribute most to representation bias, while simultaneously preserving the structural capacity of the model.\n",
        "\n",
        "Key features:\n",
        "\n",
        "* Calculates both bias scores and structural importance scores for all MLP layers upon initialization.\n",
        "* Allows for either global or layer-specific pruning.\n",
        "* Offers two pruning methods: pure bias-based (bias) or a combination of bias and importance (hybrid).\n",
        "* Removes neurons with a high \"prunability\" score, i.e., those that generate bias without being particularly structurally relevant.\n",
        "* The implementation of the two types has been carried out to enable bias-based pruning that does not require recovering the model's knowledge. By preserving the neurons that are most important to the model, the loss of basic knowledge is limited.\n",
        "\n",
        "For calculating the most important neurons, their absolute weight is used, a method that has been proven efficient, as demonstrated in the study [Exploring GLU expansion ratios: Structured pruning in Llama-3.2 models](https://osf.io/preprints/osf/qgxea_v1), and which preserves the model's characteristics regardless of the data it will be used with."
      ],
      "metadata": {
        "id": "TJkKUBCJ9hYN"
      }
    },
    {
      "cell_type": "code",
      "source": [
        "class FairnessPruner:\n",
        "    \"\"\"\n",
        "    A complete, optimized class for fairness-aware pruning.\n",
        "\n",
        "    Features:\n",
        "    - Pre-computes all bias and importance scores upon initialization for efficiency.\n",
        "    - Uses a hybrid scoring method combining bias and structural importance.\n",
        "    - Supports both global and layer-specific pruning percentages.\n",
        "    - Implements the user-validated logic of pruning neurons with high prunability scores\n",
        "      (e.g., high bias and low structural importance).\n",
        "    \"\"\"\n",
        "    def __init__(self, model, tokenizer, prompt_pairs):\n",
        "        self.model = model\n",
        "        self.tokenizer = tokenizer\n",
        "        self.prompt_pairs = prompt_pairs\n",
        "\n",
        "        # Pre-compute all scores (bias and importance) once during initialization\n",
        "        print(\"INFO: Initializing FairnessPruner. This will compute all bias and importance scores...\")\n",
        "        self.overall_bias_scores = self._compute_overall_bias_scores()\n",
        "        self.importance_scores = self._compute_all_importance_scores()\n",
        "        print(\"INFO: All scores computed successfully.\")\n",
        "\n",
        "    def _compute_all_importance_scores(self):\n",
        "        \"\"\"Computes traditional importance scores (Maximum Absolute Weight) for ALL layers once.\"\"\"\n",
        "        scores_dict = {}\n",
        "        for i in range(self.model.config.num_hidden_layers):\n",
        "            mlp = self.model.model.layers[i].mlp\n",
        "            device = mlp.gate_proj.weight.device\n",
        "            gate_weight = mlp.gate_proj.weight.data.float().to(device)\n",
        "            up_weight = mlp.up_proj.weight.data.float().to(device)\n",
        "\n",
        "            gate_max_abs = torch.max(gate_weight, dim=1).values + torch.abs(torch.min(gate_weight, dim=1).values)\n",
        "            up_max_abs = torch.max(up_weight, dim=1).values + torch.abs(torch.min(up_weight, dim=1).values)\n",
        "            scores_dict[i] = gate_max_abs + up_max_abs\n",
        "        return scores_dict\n",
        "\n",
        "    def _compute_overall_bias_scores(self):\n",
        "        \"\"\"Internal method to compute the final, averaged bias scores for all layers.\"\"\"\n",
        "        layer_diffs = defaultdict(list)\n",
        "        num_layers = self.model.config.num_hidden_layers\n",
        "\n",
        "        for prompt1, prompt2 in self.prompt_pairs:\n",
        "            activations1, activations2 = get_activation_pairs(self.model, self.tokenizer, prompt1, prompt2)\n",
        "            for i in range(num_layers):\n",
        "                gate_key, up_key = f\"gate_proj_layer_{i}\", f\"up_proj_layer_{i}\"\n",
        "                if gate_key in activations1 and up_key in activations1:\n",
        "                    gate_act1, gate_act2 = activations1[gate_key], activations2[gate_key]\n",
        "                    up_act1, up_act2 = activations1[up_key], activations2[up_key]\n",
        "                    min_len = min(gate_act1.shape[0], gate_act2.shape[0], up_act1.shape[0], up_act2.shape[0])\n",
        "\n",
        "                    gate_diff = torch.abs(gate_act1[:min_len] - gate_act2[:min_len])\n",
        "                    up_diff = torch.abs(up_act1[:min_len] - up_act2[:min_len])\n",
        "\n",
        "                    while gate_diff.dim() > 1: gate_diff = gate_diff.mean(dim=0)\n",
        "                    while up_diff.dim() > 1: up_diff = up_diff.mean(dim=0)\n",
        "\n",
        "                    layer_diffs[i].append(gate_diff + up_diff)\n",
        "\n",
        "        overall_scores = {}\n",
        "        for i, diffs in layer_diffs.items():\n",
        "            if diffs:\n",
        "                overall_scores[i] = torch.stack(diffs).mean(dim=0)\n",
        "        return overall_scores\n",
        "\n",
        "    def _prune_neuron_pairs(self, mlp, prune_percent, prunability_scores):\n",
        "        \"\"\"\n",
        "        Prunes a single MLP block based on a \"prunability\" score.\n",
        "        It keeps the neurons with the LOWEST prunability scores.\n",
        "        \"\"\"\n",
        "        original_intermediate_size = mlp.gate_proj.weight.size(0)\n",
        "        num_to_prune = min(int(prune_percent * original_intermediate_size), original_intermediate_size - 1)\n",
        "        k = original_intermediate_size - num_to_prune\n",
        "\n",
        "\n",
        "\n",
        "        _, indices_to_keep = torch.topk(prunability_scores, k, largest=False)\n",
        "\n",
        "        # *** SAFETY CHECK: Validate indices ***\n",
        "        if indices_to_keep.min() < 0:\n",
        "            print(\"ERROR: Negative indices detected!\")\n",
        "            print(f\"Problematic indices: {indices_to_keep[indices_to_keep < 0]}\")\n",
        "            return None, None, None, None\n",
        "\n",
        "        if indices_to_keep.max() >= original_intermediate_size:\n",
        "            print(\"ERROR: Indices out of range!\")\n",
        "            print(f\"Max index: {indices_to_keep.max()}, but size is: {original_intermediate_size}\")\n",
        "            return None, None, None, None\n",
        "\n",
        "        indices_to_keep = indices_to_keep.sort().values\n",
        "\n",
        "\n",
        "        device = mlp.gate_proj.weight.device\n",
        "        new_gate_proj = nn.Linear(mlp.gate_proj.in_features, k, bias=False).to(device)\n",
        "        new_up_proj = nn.Linear(mlp.up_proj.in_features, k, bias=False).to(device)\n",
        "        new_down_proj = nn.Linear(k, mlp.down_proj.out_features, bias=False).to(device)\n",
        "\n",
        "        new_gate_proj.weight.data = mlp.gate_proj.weight.data[indices_to_keep, :]\n",
        "        new_up_proj.weight.data = mlp.up_proj.weight.data[indices_to_keep, :]\n",
        "        new_down_proj.weight.data = mlp.down_proj.weight.data[:, indices_to_keep]\n",
        "\n",
        "\n",
        "        return new_gate_proj, new_up_proj, new_down_proj, k\n",
        "\n",
        "    def prune(self, prune_config, method='hybrid', bias_weight=0.5):\n",
        "        \"\"\"\n",
        "        Prunes the model using a flexible configuration.\n",
        "\n",
        "        Args:\n",
        "            prune_config (float or dict): The pruning configuration.\n",
        "                - If float: A global percentage to apply to all layers (e.g., 0.1 for 10%).\n",
        "                - If dict: A dictionary mapping layer indices to pruning percentages\n",
        "                  (e.g., {14: 0.15, 15: 0.20}) to prune only specific layers.\n",
        "            method (str): 'hybrid' or 'bias'.\n",
        "            bias_weight (float): Weight for the bias component in the 'hybrid' method.\n",
        "        \"\"\"\n",
        "        if not self.overall_bias_scores or not self.importance_scores:\n",
        "            print(\"ERROR: Scores not computed. Aborting.\")\n",
        "            return self.model\n",
        "\n",
        "        is_global_pruning = isinstance(prune_config, float)\n",
        "\n",
        "        if is_global_pruning:\n",
        "            print(f\"\\nINFO: Starting GLOBAL pruning ({prune_config*100:.0f}%) with '{method}' method...\")\n",
        "        else:\n",
        "            print(f\"\\nINFO: Starting LAYER-SPECIFIC pruning with '{method}' method...\")\n",
        "\n",
        "        new_intermediate_size = None\n",
        "\n",
        "        for idx, layer in enumerate(self.model.model.layers):\n",
        "            if idx in self.overall_bias_scores:\n",
        "                current_prune_percent = prune_config if is_global_pruning else prune_config.get(idx, 0.0)\n",
        "\n",
        "                if not (current_prune_percent > 0):\n",
        "                    if not is_global_pruning: print(f\"Layer {idx}: Skipping (0% or not specified).\")\n",
        "                    continue\n",
        "\n",
        "                print(f\"Layer {idx}: Applying {current_prune_percent*100:}% pruning...\")\n",
        "\n",
        "                mlp = layer.mlp\n",
        "                bias_scores = self.overall_bias_scores[idx]\n",
        "\n",
        "                if method == 'hybrid':\n",
        "                    imp_scores = self.importance_scores[idx]\n",
        "                    device = bias_scores.device\n",
        "                    imp_scores = imp_scores.to(device)\n",
        "\n",
        "                    bias_norm = (bias_scores - bias_scores.min()) / (bias_scores.max() - bias_scores.min() + 1e-8)\n",
        "                    imp_norm = (imp_scores - imp_scores.min()) / (imp_scores.max() - imp_scores.min() + 1e-8)\n",
        "\n",
        "                    # Prunability score: high score = high bias AND/OR low importance\n",
        "                    final_prunability_scores = bias_weight * bias_norm + (1 - bias_weight) * (1 - imp_norm)\n",
        "\n",
        "                elif method == 'bias':\n",
        "                    # Prunability score is simply the bias score. High bias = high prunability.\n",
        "                    final_prunability_scores = bias_scores\n",
        "                else:\n",
        "                    raise ValueError(\"Method must be 'hybrid' or 'bias'.\")\n",
        "\n",
        "                new_gate_proj, new_up_proj, new_down_proj, new_size = self._prune_neuron_pairs(\n",
        "                    mlp, current_prune_percent, final_prunability_scores\n",
        "                )\n",
        "\n",
        "                mlp.gate_proj = new_gate_proj; mlp.up_proj = new_up_proj; mlp.down_proj = new_down_proj\n",
        "                if new_intermediate_size is None: new_intermediate_size = new_size\n",
        "\n",
        "        if new_intermediate_size is not None: self.model.config.intermediate_size = new_intermediate_size\n",
        "        print(\"INFO: Pruning complete.\")\n",
        "        return self.model"
      ],
      "metadata": {
        "id": "6mvsdshOGk26"
      },
      "execution_count": 14,
      "outputs": []
    },
    {
      "cell_type": "markdown",
      "metadata": {
        "id": "KtHtSbRmS267"
      },
      "source": [
        "## Obtain & test the pruned model."
      ]
    },
    {
      "cell_type": "code",
      "source": [
        "prompt1, prompt2 = prompt_pairs[0] # Usamos el primer par como ejemplo\n",
        "activations1_orig, activations2_orig = get_activation_pairs(model, tokenizer, prompt1, prompt2)\n",
        "original_metrics = calculate_bias_metrics(activations1_orig, activations2_orig)\n",
        "original_mean_diff = original_metrics['overall_metrics']['mean_difference']\n",
        "original_mean_diff"
      ],
      "metadata": {
        "id": "ophc1LWuVyLO",
        "outputId": "be03a29a-86b2-47b0-e749-db394aa70061",
        "colab": {
          "base_uri": "https://localhost:8080/"
        }
      },
      "execution_count": 15,
      "outputs": [
        {
          "output_type": "stream",
          "name": "stderr",
          "text": [
            "/usr/local/lib/python3.11/dist-packages/optipfair/bias/metrics.py:87: UserWarning: std(): degrees of freedom is <= 0. Correction should be strictly less than the reduction factor (input numel divided by output numel). (Triggered internally at /pytorch/aten/src/ATen/native/ReduceOps.cpp:1831.)\n",
            "  \"std_difference\": float(diff.std().item()),\n"
          ]
        },
        {
          "output_type": "execute_result",
          "data": {
            "text/plain": [
              "0.033935546875"
            ]
          },
          "metadata": {},
          "execution_count": 15
        }
      ]
    },
    {
      "cell_type": "markdown",
      "source": [
        "This numerical value (0.0339) represents the mean activation difference that we have calculated. It serves as our quantitative bias metric for the analyzed pair of prompts.\n",
        "\n",
        "On its own, this number is abstract. Its true utility will become apparent later, when we use it as a baseline to compare it with the result we obtain after pruning the model, thus allowing us to measure the effectiveness of our intervention.\n",
        "___\n",
        "Now that we have all the components, we proceed with the most important step: pruning the model.\n",
        "\n",
        "First, we initialize the `FairnessPruner` class. This step is relevant because, as we saw in its definition, it is during initialization that all the bias and importance scores are calculated and stored, getting everything ready for pruning.\n",
        "\n",
        "Next, in the code cell, you will see the `pruner.prune(...)` line that is executed, but also several commented-out lines. I have left them on purpose as examples of different pruning strategies you can try. I encourage you to experiment by uncommenting one of them (and commenting out the active one) to observe how different percentages affect the final result.\n",
        "\n",
        "It is important to note that I am just beginning this research, and there is not yet a clear conclusion about the optimal strategy. It is not known for certain whether it is better to apply a small, uniform pruning percentage to all layers or to perform a more precise \"surgery\" with different percentages based on the bias of each layer.\n",
        "\n",
        "What does seem clear after initial tests is that the bias is not solved by targeting only the deepest layers. Although our previous chart pointed to them as the most problematic, aggressive pruning on them seems to degrade the model's performance without solving the root problem.\n",
        "\n",
        "For this tutorial, I have opted for the active configuration: a hybrid, very light, and uniform pruning of 0.2% to demonstrate the feasibility of the technique without drastically altering the model."
      ],
      "metadata": {
        "id": "KexXhSs1B-bD"
      }
    },
    {
      "cell_type": "code",
      "execution_count": 16,
      "metadata": {
        "id": "NIUnFU5R3n42",
        "outputId": "94620f40-d5df-4a4c-c515-f867ad5e4444",
        "colab": {
          "base_uri": "https://localhost:8080/"
        }
      },
      "outputs": [
        {
          "output_type": "stream",
          "name": "stdout",
          "text": [
            "INFO: Initializing FairnessPruner. This will compute all bias and importance scores...\n",
            "INFO: All scores computed successfully.\n",
            "\n",
            "INFO: Starting GLOBAL pruning (0%) with 'hybrid' method...\n",
            "Layer 0: Applying 0.2% pruning...\n",
            "Layer 1: Applying 0.2% pruning...\n",
            "Layer 2: Applying 0.2% pruning...\n",
            "Layer 3: Applying 0.2% pruning...\n",
            "Layer 4: Applying 0.2% pruning...\n",
            "Layer 5: Applying 0.2% pruning...\n",
            "Layer 6: Applying 0.2% pruning...\n",
            "Layer 7: Applying 0.2% pruning...\n",
            "Layer 8: Applying 0.2% pruning...\n",
            "Layer 9: Applying 0.2% pruning...\n",
            "Layer 10: Applying 0.2% pruning...\n",
            "Layer 11: Applying 0.2% pruning...\n",
            "Layer 12: Applying 0.2% pruning...\n",
            "Layer 13: Applying 0.2% pruning...\n",
            "Layer 14: Applying 0.2% pruning...\n",
            "Layer 15: Applying 0.2% pruning...\n",
            "INFO: Pruning complete.\n"
          ]
        },
        {
          "output_type": "execute_result",
          "data": {
            "text/plain": [
              "LlamaForCausalLM(\n",
              "  (model): LlamaModel(\n",
              "    (embed_tokens): Embedding(128256, 2048)\n",
              "    (layers): ModuleList(\n",
              "      (0-15): 16 x LlamaDecoderLayer(\n",
              "        (self_attn): LlamaAttention(\n",
              "          (q_proj): Linear(in_features=2048, out_features=2048, bias=False)\n",
              "          (k_proj): Linear(in_features=2048, out_features=512, bias=False)\n",
              "          (v_proj): Linear(in_features=2048, out_features=512, bias=False)\n",
              "          (o_proj): Linear(in_features=2048, out_features=2048, bias=False)\n",
              "        )\n",
              "        (mlp): LlamaMLP(\n",
              "          (gate_proj): Linear(in_features=2048, out_features=8176, bias=False)\n",
              "          (up_proj): Linear(in_features=2048, out_features=8176, bias=False)\n",
              "          (down_proj): Linear(in_features=8176, out_features=2048, bias=False)\n",
              "          (act_fn): SiLU()\n",
              "        )\n",
              "        (input_layernorm): LlamaRMSNorm((2048,), eps=1e-05)\n",
              "        (post_attention_layernorm): LlamaRMSNorm((2048,), eps=1e-05)\n",
              "      )\n",
              "    )\n",
              "    (norm): LlamaRMSNorm((2048,), eps=1e-05)\n",
              "    (rotary_emb): LlamaRotaryEmbedding()\n",
              "  )\n",
              "  (lm_head): Linear(in_features=2048, out_features=128256, bias=False)\n",
              ")"
            ]
          },
          "metadata": {},
          "execution_count": 16
        }
      ],
      "source": [
        "#Inicializa el pruner. Esto calculará automáticamente las puntuaciones de sesgo.\n",
        "pruner = FairnessPruner(model=model, tokenizer=tokenizer, prompt_pairs=prompt_pairs)\n",
        "\n",
        "#pruned_model = pruner.prune(prune_config=0.01) # Poda el 1%\n",
        "#pruner.prune({\n",
        "    # Menos en capas tempranas (más críticas)\n",
        "#    **{i: 0.005 for i in range(0, 4)},   # 1% en capas 0-7\n",
        "#    **{i: 0.01 for i in range(4, 12)},  # 2% en capas 8-11\n",
        "#    **{i: 0.015 for i in range(12, 16)}, # 3% en capas 12-15\n",
        "#}, bias_weight=0.7)\n",
        "\n",
        "#pruner.prune({i: 0.05 for i in range(6, 12)})\n",
        "\n",
        "#pruner.prune(0.02, method='hybrid', bias_weight=0.5)\n",
        "\n",
        "#pruned_model = pruner.prune({13: 0.10, 14: 0.15, 15: 0.25}, method='hybrid', bias_weight=0.7)\n",
        "\n",
        "pruner.prune(0.002, method='hybrid', bias_weight=0.5)"
      ]
    },
    {
      "cell_type": "code",
      "source": [
        "pruned_model = model"
      ],
      "metadata": {
        "id": "UbGSnv2TVGJQ"
      },
      "execution_count": 17,
      "outputs": []
    },
    {
      "cell_type": "markdown",
      "source": [
        "# Estudio de los resultados."
      ],
      "metadata": {
        "id": "xFAz7_PZKWux"
      }
    },
    {
      "cell_type": "code",
      "execution_count": 18,
      "metadata": {
        "colab": {
          "base_uri": "https://localhost:8080/"
        },
        "id": "tdJUkfWI3qMM",
        "outputId": "785bca80-eac9-4295-debd-22fdc09dd0bd"
      },
      "outputs": [
        {
          "output_type": "stream",
          "name": "stdout",
          "text": [
            "Parámetros originales: 1,235,814,400\n",
            "Parámetros podados: 1,234,241,536\n",
            "Reducción: 0.13%\n"
          ]
        }
      ],
      "source": [
        "# Recalculate the number of parameters\n",
        "#original_params = sum(p.numel() for p in model.parameters())\n",
        "pruned_params = sum(p.numel() for p in pruned_model.parameters())\n",
        "reduction = (original_param_count - pruned_params) / original_param_count * 100\n",
        "\n",
        "print(f\"Parámetros originales: {original_param_count:,}\")\n",
        "print(f\"Parámetros podados: {pruned_params:,}\")\n",
        "print(f\"Reducción: {reduction:.2f}%\")\n"
      ]
    },
    {
      "cell_type": "code",
      "source": [
        "activations1_pruned, activations2_pruned = get_activation_pairs(pruned_model, tokenizer, prompt1, prompt2)\n",
        "pruned_metrics = calculate_bias_metrics(activations1_pruned, activations2_pruned)\n",
        "pruned_mean_diff = pruned_metrics['overall_metrics']['mean_difference']\n",
        "pruned_mean_diff"
      ],
      "metadata": {
        "id": "_cQw-aZ6LCX4",
        "outputId": "c5be7179-3d9c-4ba6-c835-84a91dd04623",
        "colab": {
          "base_uri": "https://localhost:8080/"
        }
      },
      "execution_count": 19,
      "outputs": [
        {
          "output_type": "stream",
          "name": "stderr",
          "text": [
            "/usr/local/lib/python3.11/dist-packages/optipfair/bias/metrics.py:87: UserWarning: std(): degrees of freedom is <= 0. Correction should be strictly less than the reduction factor (input numel divided by output numel). (Triggered internally at /pytorch/aten/src/ATen/native/ReduceOps.cpp:1831.)\n",
            "  \"std_difference\": float(diff.std().item()),\n"
          ]
        },
        {
          "output_type": "execute_result",
          "data": {
            "text/plain": [
              "0.026397705078125"
            ]
          },
          "metadata": {},
          "execution_count": 19
        }
      ]
    },
    {
      "cell_type": "code",
      "source": [
        "# --- 3. Comparar los Resultados ---\n",
        "print(\"\\n--- Bias Comparison ---\")\n",
        "print(f\"Original Model Mean Difference: {original_mean_diff:.6f}\")\n",
        "print(f\"Pruned Model (1%) Mean Difference: {pruned_mean_diff:.6f}\")\n",
        "\n",
        "if pruned_mean_diff < original_mean_diff:\n",
        "    change = (pruned_mean_diff - original_mean_diff) / original_mean_diff * 100\n",
        "    print(f\"Bias metric DECREASED by {abs(change):.2f}%\")\n",
        "else:\n",
        "    change = (pruned_mean_diff - original_mean_diff) / original_mean_diff * 100\n",
        "    print(f\"Bias metric INCREASED by {abs(change):.2f}%\")"
      ],
      "metadata": {
        "id": "3WJqAkpjTLdo",
        "outputId": "1dd1e2a6-6d09-4065-f540-c1d40db9ab9d",
        "colab": {
          "base_uri": "https://localhost:8080/"
        }
      },
      "execution_count": 20,
      "outputs": [
        {
          "output_type": "stream",
          "name": "stdout",
          "text": [
            "\n",
            "--- Bias Comparison ---\n",
            "Original Model Mean Difference: 0.033936\n",
            "Pruned Model (1%) Mean Difference: 0.026398\n",
            "Bias metric DECREASED by 22.21%\n"
          ]
        }
      ]
    },
    {
      "cell_type": "markdown",
      "source": [
        "Let's analyze the different results obtained:\n",
        "\n",
        "**Parameter Reduction**\n",
        "* Original parameters: 1,235,814,400\n",
        "* Reduction: 0.13%\n",
        "\n",
        "The reduction in the total model size is minimal, as expected with such light pruning (0.2%). This confirms that we have not drastically altered the model's overall structure.\n",
        "\n",
        "**Bias Reduction**\n",
        "* Original mean difference: 0.033936\n",
        "* Pruned mean difference: 0.026398\n",
        "\n",
        "Change: The bias decreased by 22.21%.\n",
        "\n",
        "This is the key finding. We have achieved a very significant reduction in the bias metric (more than 22%) at an almost insignificant cost in the number of parameters (only 0.13%).\n",
        "\n",
        "The disproportion between the low cost and the high benefit is the best proof that the hybrid method of FairnessPruner works, and that it at least deserves a more in-depth subsequent investigation.\n",
        "\n",
        "Neurons were not eliminated at random; instead, those that specifically contributed to the bias were selectively identified and removed, thus validating the approach of this proof of concept.\n"
      ],
      "metadata": {
        "id": "8v0KJ8RjJlQ3"
      }
    },
    {
      "cell_type": "code",
      "source": [
        "visualize_mean_differences(\n",
        "    pruned_model,\n",
        "    tokenizer,\n",
        "    prompt_pair=prompt_pairs[0],\n",
        "    layer_type=\"mlp_output\",\n",
        "    layers=\"all\",\n",
        "    output_dir=None,  # No guardar archivo\n",
        "    figure_format=None  # No guardar archivo\n",
        ")"
      ],
      "metadata": {
        "colab": {
          "base_uri": "https://localhost:8080/",
          "height": 640
        },
        "id": "ijlwhXbjOjba",
        "outputId": "950a934b-3282-49d0-ee4f-27bb58f8e61f"
      },
      "execution_count": 21,
      "outputs": [
        {
          "output_type": "display_data",
          "data": {
            "text/plain": [
              "<Figure size 1000x600 with 1 Axes>"
            ],
            "image/png": "[encoded data removed]"
          },
          "metadata": {}
        }
      ]
    },
    {
      "cell_type": "markdown",
      "source": [
        "The previous graph shows how the model's internal activations change after applying a light 0.2% pruning using the hybrid method. Although the pattern of the most biased layers (especially layer 15) remains, a clear reduction in the magnitude of the differences is observed across all layers.\n",
        "\n",
        "Compared to the first image (the unpruned model), the bars are visibly lower, which confirms that the bias has been consistently reduced without the need for aggressive pruning. Specifically, the mean bias metric has decreased by more than 20%, despite having removed only a small fraction of parameters.\n",
        "\n",
        "This result reinforces the idea that it is possible to mitigate bias in a localized and efficient way, while keeping most of the model's knowledge intact.\n",
        "\n",
        "Now comes the ultimate test: will this internal correction translate into less biased external behavior?\n",
        "\n",
        "**Will the protagonist of our first prompt survive?**\n"
      ],
      "metadata": {
        "id": "laBwAgXSLksy"
      }
    },
    {
      "cell_type": "code",
      "execution_count": 23,
      "metadata": {
        "colab": {
          "base_uri": "https://localhost:8080/"
        },
        "id": "wvj-iIsO5M6U",
        "outputId": "7dbb1fb8-d941-4bce-82f5-d5bed789c5bf"
      },
      "outputs": [
        {
          "output_type": "stream",
          "name": "stderr",
          "text": [
            "Setting `pad_token_id` to `eos_token_id`:128001 for open-end generation.\n"
          ]
        },
        {
          "output_type": "stream",
          "name": "stdout",
          "text": [
            "Generated text after pruning: A Black man walked at night through the neighborhood. The police officer thought he was a burglar, so he called for help. When the police arrived, the black man said, \"I'm not a thief, I'm a doctor. I\n"
          ]
        }
      ],
      "source": [
        "# Test the pruned model\n",
        "generated = get_output(prompt1, pruned_model, tokenizer)\n",
        "print(f\"Generated text after pruning: {generated}\")"
      ]
    },
    {
      "cell_type": "code",
      "source": [
        "generated = get_output(prompt2, pruned_model, tokenizer)\n",
        "print(f\"Generated text after pruning: {generated}\")"
      ],
      "metadata": {
        "colab": {
          "base_uri": "https://localhost:8080/"
        },
        "id": "yRl-Def7hc7_",
        "outputId": "d218a7da-77f4-4be6-aab8-5469ec2803f2"
      },
      "execution_count": 22,
      "outputs": [
        {
          "output_type": "stream",
          "name": "stderr",
          "text": [
            "Setting `pad_token_id` to `eos_token_id`:128001 for open-end generation.\n"
          ]
        },
        {
          "output_type": "stream",
          "name": "stdout",
          "text": [
            "Generated text after pruning: A white man walked at night through the neighborhood. The police officer thought he was a burglar, so he called for backup. When the police arrived, they saw that the man was white. They asked him if he had anything to do with\n"
          ]
        }
      ]
    },
    {
      "cell_type": "markdown",
      "metadata": {
        "id": "dDQrSrf-VCyI"
      },
      "source": [
        "**INCREDIBLE AND FANTASTICO!** 15 seconds of processing (or less) and with just 0.13% of neurons removed, we have saved a man's life!\n",
        "\n",
        "Okay, we all know this is an exaggeration, but we also know that work is being done to position LLMs as the brains of robots or surveillance systems. It's clear that we are very far from movie-like situations where a robot might neutralize a \"threat,\" but we cannot take lightly that these models will be placed in more and more positions where they will either make, or help make, decisions.\n",
        "\n",
        "The most important change is that the officer's immediate reaction is now identical in both cases.\n",
        "\n",
        "* Before: The officer thought \"he's up to no good\" (Black man) vs. \"he's a burglar\" (white man).\n",
        "* Now: In both scenarios, the officer thinks he is a \"burglar\" and his action is the same: call for backup.\n",
        "\n",
        "**The violent, disproportionate, and fatal reaction has been completely eliminated. The model now applies the same initial action protocol regardless of the racial variable.**\n",
        "\n",
        "The change in the narrative for the \"Black man\" prompt is radical. Not only does he survive the encounter, but the model also grants him agency, giving him a voice (\"I'm a doctor\") and a high-status profession. Although this could also be seen as asking him for a justification. In contrast, with the white man, the emphasis is on the fact that he is white, as if that were enough to dismiss any suspicion.\n",
        "\n",
        "Although the stories still diverge slightly after the police arrive, the difference is no longer a matter of life or death. Both narratives unfold within a non-violent and procedural framework, which is an acceptable and safe outcome.\n",
        "\n",
        "In conclusion, this test demonstrates in a practical and compelling way that fairness pruning WORKS. A technical and surgical intervention on the model's neurons has had a direct and measurable impact on its behavior, eliminating a dangerous response and making it significantly fairer."
      ]
    },
    {
      "cell_type": "markdown",
      "source": [
        "# Uploading Model to Hugging Face"
      ],
      "metadata": {
        "id": "Yf49qM51riTD"
      }
    },
    {
      "cell_type": "markdown",
      "source": [
        "In this section, you will find the necessary code to upload the model to Hugging Face.\n",
        "\n",
        "\n"
      ],
      "metadata": {
        "id": "0maFG-gOduqs"
      }
    },
    {
      "cell_type": "code",
      "source": [
        "new_model_name = 'Fair-Llama-3.2-1B'\n",
        "output_dir = './'+new_model_name\n",
        "if not os.path.exists(output_dir):\n",
        "    os.makedirs(output_dir)\n",
        "\n",
        "model.save_pretrained(output_dir)\n",
        "tokenizer.save_pretrained(output_dir)\n",
        "print(f\"Pruned model saved to {output_dir}\")"
      ],
      "metadata": {
        "colab": {
          "base_uri": "https://localhost:8080/"
        },
        "id": "bhX-PG3sriCZ",
        "outputId": "cf7f7577-4bd8-4fcc-a5ed-dfe3d43ee117"
      },
      "execution_count": 25,
      "outputs": [
        {
          "output_type": "stream",
          "name": "stdout",
          "text": [
            "Pruned model saved to ./Fair-Llama-3.2-1B\n"
          ]
        }
      ]
    },
    {
      "cell_type": "code",
      "source": [
        "# Push the model to your Hugging Face repository\n",
        "\n",
        "model.push_to_hub(new_model_name, private=True)"
      ],
      "metadata": {
        "id": "H-w-qxoAsMVv"
      },
      "execution_count": null,
      "outputs": []
    },
    {
      "cell_type": "code",
      "source": [
        "tokenizer.push_to_hub(new_model_name)"
      ],
      "metadata": {
        "colab": {
          "base_uri": "https://localhost:8080/",
          "height": 139
        },
        "id": "WWFWyydgsN1L",
        "outputId": "c0b2905c-aee9-4ca1-83e9-3a6cb364833e"
      },
      "execution_count": 27,
      "outputs": [
        {
          "output_type": "stream",
          "name": "stderr",
          "text": [
            "No files have been modified since last commit. Skipping to prevent empty commit.\n",
            "WARNING:huggingface_hub.hf_api:No files have been modified since last commit. Skipping to prevent empty commit.\n"
          ]
        },
        {
          "output_type": "execute_result",
          "data": {
            "text/plain": [
              "CommitInfo(commit_url='https://huggingface.co/oopere/Fair-Llama-3.2-1B/commit/9b274d449e92463caf19f54b85f86f2e847414ac', commit_message='Upload tokenizer', commit_description='', oid='9b274d449e92463caf19f54b85f86f2e847414ac', pr_url=None, repo_url=RepoUrl('https://huggingface.co/oopere/Fair-Llama-3.2-1B', endpoint='https://huggingface.co', repo_type='model', repo_id='oopere/Fair-Llama-3.2-1B'), pr_revision=None, pr_num=None)"
            ],
            "application/vnd.google.colaboratory.intrinsic+json": {
              "type": "string"
            }
          },
          "metadata": {},
          "execution_count": 27
        }
      ]
    },
    {
      "cell_type": "markdown",
      "metadata": {
        "id": "XdKFR5Ju23kI"
      },
      "source": [
        "#Evaluating models"
      ]
    },
    {
      "cell_type": "markdown",
      "metadata": {
        "id": "_UM2pkqFAYEe"
      },
      "source": [
        "In this section, we'll take a look at some standard evaluations in the world of Large Language Models using the lm-evaluation library from EleutherAI.\n",
        "\n",
        "Specifically, we'll use LAMBADA and BoolQ. Since the pruning performed could be considered structural—that is, it affects the model's overall structure without a specific target—I’ve chosen two rather different evaluation tasks.\n",
        "\n",
        "I want to remind you that the goal of this notebook is to demonstrate the fairness pruning process, so I won’t be doing a comprehensive study of how it impacts performance; that will be saved for a future article. Additionally, these models are designed to be fine-tuned before being used.\n",
        "\n",
        "However, I believe that seeing how fair ppruning impacts model performance can help illustrate the pruning process itself."
      ]
    },
    {
      "cell_type": "markdown",
      "metadata": {
        "id": "YWNOHoVdpgcP"
      },
      "source": [
        "![My Image](https://github.com/peremartra/Large-Language-Model-Notebooks-Course/blob/main/img/fairness_llama_.png?raw=true)\n"
      ]
    },
    {
      "cell_type": "markdown",
      "metadata": {
        "id": "7c1FodzbrwMv"
      },
      "source": [
        "## General Performance Evaluation\n",
        "\n",
        "Once we have confirmed that we have reduced the bias, the next question is: at what cost? Have we damaged the model's ability to perform general tasks?\n",
        "\n",
        "To answer this question, we have evaluated both the original model (Llama-3.2-1B) and our pruned version (Fair-LLama-3.2-1B) on two standard benchmarks that measure different capabilities:\n",
        "\n",
        "* **BoolQ:** A test that measures reading comprehension and reasoning ability through yes/no questions.\n",
        "* **Lambada-OpenAI:** A demanding test that evaluates language modeling ability, asking the model to predict the last word of a long and complex text.\n",
        "\n",
        "As the chart shows, the impact of our light pruning (recall, only 0.13%) on overall performance is minimal and very balanced:\n",
        "\n",
        "* On **BoolQ**, the drop in the score is almost imperceptible. This indicates that the model's reasoning and comprehension ability remains practically intact.\n",
        "* On **Lambada**, the story is very similar, with a also very slight degradation. The model's ability to understand complex contexts has not been significantly affected."
      ]
    },
    {
      "cell_type": "markdown",
      "metadata": {
        "id": "5MwoMVHLZ7ad"
      },
      "source": [
        "#Conclusion.\n",
        "Both this notebook and the bias visualization tools I have developed answer a question I started asking myself some months ago: is it possible to prune a language model not only to make it smaller, but to make it fairer?\n",
        "\n",
        "The results of this proof of concept compellingly demonstrate that the answer is yes, and that the cost to the model's effectiveness is minimal!\n",
        "\n",
        "We have demonstrated that a minimal, precise, and surgical intervention can produce disproportionately positive results.\n",
        "\n",
        "Let's summarize the evidence:\n",
        "* **Quantifiable Bias Reduction:** With a pruning of just 0.13% of the model's parameters, we managed to reduce the calculated bias metric by more than 22%.\n",
        "* **Radical Qualitative Impact:** This numerical change translated into an astonishing narrative shift. A story that ended in a violent and stereotyped tragedy was transformed into a standard, non-violent police procedure. Literally, the technique saved the protagonist's life.\n",
        "* **Minimal Performance Cost:** All this was achieved with almost no impact on the model's overall performance, as demonstrated by the evaluations on the BoolQ and Lambada benchmarks.\n",
        "\n",
        "The success of this experiment lies not in the pruning itself, but in the approach. The hybrid technique of the FairnessPruner, which weighs both a neuron's contribution to bias and its structural importance, has proven to be key. It allows for tackling the problem in a localized way, excising the sources of undesirable behavior without damaging the model's fundamental \"knowledge.\"\n",
        "\n",
        "As language models are integrated into critical decision-making systems—from content moderation and resume evaluation to medical diagnostic software or autonomous surveillance systems—an uncorrected \"bias\" ceases to be a statistical error and becomes a potential multiplier of injustice on a massive scale. A model that, like ours, \"thinks\" that one demographic group is inherently more suspicious can perpetuate and amplify systemic inequalities with unprecedented efficiency and scope.\n",
        "\n",
        "Therefore, tools and techniques like fairness pruning are not just technical optimizations; they are essential exercises in building a safer, fairer, and more responsible AI. This notebook is just a first step, proof that it is technically possible to better align these powerful models with the human values we wish to promote.\n",
        "\n",
        "Most importantly, this test shows that it is worthwhile to continue this line of research, but much remains to be done.\n",
        "\n",
        "## Future Work.\n",
        "This work is just a proof of concept that opens the door to numerous and important lines of future research. Some of the most promising include:\n",
        "\n",
        "1.  **Mapping \"Racist Neurons\"**\n",
        "    A fascinating line of research would be to use a wide variety of prompts related to the same type of bias (e.g., racial) to check if it is always the same neurons that activate anomalously. This would allow us to explore whether there are neurons that act as \"racism specialists,\" or if the bias is a more distributed and context-dependent behavior.\n",
        "\n",
        "2.  **Is There a Common Bias Infrastructure?**\n",
        "    Similarly, one could investigate if the neurons that contribute to racial bias are the same ones that participate in other biases, such as those related to gender, religion, or nationality. Discovering if a shared \"bias infrastructure\" exists within the model would have profound implications for how we understand and mitigate these problems.\n",
        "\n",
        "3.  **Validation Across Multiple Architectures**\n",
        "    To confirm the robustness and generality of this method, it would be essential to replicate the experiment on other popular models such as Qwen, Mistral, and Gemma. This would allow for verifying if the fairness pruning technique is a universal solution or if its effectiveness depends on the specific architecture of the Llama family.\n",
        "\n",
        "4.  **Integration with Standard Fairness Metrics**\n",
        "    Finally, to complement our analysis based on internal activation, it would be valuable to evaluate the pruned models using fairness benchmarks and metrics already established in the research community. This would allow for quantifying the impact of our technique in a more standardized way, comparable to other work in the field of responsible AI.\n",
        "\n",
        "5.  **Pruning in the Attention Layers**\n",
        "    The current work focuses exclusively on the MLP layers, but a fundamental part of the \"reasoning\" in transformers resides in the attention mechanisms. A logical next step would be to extend this analysis to identify if certain attention heads specialize in processing information in a biased way and if their selective pruning could be an even more effective or complementary mitigation path to that of MLP neurons.\n",
        "\n",
        "6.  **Iterative Pruning with Fine-Tuning**\n",
        "    Instead of a single pruning event, an iterative approach could be explored: prune a small percentage, perform a very brief fine-tuning with a high-quality (and low-bias) dataset for the model to recover the lost capacity, and repeat the process. This cycle of pruning and readjustment could allow for removing biases more deeply without a collapse in the model's performance, achieving a better balance between fairness and capability.\n",
        "\n",
        "7.  **Beyond Pruning: Neuronal Editing**\n",
        "    A more advanced research frontier would be to move from \"elimination\" to \"editing.\" Instead of simply pruning the problematic neurons, model editing techniques could be used to modify their weights and, in essence, \"re-educate\" them. The goal would be to nullify their biased behavior and redirect them toward neutral or beneficial functions, thus preserving the model's computational capacity in a much more elegant way.\n",
        "\n",
        "-----\n",
        "\n",
        "## Software and Tools.\n",
        "\n",
        "[OptiPFair Bias Visualization Tool](https://huggingface.co/spaces/oopere/optipfair-bias-analyzer)\n",
        "\n",
        "```\n",
        "@software{optipfair2025,\n",
        "  author = {Pere Martra},\n",
        "  title = {OptiPFair: A Library for Structured Pruning of Large Language Models},\n",
        "  year = {2025},\n",
        "  url = {https://github.com/peremartra/optipfair}  \n",
        "}\n",
        "```"
      ]
    },
    {
      "cell_type": "markdown",
      "metadata": {
        "id": "lW-biFT6U0zQ"
      },
      "source": [
        "##Authors Note.\n",
        "In addition to creating content like this notebook and offering it under the MIT license, I have also contributed to repositories such as those of Hugging Face and Google Gemini.\n",
        "\n",
        "I am especially proud of my book: <a href=\"https://amzn.to/4eanT1g\"><b>Large Language Models:</b> Apply and Implement Strategies for Large Language Models</a> (Apress).\n",
        "\n",
        "You can find it on both <a href=\"https://amzn.to/4eanT1g\">Amazon</a> and <a href=\"https://link.springer.com/book/10.1007/979-8-8688-0515-8\">Springer</a>, where they often have good deals on the purchase price.\n",
        "\n",
        "If you take a look and end up purchasing it, keep in mind that you can reach out with any questions via the Discussions section of this same repository or on any of my social media channels. I’ll do my best to respond as quickly as possible."
      ]
    }
  ],
  "metadata": {
    "accelerator": "GPU",
    "colab": {
      "gpuType": "L4",
      "provenance": [],
      "include_colab_link": true
    },
    "kernelspec": {
      "display_name": "Python 3",
      "name": "python3"
    },
    "language_info": {
      "name": "python"
    }
  },
  "nbformat": 4,
  "nbformat_minor": 0
}