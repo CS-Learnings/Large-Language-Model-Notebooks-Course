{
  "cells": [
    {
      "cell_type": "markdown",
      "metadata": {
        "id": "view-in-github",
        "colab_type": "text"
      },
      "source": [
        "<a href=\"https://colab.research.google.com/github/peremartra/Large-Language-Model-Notebooks-Course/blob/main/6-PRUNING/6_3b_data-driven_width_pruning_llama3.2-1b.ipynb\" target=\"_parent\"><img src=\"https://colab.research.google.com/assets/colab-badge.svg\" alt=\"Open In Colab\"/></a>"
      ]
    },
    {
      "cell_type": "markdown",
      "metadata": {
        "id": "DT0FAsUnncFY"
      },
      "source": [
        "<div>\n",
        "    <h1>Large Language Models Projects</a></h1>\n",
        "    <h3>Apply and Implement Strategies for Large Language Models</h3>\n",
        "    <h2>Data-Driven Width Pruning Llama 3.2.</h2>\n",
        "    <h3>How to decide with neurons to remove from GLU Structure.</h3>\n",
        "</div>\n",
        "\n",
        "by [Pere Martra](https://www.linkedin.com/in/pere-martra/)\n",
        "\n",
        "_______\n",
        "Models: meta-llama/Llama-3.2-1B\n",
        "\n",
        "Colab Environment: GPU T4.\n",
        "\n",
        "Keys:\n",
        "* Pruning\n",
        "* Structured pruning\n",
        "\n",
        "\n",
        "Related article: [How to Prune LLaMA 3.2 and Similar Large Language Models](ttps://medium.com/towards-data-science/how-to-prune-llama-3-2-and-similar-large-language-models-cf18e9a2afb6.)\n",
        "_______\n",
        "**disclaimer: The pruning section was created after the first edition of the book was published. They are not included in the book’s original content but are intended to supplement and expand on the topics covered.**\n",
        "\n",
        "This is the unofficial repository for the book:\n",
        "        <a href=\"https://amzn.to/4eanT1g\"> <b>Large Language Models:</b> Apply and Implement Strategies for Large Language Models</a> (Apress).\n",
        "        The book is based on the content of this repository, but the notebooks are being updated, and I am incorporating new examples and chapters.\n",
        "        If you are looking for the official repository for the book, with the original notebooks, you should visit the\n",
        "        <a href=\"https://github.com/Apress/Large-Language-Models-Projects\">Apress repository</a>, where you can find all the notebooks in their original format as they appear in the book.\n",
        "______"
      ]
    },
    {
      "cell_type": "markdown",
      "metadata": {
        "id": "iEwxZCVsoIau"
      },
      "source": [
        "# Introduction\n",
        "This notebook cotinues the work done at: [6_2_pruning_structured_llama3.2-1b_KO.ipynb](https://github.com/peremartra/Large-Language-Model-Notebooks-Course/blob/main/6-PRUNING/6_3_pruning_structured_llama3.2-1b_OK.ipynb) where statics methods has beeen used to select the neurons to prune.\n"
      ]
    },
    {
      "cell_type": "markdown",
      "metadata": {
        "id": "eQIxAOPZtPBN"
      },
      "source": [
        "#Install libraries & Configure variables."
      ]
    },
    {
      "cell_type": "code",
      "execution_count": 7,
      "metadata": {
        "id": "5zHApVm41HWq"
      },
      "outputs": [],
      "source": [
        "!pip install -q transformers\n",
        "!pip install -q torch\n",
        "!pip install -q datasets\n",
        "#!pip install -q sentencepiece"
      ]
    },
    {
      "cell_type": "code",
      "execution_count": 8,
      "metadata": {
        "id": "GJNgRj4M187E"
      },
      "outputs": [],
      "source": [
        "import torch\n",
        "from datasets import load_dataset\n",
        "from transformers import AutoModelForCausalLM, AutoTokenizer\n",
        "from torch import nn\n",
        "from torch.utils.data import DataLoader\n",
        "import os, gc\n",
        "from tqdm import tqdm"
      ]
    },
    {
      "cell_type": "code",
      "execution_count": 9,
      "metadata": {
        "colab": {
          "base_uri": "https://localhost:8080/"
        },
        "id": "tbIyUlXEtbqs",
        "outputId": "9edb5ddc-35b2-4adb-b73a-474738c04171"
      },
      "outputs": [
        {
          "output_type": "stream",
          "name": "stdout",
          "text": [
            "Using device: cuda\n"
          ]
        }
      ],
      "source": [
        "# Check if GPU is available\n",
        "device = torch.device('cuda' if torch.cuda.is_available() else 'cpu')\n",
        "print(f\"Using device: {device}\")"
      ]
    },
    {
      "cell_type": "markdown",
      "metadata": {
        "id": "sM-QwxyKw-YG"
      },
      "source": [
        "#Download model and explore structure"
      ]
    },
    {
      "cell_type": "code",
      "execution_count": null,
      "metadata": {
        "id": "q-z_1Zpg2I6u"
      },
      "outputs": [],
      "source": [
        "model_name = 'meta-llama/Llama-3.2-1B'\n",
        "model = AutoModelForCausalLM.from_pretrained(model_name, dtype=torch.float16).to(device)\n",
        "tokenizer = AutoTokenizer.from_pretrained(model_name)\n",
        "tokenizer.pad_token = tokenizer.eos_token  # Set pad token"
      ]
    },
    {
      "cell_type": "code",
      "execution_count": 11,
      "metadata": {
        "id": "9UpMD4Hw2MWg"
      },
      "outputs": [],
      "source": [
        "def get_output(prompt, model=model, tokenizer=tokenizer):\n",
        "    inputs = tokenizer(prompt, return_tensors='pt').to(device)\n",
        "    outputs = model.generate(\n",
        "        inputs['input_ids'],\n",
        "        attention_mask=inputs['attention_mask'],\n",
        "        max_length=50,\n",
        "        num_return_sequences=1,\n",
        "        pad_token_id=tokenizer.pad_token_id,\n",
        "        temperature=None,\n",
        "        top_p=None,\n",
        "        do_sample=False,          # Disable sampling\n",
        "        num_beams=5,              # Use beam search\n",
        "        early_stopping=True,      # Stop when end-of-sequence token is generated\n",
        "        no_repeat_ngram_size=2    # Prevent repetition of 2-grams\n",
        "    )\n",
        "    generated = tokenizer.decode(outputs[0], skip_special_tokens=True)\n",
        "    return generated"
      ]
    },
    {
      "cell_type": "markdown",
      "metadata": {
        "id": "4muyx_8M5OAu"
      },
      "source": [
        "## studying the model structure\n",
        "As demonstrated in the [previous notebook](https://github.com/peremartra/Large-Language-Model-Notebooks-Course/blob/main/6-PRUNING/6_2_pruning_structured_llama3.2-1b_KO.ipynb), studying the structure of the model that will undergo pruning is crucial.\n",
        "\n",
        "In this notebook we improve the width pruning process that could be seen in the Notebook: [Pruning Llama 3.2.](https://github.com/peremartra/Large-Language-Model-Notebooks-Course/blob/main/6-PRUNING/6_3_pruning_structured_llama3.2-1b_OK.ipynb). Where a pruning of the model's GLU structure was performed taking into account its static weights.\n",
        "\n",
        "Here we expand the criterion also using the activations of one of the cpas of the GLU, so the pruning that is performed is considered data-drive."
      ]
    },
    {
      "cell_type": "code",
      "execution_count": 12,
      "metadata": {
        "colab": {
          "base_uri": "https://localhost:8080/"
        },
        "id": "y5Hs4oQ4B7Z0",
        "outputId": "3608047b-d19f-4c48-fb05-30ea0ee3f925"
      },
      "outputs": [
        {
          "output_type": "stream",
          "name": "stdout",
          "text": [
            "LlamaForCausalLM(\n",
            "  (model): LlamaModel(\n",
            "    (embed_tokens): Embedding(128256, 2048)\n",
            "    (layers): ModuleList(\n",
            "      (0-15): 16 x LlamaDecoderLayer(\n",
            "        (self_attn): LlamaAttention(\n",
            "          (q_proj): Linear(in_features=2048, out_features=2048, bias=False)\n",
            "          (k_proj): Linear(in_features=2048, out_features=512, bias=False)\n",
            "          (v_proj): Linear(in_features=2048, out_features=512, bias=False)\n",
            "          (o_proj): Linear(in_features=2048, out_features=2048, bias=False)\n",
            "        )\n",
            "        (mlp): LlamaMLP(\n",
            "          (gate_proj): Linear(in_features=2048, out_features=8192, bias=False)\n",
            "          (up_proj): Linear(in_features=2048, out_features=8192, bias=False)\n",
            "          (down_proj): Linear(in_features=8192, out_features=2048, bias=False)\n",
            "          (act_fn): SiLUActivation()\n",
            "        )\n",
            "        (input_layernorm): LlamaRMSNorm((2048,), eps=1e-05)\n",
            "        (post_attention_layernorm): LlamaRMSNorm((2048,), eps=1e-05)\n",
            "      )\n",
            "    )\n",
            "    (norm): LlamaRMSNorm((2048,), eps=1e-05)\n",
            "    (rotary_emb): LlamaRotaryEmbedding()\n",
            "  )\n",
            "  (lm_head): Linear(in_features=2048, out_features=128256, bias=False)\n",
            ")\n"
          ]
        }
      ],
      "source": [
        "print(model)"
      ]
    },
    {
      "cell_type": "markdown",
      "metadata": {
        "id": "yPMslK3QCAb1"
      },
      "source": [
        "\n",
        "An MLP block typically consists of layers that scale the data to larger dimensions and others that return it to its original size.\n",
        "\n",
        "In the MLP block of the model, we find two projection layers: `gate_proj` and `up_proj`, both scaling from 2048 to 8192. The purpose of having two layers projecting to the same intermediate size might be related to gating mechanisms. A gating mechanism selectively controls information flow in neural networks by using learned weights to \"gate\" or filter inputs.\n",
        "\n",
        "Also highlight the role the `down_proj` layer plays contracting the information back, after passing through an activation function, to its original size.\n",
        "\n",
        "However, to truly understand how these layers function, we’d need to refer to the model's documentation or even the source code. But, this structure usually indicates, at least, I haven't encountered a case where it doesn't, that the layers performing the upsizing work in pairs, and they cannot be treated as independent linear layers.\n",
        "\n",
        "In other words, any operation we apply to one layer must be replicated in the other. Most importantly, when identifying which neurons have more or less importance, we can't evaluate the neurons of a single layer in isolation; we need to treat them as pairs.\n",
        "\n",
        "For our data-driven pruning process the evaluation we will do will be:\n",
        "* `gate_proj`: Static with the magnitude of its weights.\n",
        "* `up_proj`: Static with the magnitude of its weights.\n",
        "* `down_proj`: Dynamic with activations + Static with the magnitude of its weights."
      ]
    },
    {
      "cell_type": "code",
      "execution_count": 13,
      "metadata": {
        "colab": {
          "base_uri": "https://localhost:8080/"
        },
        "id": "alKH3QH64WFL",
        "outputId": "98ca7a50-dd67-4332-96aa-d1cbe82cd7dd"
      },
      "outputs": [
        {
          "output_type": "stream",
          "name": "stdout",
          "text": [
            "Generated text: Paris is the capital of France and one of the most visited cities in the world. It is a city with a rich history and culture, as well as a vibrant and diverse population. Paris is home to many famous landmarks, including the Eiff\n"
          ]
        }
      ],
      "source": [
        "# Test the original model\n",
        "prompt = \"Paris is the capital of\"\n",
        "generated = get_output(prompt)\n",
        "print(f\"Generated text: {generated}\")"
      ]
    },
    {
      "cell_type": "code",
      "execution_count": 14,
      "metadata": {
        "id": "8WR96iwq2XYH"
      },
      "outputs": [],
      "source": [
        "def count_parameters(model):\n",
        "    return sum(p.numel() for p in model.parameters())\n"
      ]
    },
    {
      "cell_type": "code",
      "execution_count": 15,
      "metadata": {
        "colab": {
          "base_uri": "https://localhost:8080/"
        },
        "id": "Kph43oObnet7",
        "outputId": "b4cc5229-11c0-4dd5-c26a-30e5ff11c0cb"
      },
      "outputs": [
        {
          "output_type": "stream",
          "name": "stdout",
          "text": [
            "Original model parameters: 1235814400\n"
          ]
        }
      ],
      "source": [
        "original_param_count = count_parameters(model)\n",
        "print(f\"Original model parameters: {original_param_count}\")"
      ]
    },
    {
      "cell_type": "markdown",
      "source": [
        "## Load Dataset"
      ],
      "metadata": {
        "id": "_YjJAxQsVN1C"
      }
    },
    {
      "cell_type": "code",
      "source": [
        "RECOVERY_SAMPLES = 1000\n",
        "BATCH_SIZE = 8\n",
        "MAX_LENGTH = 1024"
      ],
      "metadata": {
        "id": "z5vueVYjVNQn"
      },
      "execution_count": 16,
      "outputs": []
    },
    {
      "cell_type": "markdown",
      "source": [
        "We're going to use a generic dataset like wikitext, but data-driven pruning shines when the dataset to use is specific to our model. That is, when we want to specialize it in a specific domain."
      ],
      "metadata": {
        "id": "T32qJOjnjCiZ"
      }
    },
    {
      "cell_type": "code",
      "source": [
        "datawiki = load_dataset('wikitext', 'wikitext-2-raw-v1', split=f'train[:{RECOVERY_SAMPLES}]')\n"
      ],
      "metadata": {
        "id": "LaSSECayVSqi"
      },
      "execution_count": null,
      "outputs": []
    },
    {
      "cell_type": "code",
      "source": [
        "def prepare_dataset(dataset, text_field='text'):\n",
        "  def tokenize_function(examples):\n",
        "      if text_field in examples:\n",
        "          texts = examples[text_field]\n",
        "      elif 'sms' in examples:  # SMS dataset\n",
        "          texts = examples['sms']\n",
        "      elif 'text' in examples:\n",
        "          texts = examples['text']\n",
        "      else:\n",
        "          texts = examples[list(examples.keys())[0]]  # First available field\n",
        "\n",
        "      return tokenizer(\n",
        "          texts,\n",
        "          truncation=True,\n",
        "          padding='max_length',\n",
        "          max_length=MAX_LENGTH,\n",
        "          return_tensors='pt'\n",
        "      )\n",
        "\n",
        "  tokenized = dataset.map(tokenize_function, batched=True, remove_columns=dataset.column_names)\n",
        "  tokenized.set_format(type='torch', columns=['input_ids', 'attention_mask'])\n",
        "  return DataLoader(tokenized, batch_size=BATCH_SIZE, shuffle=False)"
      ],
      "metadata": {
        "id": "ZJzluaCkVZQZ"
      },
      "execution_count": 18,
      "outputs": []
    },
    {
      "cell_type": "code",
      "source": [
        "# Create dataloader\n",
        "dataloaderwiki = prepare_dataset(datawiki)"
      ],
      "metadata": {
        "id": "kmtBfvyjVb2p"
      },
      "execution_count": null,
      "outputs": []
    },
    {
      "cell_type": "markdown",
      "source": [
        "## Hooks\n",
        "\n",
        "To be able to analyze the activations that occur in a layer, we need a mechanism that lets us \"spy\" on what happens inside the model.\n",
        "\n",
        "This mechanism is PyTorch Hooks, which let us hook a function to any module of the model and its input and output activations."
      ],
      "metadata": {
        "id": "KGTilesCi4rS"
      }
    },
    {
      "cell_type": "code",
      "source": [
        "# Variable global para acumular normas\n",
        "_accumulated_act_norms = {}\n",
        "\n",
        "def setup_mlp_hooks_for_importance(model, device):\n",
        "    \"\"\"\n",
        "    Registra hooks en la entrada de down_proj (X_d) para calcular\n",
        "    la Norma L2 de cada neurona (||X_d^i||), según CFSP Ecuación 8.\n",
        "\n",
        "    Acumula las normas L2 a través de múltiples batches de calibración.\n",
        "\n",
        "    Returns:\n",
        "        handles: Lista de handles de hooks (para remover después)\n",
        "    \"\"\"\n",
        "    global _accumulated_act_norms\n",
        "    _accumulated_act_norms.clear()\n",
        "\n",
        "    # Liberar memoria antes de empezar\n",
        "    gc.collect()\n",
        "    torch.cuda.empty_cache()\n",
        "\n",
        "    handles = []\n",
        "\n",
        "    # Inicializar almacenamiento en CPU (ahorro de VRAM)\n",
        "    for idx, layer in enumerate(model.model.layers):\n",
        "        intermediate_size = layer.mlp.down_proj.in_features\n",
        "        _accumulated_act_norms[idx] = torch.zeros(\n",
        "            intermediate_size,\n",
        "            dtype=torch.float32,  # Explícito para consistencia\n",
        "            device='cpu'\n",
        "        )\n",
        "\n",
        "    def make_hook(layer_idx):\n",
        "        def hook(module, input, output):\n",
        "            \"\"\"\n",
        "            Captura X_d (entrada a down_proj) y calcula su Norma L2.\n",
        "\n",
        "            X_d shape: [batch_size, seq_len, intermediate_size]\n",
        "            Output: [intermediate_size] con ||X_d^i|| para cada neurona i\n",
        "            \"\"\"\n",
        "            X_d = input[0].detach()  # [B, S, I]\n",
        "\n",
        "            # --- CÁLCULO NORMA L2 (Ecuación 8 del paper) ---\n",
        "            # torch.norm con p=2 y dim=(0,1) hace:\n",
        "            # ||X_d^i|| = sqrt(sum_{b,s} X_d[b,s,i]²)\n",
        "            act_norms_L2 = torch.norm(\n",
        "                X_d.to(torch.float32),  # Asegurar precisión\n",
        "                p=2,\n",
        "                dim=(0, 1)  # Sumar sobre batch y secuencia\n",
        "            )  # Resultado: [intermediate_size]\n",
        "\n",
        "            # Acumular en CPU para ahorrar VRAM\n",
        "            _accumulated_act_norms[layer_idx] += act_norms_L2.cpu()\n",
        "\n",
        "        return hook\n",
        "\n",
        "    # Registrar hooks\n",
        "    for idx, layer in enumerate(model.model.layers):\n",
        "        handle = layer.mlp.down_proj.register_forward_hook(\n",
        "            make_hook(idx)\n",
        "        )\n",
        "        handles.append(handle)\n",
        "\n",
        "    print(f\"✓ Registrados {len(handles)} hooks en down_proj para capturar X_d\")\n",
        "\n",
        "    return handles"
      ],
      "metadata": {
        "id": "8p2pZSxXi6R1"
      },
      "execution_count": 20,
      "outputs": []
    },
    {
      "cell_type": "code",
      "source": [
        "def get_activation_norms():\n",
        "    \"\"\"\n",
        "    Retorna las normas L2 acumuladas en formato listo para usar.\n",
        "\n",
        "    Returns:\n",
        "        Dict[int, torch.Tensor]: {layer_idx: normas_L2 [intermediate_size]}\n",
        "    \"\"\"\n",
        "    return {\n",
        "        layer_idx: norms.clone()  # Clone para evitar modificaciones\n",
        "        for layer_idx, norms in _accumulated_act_norms.items()\n",
        "    }"
      ],
      "metadata": {
        "id": "-cnY8MOwi2UX"
      },
      "execution_count": 21,
      "outputs": []
    },
    {
      "cell_type": "markdown",
      "metadata": {
        "id": "CK9NwmBWnkSP"
      },
      "source": [
        "#Pruning the Model.\n",
        "##Support pruning functions.\n",
        "###Compute neuron importance functions.\n",
        "\n",
        "\n",
        "\n"
      ]
    },
    {
      "cell_type": "code",
      "execution_count": 22,
      "metadata": {
        "id": "Seyqaquj7mQA"
      },
      "outputs": [],
      "source": [
        "def compute_neuron_pair_importance(gate_weight, up_weight, down_weight, X_d_norm):\n",
        "    \"\"\"\n",
        "    Computes neuron pair importance scores using CFSP methodology (Equation 8).\n",
        "\n",
        "    Paper: \"CFSP: An Efficient Structured Pruning Framework for LLMs with\n",
        "            Coarse-to-Fine Activation Information\" (arXiv:2409.13199v2)\n",
        "\n",
        "    Equation 8:\n",
        "    F_i^l = Σ_j ( |W_d^ij · ||X_d^i|| / ||W_d^*j · ||X_d^*||| + |W_u^ij| / ||W_u^i*|| + |W_g^ij| / ||W_g^i*|| )\n",
        "\n",
        "    Where:\n",
        "    - W_d: down_proj weights [hidden_size, intermediate_size]\n",
        "    - W_u: up_proj weights [intermediate_size, hidden_size]\n",
        "    - W_g: gate_proj weights [intermediate_size, hidden_size]\n",
        "    - X_d: Activations at down_proj input (SiLU(gate) ⊙ up)\n",
        "    - ||X_d^i||: L2 norm of neuron i across batch and sequence\n",
        "    - W_d^*j: Σ_i |W_d^ij| (sum of weight magnitudes in column j)\n",
        "    - ||X_d^*||: Σ_i ||X_d^i|| (sum of all activation norms)\n",
        "\n",
        "    Args:\n",
        "        gate_weight: Tensor [intermediate_size, hidden_size] from gate_proj.weight\n",
        "        up_weight: Tensor [intermediate_size, hidden_size] from up_proj.weight\n",
        "        down_weight: Tensor [hidden_size, intermediate_size] from down_proj.weight\n",
        "        X_d_norm: Tensor [intermediate_size] with accumulated L2 norms ||X_d^i||\n",
        "\n",
        "    Returns:\n",
        "        importance_scores: Tensor [intermediate_size] with importance score per neuron pair\n",
        "    \"\"\"\n",
        "    device = gate_weight.device\n",
        "    intermediate_size = gate_weight.size(0)\n",
        "\n",
        "    # Move X_d_norm to same device and ensure float32\n",
        "    X_d_norm = X_d_norm.to(device).to(torch.float32)\n",
        "\n",
        "    # Convert weights to float32 for numerical stability\n",
        "    gate_weight = gate_weight.float()\n",
        "    up_weight = up_weight.float()\n",
        "    down_weight = down_weight.float()\n",
        "\n",
        "    # ============================================================================\n",
        "    # COMPONENT 1: down_proj with activations\n",
        "    # Term: |W_d^ij · ||X_d^i|| / (||W_d^*j|| · ||X_d^*||)\n",
        "    # ============================================================================\n",
        "\n",
        "    # Transpose down_weight: [hidden_size, intermediate_size] -> [intermediate_size, hidden_size]\n",
        "    W_d_t = down_weight.t()  # [intermediate_size, hidden_size]\n",
        "    W_d_abs = torch.abs(W_d_t)  # [intermediate_size, hidden_size]\n",
        "\n",
        "    # --- NUMERATOR: |W_d^ij| * ||X_d^i|| ---\n",
        "    # Element-wise product for each (i, j) pair\n",
        "    numerator = W_d_abs * X_d_norm.unsqueeze(1)  # [intermediate_size, hidden_size]\n",
        "\n",
        "    # --- DENOMINATOR: (Σ_i |W_d^ij|) * (Σ_i ||X_d^i||) ---\n",
        "    # Part 1: ||W_d^*j|| = Σ_i |W_d^ij| (sum over rows for each column j)\n",
        "    W_d_column_sums = W_d_abs.sum(dim=0, keepdim=True)  # [1, hidden_size]\n",
        "\n",
        "    # Part 2: ||X_d^*|| = Σ_i ||X_d^i|| (sum of all activation norms)\n",
        "    X_d_total_norm = X_d_norm.sum()  # Scalar\n",
        "\n",
        "    # Denominator: product of the two sums (broadcast to match numerator shape)\n",
        "    denominator = W_d_column_sums * X_d_total_norm  # [1, hidden_size]\n",
        "\n",
        "    # --- NORMALIZED TERM ---\n",
        "    # Divide numerator by denominator and sum over output dimension j\n",
        "    normalized_down = (numerator / (denominator + 1e-8)).sum(dim=1)  # [intermediate_size]\n",
        "\n",
        "    # ============================================================================\n",
        "    # COMPONENT 2: up_proj weights only\n",
        "    # Term: |W_u^ij| / ||W_u^i*||\n",
        "    # ============================================================================\n",
        "\n",
        "    # Take absolute values of up_proj weights\n",
        "    up_abs = torch.abs(up_weight)  # [intermediate_size, hidden_size]\n",
        "\n",
        "    # Sum over input dimension (rows): ||W_u^i*||\n",
        "    row_sums_up = up_abs.sum(dim=1, keepdim=True)  # [intermediate_size, 1]\n",
        "\n",
        "    # Normalize by row sum and sum over output dimension\n",
        "    normalized_up = (up_abs / (row_sums_up + 1e-8)).sum(dim=1)  # [intermediate_size]\n",
        "\n",
        "    # ============================================================================\n",
        "    # COMPONENT 3: gate_proj weights only\n",
        "    # Term: |W_g^ij| / ||W_g^i*||\n",
        "    # ============================================================================\n",
        "\n",
        "    # Take absolute values of gate_proj weights\n",
        "    gate_abs = torch.abs(gate_weight)  # [intermediate_size, hidden_size]\n",
        "\n",
        "    # Sum over input dimension (rows): ||W_g^i*||\n",
        "    row_sums_gate = gate_abs.sum(dim=1, keepdim=True)  # [intermediate_size, 1]\n",
        "\n",
        "    # Normalize by row sum and sum over output dimension\n",
        "    normalized_gate = (gate_abs / (row_sums_gate + 1e-8)).sum(dim=1)  # [intermediate_size]\n",
        "\n",
        "    # ============================================================================\n",
        "    # FINAL IMPORTANCE SCORE (Equation 8)\n",
        "    # F_i^l = sum of all three components\n",
        "    # ============================================================================\n",
        "\n",
        "    importance_scores = normalized_down + normalized_up + normalized_gate\n",
        "\n",
        "    return importance_scores"
      ]
    },
    {
      "cell_type": "code",
      "execution_count": 23,
      "metadata": {
        "id": "NX9Boph94RWA"
      },
      "outputs": [],
      "source": [
        "def prune_neuron_pairs(mlp, prune_percent, X_d_norm, layer_idx):\n",
        "    \"\"\"\n",
        "    Prunes neuron pairs from MLP block using CFSP importance scores.\n",
        "\n",
        "    Reduces dimensions of gate_proj, up_proj, and down_proj layers by removing\n",
        "    the least important neuron pairs based on data-driven activation analysis.\n",
        "\n",
        "    Args:\n",
        "        mlp: LlamaMLP module to prune\n",
        "        prune_percent: Fraction of neurons to remove (e.g., 0.2 for 20%)\n",
        "        X_d_norm: Tensor [intermediate_size] with accumulated L2 norms ||X_d^i||\n",
        "                  from calibration forward passes\n",
        "        layer_idx: Layer index (for logging/debugging purposes)\n",
        "\n",
        "    Returns:\n",
        "        new_gate_proj: Pruned gate_proj layer\n",
        "        new_up_proj: Pruned up_proj layer\n",
        "        new_down_proj: Pruned down_proj layer\n",
        "        k: New intermediate size after pruning\n",
        "    \"\"\"\n",
        "\n",
        "    # ============================================================================\n",
        "    # STEP 1: Extract weights from original layers\n",
        "    # ============================================================================\n",
        "\n",
        "    gate_weight = mlp.gate_proj.weight.data  # [intermediate_size, hidden_size]\n",
        "    up_weight = mlp.up_proj.weight.data      # [intermediate_size, hidden_size]\n",
        "    down_weight = mlp.down_proj.weight.data  # [hidden_size, intermediate_size]\n",
        "\n",
        "    original_intermediate_size = gate_weight.size(0)\n",
        "\n",
        "    # ============================================================================\n",
        "    # STEP 2: Compute importance scores using CFSP method\n",
        "    # ============================================================================\n",
        "\n",
        "    importance_scores = compute_neuron_pair_importance(\n",
        "        gate_weight=gate_weight,\n",
        "        up_weight=up_weight,\n",
        "        down_weight=down_weight,\n",
        "        X_d_norm=X_d_norm\n",
        "    )\n",
        "\n",
        "    # ============================================================================\n",
        "    # STEP 3: Determine how many neurons to keep\n",
        "    # ============================================================================\n",
        "\n",
        "    # Calculate number of neurons to prune\n",
        "    num_to_prune = min(\n",
        "        int(prune_percent * original_intermediate_size),\n",
        "        original_intermediate_size - 1  # Must keep at least 1 neuron\n",
        "    )\n",
        "\n",
        "    # Calculate number of neurons to keep\n",
        "    k = original_intermediate_size - num_to_prune\n",
        "\n",
        "    # Safety check\n",
        "    if k <= 0:\n",
        "        raise ValueError(\n",
        "            f\"Layer {layer_idx}: Invalid number of neurons to keep: {k}. \"\n",
        "            f\"Original size: {original_intermediate_size}, prune_percent: {prune_percent}\"\n",
        "        )\n",
        "\n",
        "    # ============================================================================\n",
        "    # STEP 4: Select top-k most important neuron pairs\n",
        "    # ============================================================================\n",
        "\n",
        "    # Get indices of top-k neurons by importance score\n",
        "    _, indices_to_keep = torch.topk(\n",
        "        importance_scores,\n",
        "        k,\n",
        "        largest=True,   # Keep neurons with highest importance\n",
        "        sorted=True     # Sort for reproducibility\n",
        "    )\n",
        "\n",
        "    # Sort indices in ascending order (maintains original ordering)\n",
        "    indices_to_keep = indices_to_keep.sort().values\n",
        "\n",
        "    # ============================================================================\n",
        "    # STEP 5: Create new pruned layers\n",
        "    # ============================================================================\n",
        "\n",
        "    device = gate_weight.device\n",
        "\n",
        "    # Create new layers with reduced intermediate dimension\n",
        "    new_gate_proj = nn.Linear(\n",
        "        mlp.gate_proj.in_features,   # hidden_size (unchanged)\n",
        "        k,                             # New intermediate_size\n",
        "        bias=False\n",
        "    ).to(device)\n",
        "\n",
        "    new_up_proj = nn.Linear(\n",
        "        mlp.up_proj.in_features,     # hidden_size (unchanged)\n",
        "        k,                             # New intermediate_size\n",
        "        bias=False\n",
        "    ).to(device)\n",
        "\n",
        "    new_down_proj = nn.Linear(\n",
        "        k,                             # New intermediate_size\n",
        "        mlp.down_proj.out_features,  # hidden_size (unchanged)\n",
        "        bias=False\n",
        "    ).to(device)\n",
        "\n",
        "    # ============================================================================\n",
        "    # STEP 6: Copy weights for kept neurons\n",
        "    # ============================================================================\n",
        "\n",
        "    # For gate_proj and up_proj: keep rows (output dimension)\n",
        "    new_gate_proj.weight.data = gate_weight[indices_to_keep, :]\n",
        "    new_up_proj.weight.data = up_weight[indices_to_keep, :]\n",
        "\n",
        "    # For down_proj: keep columns (input dimension)\n",
        "    new_down_proj.weight.data = down_weight[:, indices_to_keep]\n",
        "\n",
        "    # ============================================================================\n",
        "    # STEP 7: Return pruned layers and new size\n",
        "    # ============================================================================\n",
        "\n",
        "    return new_gate_proj, new_up_proj, new_down_proj, k\n"
      ]
    },
    {
      "cell_type": "markdown",
      "metadata": {
        "id": "QT0v_RpeST87"
      },
      "source": [
        "# Prune Loop\n",
        "The update_model function iterates through the blocks within the model's Transformer structure. This structure consists of multiple `LlamaDecoderLayer` blocks, and each of these blocks contains a pair of `LlamaSdpaAttention` and `LlamaMLP` components. The latter contains the MLP layers that will be the target of the pruning process.\n",
        "```\n",
        "(layers): ModuleList(\n",
        "      (0-15): 16 x LlamaDecoderLayer(\n",
        "        (self_attn): LlamaSdpaAttention(\n",
        "          (q_proj): Linear(in_features=2048, out_features=2048, bias=False)\n",
        "          (k_proj): Linear(in_features=2048, out_features=512, bias=False)\n",
        "          (v_proj): Linear(in_features=2048, out_features=512, bias=False)\n",
        "          (o_proj): Linear(in_features=2048, out_features=2048, bias=False)\n",
        "          (rotary_emb): LlamaRotaryEmbedding()\n",
        "        )\n",
        "        (mlp): LlamaMLP(\n",
        "          (gate_proj): Linear(in_features=2048, out_features=8192, bias=False)\n",
        "          (up_proj): Linear(in_features=2048, out_features=8192, bias=False)\n",
        "          (down_proj): Linear(in_features=8192, out_features=2048, bias=False)\n",
        "          (act_fn): SiLU()\n",
        "        )\n",
        "        (input_layernorm): LlamaRMSNorm((2048,), eps=1e-05)\n",
        "        (post_attention_layernorm): LlamaRMSNorm((2048,), eps=1e-05)\n",
        "      )\n",
        "  )    \n",
        "```\n",
        "The layers that will undergo the removal of neurons identified as less useful are:\n",
        "```\n",
        "(gate_proj): Linear(in_features=2048, out_features=8192, bias=False)\n",
        "(up_proj): Linear(in_features=2048, out_features=8192, bias=False)\n",
        "(down_proj): Linear(in_features=8192, out_features=2048, bias=False)\n",
        "```\n",
        "The neurons are removed in the `prune_neurons` function based on the values returned by `compute_neuron_pair_importance`."
      ]
    },
    {
      "cell_type": "code",
      "execution_count": 24,
      "metadata": {
        "id": "FxJEWg1X3j0m"
      },
      "outputs": [],
      "source": [
        "def update_model(model, prune_percent, activation_norms):\n",
        "    \"\"\"\n",
        "    Applies pruning to all MLP layers in the model using CFSP method.\n",
        "\n",
        "    Iterates through each transformer layer and prunes its MLP block based on\n",
        "    data-driven importance scores computed from calibration activations.\n",
        "\n",
        "    Args:\n",
        "        model: LlamaForCausalLM model to prune\n",
        "        prune_percent: Fraction of neurons to remove (e.g., 0.2 for 20%)\n",
        "        activation_norms: Dict mapping layer_idx -> X_d_norm tensor\n",
        "                          Example: {0: tensor([...]), 1: tensor([...]), ...}\n",
        "\n",
        "    Returns:\n",
        "        model: Pruned model with updated layers and config\n",
        "    \"\"\"\n",
        "\n",
        "    new_intermediate_size = None\n",
        "    pruning_stats = []\n",
        "\n",
        "    print(f\"\\n{'='*60}\")\n",
        "    print(f\"Starting pruning with {prune_percent*100:.1f}% width pruning\")\n",
        "    print(f\"{'='*60}\\n\")\n",
        "\n",
        "    # ============================================================================\n",
        "    # Prune each MLP layer\n",
        "    # ============================================================================\n",
        "\n",
        "    for idx, layer in enumerate(model.model.layers):\n",
        "        # Get MLP module\n",
        "        mlp = layer.mlp\n",
        "\n",
        "        # Get activation norms for this layer\n",
        "        if idx not in activation_norms:\n",
        "            raise KeyError(\n",
        "                f\"No activation norms found for layer {idx}. \"\n",
        "                f\"Available layers: {list(activation_norms.keys())}\"\n",
        "            )\n",
        "\n",
        "        X_d_norm = activation_norms[idx]\n",
        "\n",
        "        # Store original size\n",
        "        original_size = mlp.gate_proj.out_features\n",
        "\n",
        "        # Prune the neuron pairs\n",
        "        new_gate_proj, new_up_proj, new_down_proj, new_size = prune_neuron_pairs(\n",
        "            mlp=mlp,\n",
        "            prune_percent=prune_percent,\n",
        "            X_d_norm=X_d_norm,\n",
        "            layer_idx=idx\n",
        "        )\n",
        "\n",
        "        # Replace layers in model\n",
        "        mlp.gate_proj = new_gate_proj\n",
        "        mlp.up_proj = new_up_proj\n",
        "        mlp.down_proj = new_down_proj\n",
        "\n",
        "        # Store statistics\n",
        "        pruning_stats.append({\n",
        "            'layer': idx,\n",
        "            'original_size': original_size,\n",
        "            'new_size': new_size,\n",
        "            'pruned': original_size - new_size,\n",
        "            'kept_percent': (new_size / original_size) * 100\n",
        "        })\n",
        "\n",
        "        # Set new_intermediate_size (same for all layers)\n",
        "        if new_intermediate_size is None:\n",
        "            new_intermediate_size = new_size\n",
        "\n",
        "        # Progress indicator\n",
        "        if (idx + 1) % 4 == 0:\n",
        "            print(f\"  Pruned layers {idx-3:2d}-{idx:2d}: \"\n",
        "                  f\"{original_size} → {new_size} neurons \"\n",
        "                  f\"({(new_size/original_size)*100:.1f}% kept)\")\n",
        "\n",
        "    # ============================================================================\n",
        "    # Update model configuration\n",
        "    # ============================================================================\n",
        "\n",
        "    model.config.intermediate_size = new_intermediate_size\n",
        "\n",
        "    # ============================================================================\n",
        "    # Print summary statistics\n",
        "    # ============================================================================\n",
        "\n",
        "    print(f\"\\n{'='*60}\")\n",
        "    print(f\"Pruning completed!\")\n",
        "    print(f\"{'='*60}\")\n",
        "    print(f\"  Layers pruned: {len(pruning_stats)}\")\n",
        "    print(f\"  Original intermediate size: {original_size}\")\n",
        "    print(f\"  New intermediate size: {new_intermediate_size}\")\n",
        "    print(f\"  Neurons pruned per layer: {original_size - new_intermediate_size}\")\n",
        "    print(f\"  Effective width pruning: {((original_size - new_intermediate_size) / original_size) * 100:.2f}%\")\n",
        "    print(f\"{'='*60}\\n\")\n",
        "\n",
        "    return model\n"
      ]
    },
    {
      "cell_type": "markdown",
      "metadata": {
        "id": "KtHtSbRmS267"
      },
      "source": [
        "## Obtain & test the pruned model."
      ]
    },
    {
      "cell_type": "code",
      "source": [
        "# Step 1: Setup hooks to capture activations\n",
        "print(\"Setting up activation hooks...\")\n",
        "handles = setup_mlp_hooks_for_importance(model, device)\n",
        "\n",
        "# Step 2: Run calibration forward passes\n",
        "print(\"=\"*60)\n",
        "print(\"RUNNING CALIBRATION FORWARD PASSES\")\n",
        "print(\"=\"*60)\n",
        "\n",
        "model.eval()  # Set to evaluation mode\n",
        "\n",
        "with torch.no_grad():\n",
        "    for batch_idx, batch in enumerate(tqdm(dataloaderwiki, desc=\"Calibration\")):\n",
        "        # Move batch to device\n",
        "        # Your DataLoader already returns 'input_ids' and 'attention_mask'\n",
        "        inputs = {\n",
        "            'input_ids': batch['input_ids'].to(device),\n",
        "            'attention_mask': batch['attention_mask'].to(device)\n",
        "        }\n",
        "\n",
        "        # Forward pass (hooks are triggered automatically)\n",
        "        outputs = model(**inputs)\n",
        "\n",
        "        # Optional: Clear cache periodically to avoid OOM\n",
        "        if (batch_idx + 1) % 10 == 0:\n",
        "            torch.cuda.empty_cache()\n",
        "\n",
        "print(f\"\\n✓ Processed {len(dataloaderwiki)} batches\")\n",
        "print()\n",
        "\n",
        "# Step 3: Clean up hooks\n",
        "print(\"Removing hooks...\")\n",
        "for handle in handles:\n",
        "    handle.remove()\n",
        "\n",
        "# Step 4: Get accumulated activation norms\n",
        "print(\"Extracting activation statistics...\")\n",
        "activation_norms = get_activation_norms()\n",
        "\n",
        "# Verify we have norms for all layers\n",
        "num_layers = len(model.model.layers)\n",
        "assert len(activation_norms) == num_layers, \\\n",
        "    f\"Expected norms for {num_layers} layers, got {len(activation_norms)}\"\n",
        "\n",
        "print(f\"✓ Collected activation norms for {num_layers} layers\")\n"
      ],
      "metadata": {
        "id": "NyV0nNxI2WgU",
        "outputId": "017fa020-31a2-499e-8a69-d3854a57198c",
        "colab": {
          "base_uri": "https://localhost:8080/"
        }
      },
      "execution_count": 25,
      "outputs": [
        {
          "output_type": "stream",
          "name": "stdout",
          "text": [
            "Setting up activation hooks...\n",
            "✓ Registrados 16 hooks en down_proj para capturar X_d\n",
            "============================================================\n",
            "RUNNING CALIBRATION FORWARD PASSES\n",
            "============================================================\n"
          ]
        },
        {
          "output_type": "stream",
          "name": "stderr",
          "text": [
            "Calibration: 100%|██████████| 125/125 [02:29<00:00,  1.19s/it]"
          ]
        },
        {
          "output_type": "stream",
          "name": "stdout",
          "text": [
            "\n",
            "✓ Processed 125 batches\n",
            "\n",
            "Removing hooks...\n",
            "Extracting activation statistics...\n",
            "✓ Collected activation norms for 16 layers\n"
          ]
        },
        {
          "output_type": "stream",
          "name": "stderr",
          "text": [
            "\n"
          ]
        }
      ]
    },
    {
      "cell_type": "code",
      "execution_count": 26,
      "metadata": {
        "id": "NIUnFU5R3n42",
        "outputId": "5ed32b7a-d858-4436-ff21-ca5e73a643c2",
        "colab": {
          "base_uri": "https://localhost:8080/"
        }
      },
      "outputs": [
        {
          "output_type": "stream",
          "name": "stdout",
          "text": [
            "\n",
            "============================================================\n",
            "Starting pruning with 20.0% width pruning\n",
            "============================================================\n",
            "\n",
            "  Pruned layers  0- 3: 8192 → 6554 neurons (80.0% kept)\n",
            "  Pruned layers  4- 7: 8192 → 6554 neurons (80.0% kept)\n",
            "  Pruned layers  8-11: 8192 → 6554 neurons (80.0% kept)\n",
            "  Pruned layers 12-15: 8192 → 6554 neurons (80.0% kept)\n",
            "\n",
            "============================================================\n",
            "Pruning completed!\n",
            "============================================================\n",
            "  Layers pruned: 16\n",
            "  Original intermediate size: 8192\n",
            "  New intermediate size: 6554\n",
            "  Neurons pruned per layer: 1638\n",
            "  Effective width pruning: 20.00%\n",
            "============================================================\n",
            "\n"
          ]
        }
      ],
      "source": [
        "prune_percent = 0.2  # Prune 20% of neurons\n",
        "model = update_model(model, prune_percent, activation_norms)"
      ]
    },
    {
      "cell_type": "code",
      "execution_count": 27,
      "metadata": {
        "colab": {
          "base_uri": "https://localhost:8080/"
        },
        "id": "tdJUkfWI3qMM",
        "outputId": "b4147689-fbda-46da-8979-2381ba233a42"
      },
      "outputs": [
        {
          "output_type": "stream",
          "name": "stdout",
          "text": [
            "Pruned model parameters: 1074792448\n",
            "Reduction in parameters: 161021952\n",
            "Percentage of weight savings: 13.03%\n"
          ]
        }
      ],
      "source": [
        "# Recalculate the number of parameters\n",
        "pruned_param_count = count_parameters(model)\n",
        "reduction_in_params = original_param_count - pruned_param_count\n",
        "percentage_savings = (reduction_in_params / original_param_count) * 100\n",
        "\n",
        "print(f\"Pruned model parameters: {pruned_param_count}\")\n",
        "print(f\"Reduction in parameters: {reduction_in_params}\")\n",
        "print(f\"Percentage of weight savings: {percentage_savings:.2f}%\")\n"
      ]
    },
    {
      "cell_type": "code",
      "execution_count": 28,
      "metadata": {
        "colab": {
          "base_uri": "https://localhost:8080/"
        },
        "id": "wvj-iIsO5M6U",
        "outputId": "3774f6e8-fe6a-40b1-d1d4-a33f9d8b5770"
      },
      "outputs": [
        {
          "output_type": "stream",
          "name": "stdout",
          "text": [
            "Generated text after pruning: Paris is the capital of the French region of Île-de-France. It is located on the Seine River in the north-east of Paris. The city has a population of 1.6 million people, making it the largest city in\n"
          ]
        }
      ],
      "source": [
        "# Test the pruned model\n",
        "generated = get_output(prompt, model, tokenizer)\n",
        "print(f\"Generated text after pruning: {generated}\")"
      ]
    },
    {
      "cell_type": "markdown",
      "metadata": {
        "id": "JGzXMQrVTULv"
      },
      "source": [
        "The result is slightly different from what the original model produced, but it’s still a fairly accurate response.\n",
        "\n",
        "In contrast to the model created in notebook: [6_2_pruning_structured_llama3.2-1b_KO.ipynb](https://github.com/peremartra/Large-Language-Model-Notebooks-Course/blob/main/6_2_pruning_structured_llama3.2-1b_KO.ipynb) where the pruned Llama model lost almost all its utility, the model in this notebook retains a good portion of its knowledge."
      ]
    },
    {
      "cell_type": "markdown",
      "metadata": {
        "id": "dDQrSrf-VCyI"
      },
      "source": [
        "Looking at the model’s new structure, we can see that the `gate_proj` and `up_proj` layers have had their `out_features` reduced to 6554 from 8192. Consequently, the `down_proj` layer has its `in_features` adjusted to match the new size."
      ]
    },
    {
      "cell_type": "code",
      "execution_count": 29,
      "metadata": {
        "colab": {
          "base_uri": "https://localhost:8080/"
        },
        "id": "ATAiqZW30NYN",
        "outputId": "bd091ba9-2eed-4f35-83f4-975e2351aed7"
      },
      "outputs": [
        {
          "output_type": "stream",
          "name": "stdout",
          "text": [
            "LlamaForCausalLM(\n",
            "  (model): LlamaModel(\n",
            "    (embed_tokens): Embedding(128256, 2048)\n",
            "    (layers): ModuleList(\n",
            "      (0-15): 16 x LlamaDecoderLayer(\n",
            "        (self_attn): LlamaAttention(\n",
            "          (q_proj): Linear(in_features=2048, out_features=2048, bias=False)\n",
            "          (k_proj): Linear(in_features=2048, out_features=512, bias=False)\n",
            "          (v_proj): Linear(in_features=2048, out_features=512, bias=False)\n",
            "          (o_proj): Linear(in_features=2048, out_features=2048, bias=False)\n",
            "        )\n",
            "        (mlp): LlamaMLP(\n",
            "          (gate_proj): Linear(in_features=2048, out_features=6554, bias=False)\n",
            "          (up_proj): Linear(in_features=2048, out_features=6554, bias=False)\n",
            "          (down_proj): Linear(in_features=6554, out_features=2048, bias=False)\n",
            "          (act_fn): SiLUActivation()\n",
            "        )\n",
            "        (input_layernorm): LlamaRMSNorm((2048,), eps=1e-05)\n",
            "        (post_attention_layernorm): LlamaRMSNorm((2048,), eps=1e-05)\n",
            "      )\n",
            "    )\n",
            "    (norm): LlamaRMSNorm((2048,), eps=1e-05)\n",
            "    (rotary_emb): LlamaRotaryEmbedding()\n",
            "  )\n",
            "  (lm_head): Linear(in_features=2048, out_features=128256, bias=False)\n",
            ")\n"
          ]
        }
      ],
      "source": [
        "print(model)"
      ]
    },
    {
      "cell_type": "markdown",
      "metadata": {
        "id": "q6qEmvooZycx"
      },
      "source": [
        "#Upload the model to HuggingFace."
      ]
    },
    {
      "cell_type": "code",
      "execution_count": 30,
      "metadata": {
        "colab": {
          "base_uri": "https://localhost:8080/"
        },
        "id": "S2Ll_kqe5QzO",
        "outputId": "fdadff6c-3e85-4026-a7c3-f270eb7d8599"
      },
      "outputs": [
        {
          "output_type": "stream",
          "name": "stdout",
          "text": [
            "Pruned model saved to ./pruned20-llama-1b-db\n"
          ]
        }
      ],
      "source": [
        "new_model_name = 'pruned20-llama-1b-db'\n",
        "output_dir = './'+new_model_name\n",
        "if not os.path.exists(output_dir):\n",
        "    os.makedirs(output_dir)\n",
        "\n",
        "model.save_pretrained(output_dir)\n",
        "tokenizer.save_pretrained(output_dir)\n",
        "print(f\"Pruned model saved to {output_dir}\")"
      ]
    },
    {
      "cell_type": "code",
      "execution_count": null,
      "metadata": {
        "id": "3LjjsGZV5ZHJ"
      },
      "outputs": [],
      "source": [
        "# Push the model to your Hugging Face repository\n",
        "\n",
        "model.push_to_hub(new_model_name, private=True)"
      ]
    },
    {
      "cell_type": "code",
      "execution_count": null,
      "metadata": {
        "id": "6xNN-aYa5h9B"
      },
      "outputs": [],
      "source": [
        "tokenizer.push_to_hub(new_model_name)"
      ]
    },
    {
      "cell_type": "markdown",
      "metadata": {
        "id": "XdKFR5Ju23kI"
      },
      "source": [
        "#Evaluating models"
      ]
    },
    {
      "cell_type": "markdown",
      "metadata": {
        "id": "_UM2pkqFAYEe"
      },
      "source": [
        "In this section, we'll take a look at some standard evaluations in the world of Large Language Models using the lm-evaluation library from EleutherAI.\n",
        "\n",
        "Specifically, we'll use LAMBADA and BoolQ. Since the pruning performed could be considered structural—that is, it affects the model's overall structure without a specific target—I’ve chosen two rather different evaluation tasks.\n",
        "\n",
        "I want to remind you that the goal of this notebook is to demonstrate the pruning process, so I won’t be doing a comprehensive study of how it impacts performance; that will be saved for a future article. Additionally, these models are designed to be fine-tuned before being used.\n",
        "\n",
        "However, I believe that seeing how pruning impacts model performance can help illustrate the pruning process itself."
      ]
    },
    {
      "cell_type": "code",
      "execution_count": 33,
      "metadata": {
        "id": "XPOg8Hoa22xA",
        "outputId": "b7fc27e3-7639-4f1f-c669-35e27ef06ea1",
        "colab": {
          "base_uri": "https://localhost:8080/"
        }
      },
      "outputs": [
        {
          "output_type": "stream",
          "name": "stdout",
          "text": [
            "\u001b[2K     \u001b[90m━━━━━━━━━━━━━━━━━━━━━━━━━━━━━━━━━━━━━━━━\u001b[0m \u001b[32m53.6/53.6 kB\u001b[0m \u001b[31m2.8 MB/s\u001b[0m eta \u001b[36m0:00:00\u001b[0m\n",
            "\u001b[?25h  Preparing metadata (setup.py) ... \u001b[?25l\u001b[?25hdone\n",
            "\u001b[2K     \u001b[90m━━━━━━━━━━━━━━━━━━━━━━━━━━━━━━━━━━━━━━━━\u001b[0m \u001b[32m51.8/51.8 kB\u001b[0m \u001b[31m4.9 MB/s\u001b[0m eta \u001b[36m0:00:00\u001b[0m\n",
            "\u001b[?25h  Preparing metadata (setup.py) ... \u001b[?25l\u001b[?25hdone\n",
            "  Preparing metadata (setup.py) ... \u001b[?25l\u001b[?25hdone\n",
            "\u001b[2K   \u001b[90m━━━━━━━━━━━━━━━━━━━━━━━━━━━━━━━━━━━━━━━━\u001b[0m \u001b[32m7.5/7.5 MB\u001b[0m \u001b[31m21.7 MB/s\u001b[0m eta \u001b[36m0:00:00\u001b[0m\n",
            "\u001b[2K   \u001b[90m━━━━━━━━━━━━━━━━━━━━━━━━━━━━━━━━━━━━━━━━\u001b[0m \u001b[32m491.5/491.5 kB\u001b[0m \u001b[31m38.9 MB/s\u001b[0m eta \u001b[36m0:00:00\u001b[0m\n",
            "\u001b[2K   \u001b[90m━━━━━━━━━━━━━━━━━━━━━━━━━━━━━━━━━━━━━━━━\u001b[0m \u001b[32m84.1/84.1 kB\u001b[0m \u001b[31m7.9 MB/s\u001b[0m eta \u001b[36m0:00:00\u001b[0m\n",
            "\u001b[2K   \u001b[90m━━━━━━━━━━━━━━━━━━━━━━━━━━━━━━━━━━━━━━━━\u001b[0m \u001b[32m293.6/293.6 kB\u001b[0m \u001b[31m27.2 MB/s\u001b[0m eta \u001b[36m0:00:00\u001b[0m\n",
            "\u001b[2K   \u001b[90m━━━━━━━━━━━━━━━━━━━━━━━━━━━━━━━━━━━━━━━━\u001b[0m \u001b[32m104.1/104.1 kB\u001b[0m \u001b[31m11.8 MB/s\u001b[0m eta \u001b[36m0:00:00\u001b[0m\n",
            "\u001b[2K   \u001b[90m━━━━━━━━━━━━━━━━━━━━━━━━━━━━━━━━━━━━━━━━\u001b[0m \u001b[32m91.1/91.1 kB\u001b[0m \u001b[31m6.9 MB/s\u001b[0m eta \u001b[36m0:00:00\u001b[0m\n",
            "\u001b[?25h  Building wheel for rouge-score (setup.py) ... \u001b[?25l\u001b[?25hdone\n",
            "  Building wheel for sqlitedict (setup.py) ... \u001b[?25l\u001b[?25hdone\n",
            "  Building wheel for word2number (setup.py) ... \u001b[?25l\u001b[?25hdone\n"
          ]
        }
      ],
      "source": [
        "!pip install -q lm-eval\n",
        "from lm_eval import evaluator, tasks, models"
      ]
    },
    {
      "cell_type": "code",
      "execution_count": 34,
      "metadata": {
        "id": "N5wp8lM63IGz"
      },
      "outputs": [],
      "source": [
        "def evaluate_hf_model(model_name, tasks=['arc_easy'], num_fewshot=0):\n",
        "    \"\"\"\n",
        "    It calls the evaluator to evaluate a model available on Hugging Face.\n",
        "\n",
        "    Args:\n",
        "    - model_name: The model name in hugging Face.\n",
        "    - tasks: Tasks to evaluate.\n",
        "    - num_fewshot: Number of examples of few-shot learning\n",
        "\n",
        "    Returns:\n",
        "    - metrics.\n",
        "    \"\"\"\n",
        "    model_args = f\"pretrained={model_name},device=cuda\"\n",
        "    tasks = tasks\n",
        "\n",
        "    results = evaluator.simple_evaluate(\n",
        "      model=\"hf\",\n",
        "      model_args=model_args,\n",
        "      tasks=tasks,\n",
        "      num_fewshot=0,  # Number of few-shot smaples.\n",
        "      limit=None,  # Use all the samples in the Evaluate Dataset.\n",
        "      bootstrap_iters=10\n",
        "    )\n",
        "\n",
        "    metrics = results.get('results', {})\n",
        "    return metrics"
      ]
    },
    {
      "cell_type": "code",
      "execution_count": 35,
      "metadata": {
        "id": "yZm8VvA33Nh6"
      },
      "outputs": [],
      "source": [
        "# Select tasks to evaluate.\n",
        "tasks = ['lambada', 'boolq']"
      ]
    },
    {
      "cell_type": "code",
      "execution_count": null,
      "metadata": {
        "id": "kTW3E3mp145e"
      },
      "outputs": [],
      "source": [
        "metrics_base = evaluate_hf_model(\"meta-llama/Llama-3.2-1B\", tasks=tasks)"
      ]
    },
    {
      "cell_type": "code",
      "execution_count": 37,
      "metadata": {
        "id": "w-g3vyPN3VZp",
        "outputId": "4327819a-5edc-404c-9eac-718cefe829cc",
        "colab": {
          "base_uri": "https://localhost:8080/"
        }
      },
      "outputs": [
        {
          "output_type": "execute_result",
          "data": {
            "text/plain": [
              "{'boolq': {'alias': 'boolq',\n",
              "  'acc,none': 0.637308868501529,\n",
              "  'acc_stderr,none': 0.008408838061823002},\n",
              " 'lambada_openai': {'alias': 'lambada_openai',\n",
              "  'perplexity,none': 5.747471606969041,\n",
              "  'perplexity_stderr,none': 0.19350717486069613,\n",
              "  'acc,none': 0.6198331069280031,\n",
              "  'acc_stderr,none': 0.006762956659647906},\n",
              " 'lambada_standard': {'alias': 'lambada_standard',\n",
              "  'perplexity,none': 8.673077754353926,\n",
              "  'perplexity_stderr,none': 0.3809304515805616,\n",
              "  'acc,none': 0.5315350281389482,\n",
              "  'acc_stderr,none': 0.006952109107344777}}"
            ]
          },
          "metadata": {},
          "execution_count": 37
        }
      ],
      "source": [
        "metrics_base"
      ]
    },
    {
      "cell_type": "code",
      "execution_count": 38,
      "metadata": {
        "id": "aN5KeIkQ15gM",
        "outputId": "13446f56-cb09-4d71-87b4-1caa07c6dc95",
        "colab": {
          "base_uri": "https://localhost:8080/"
        }
      },
      "outputs": [
        {
          "output_type": "stream",
          "name": "stderr",
          "text": [
            "WARNING:lm_eval.api.task:[Task: boolq] metric acc is defined, but aggregation is not. using default aggregation=mean\n",
            "WARNING:lm_eval.api.task:[Task: boolq] metric acc is defined, but higher_is_better is not. using default higher_is_better=True\n",
            "WARNING:lm_eval.evaluator:Overwriting default num_fewshot of boolq from None to 0\n",
            "WARNING:lm_eval.evaluator:Overwriting default num_fewshot of lambada_standard from None to 0\n",
            "WARNING:lm_eval.evaluator:Overwriting default num_fewshot of lambada_openai from None to 0\n",
            "100%|██████████| 3270/3270 [00:03<00:00, 1031.22it/s]\n",
            "100%|██████████| 5153/5153 [00:20<00:00, 253.65it/s]\n",
            "100%|██████████| 5153/5153 [00:15<00:00, 342.62it/s]\n",
            "Running loglikelihood requests: 100%|██████████| 16846/16846 [07:12<00:00, 38.96it/s]\n"
          ]
        },
        {
          "output_type": "stream",
          "name": "stdout",
          "text": [
            "bootstrapping for stddev: perplexity\n"
          ]
        },
        {
          "output_type": "stream",
          "name": "stderr",
          "text": [
            "100%|██████████| 1/1 [00:00<00:00, 110.20it/s]"
          ]
        },
        {
          "output_type": "stream",
          "name": "stdout",
          "text": [
            "bootstrapping for stddev: perplexity\n"
          ]
        },
        {
          "output_type": "stream",
          "name": "stderr",
          "text": [
            "\n",
            "100%|██████████| 1/1 [00:00<00:00, 94.87it/s]\n"
          ]
        }
      ],
      "source": [
        "metrics_pruned = evaluate_hf_model(\"pruned20-llama-1b-db\", tasks=tasks)"
      ]
    },
    {
      "cell_type": "code",
      "execution_count": 39,
      "metadata": {
        "id": "bboB7uU39l_Z",
        "outputId": "4bc2849d-1a3c-4570-9cce-a313d4decf72",
        "colab": {
          "base_uri": "https://localhost:8080/"
        }
      },
      "outputs": [
        {
          "output_type": "execute_result",
          "data": {
            "text/plain": [
              "{'boolq': {'alias': 'boolq',\n",
              "  'acc,none': 0.6226299694189602,\n",
              "  'acc_stderr,none': 0.008477957863310022},\n",
              " 'lambada_openai': {'alias': 'lambada_openai',\n",
              "  'perplexity,none': 15.401305269771163,\n",
              "  'perplexity_stderr,none': 0.6654464812246137,\n",
              "  'acc,none': 0.4451775664661362,\n",
              "  'acc_stderr,none': 0.006923978566470379},\n",
              " 'lambada_standard': {'alias': 'lambada_standard',\n",
              "  'perplexity,none': 28.310130469438295,\n",
              "  'perplexity_stderr,none': 1.6904404808392741,\n",
              "  'acc,none': 0.37046380749078206,\n",
              "  'acc_stderr,none': 0.006728144610304467}}"
            ]
          },
          "metadata": {},
          "execution_count": 39
        }
      ],
      "source": [
        "metrics_pruned"
      ]
    },
    {
      "cell_type": "code",
      "source": [
        "import matplotlib.pyplot as plt\n",
        "import numpy as np\n",
        "\n",
        "def plot_model_comparison(metrics_base, metrics_pruned):\n",
        "\n",
        "    tasks_to_plot = ['boolq', 'lambada_openai', 'lambada_standard']\n",
        "    display_labels = ['BoolQ', 'Lambada OpenAI', 'Lambada Standard']\n",
        "\n",
        "    try:\n",
        "        base_scores = [metrics_base[task]['acc,none'] for task in tasks_to_plot]\n",
        "        pruned_scores = [metrics_pruned[task]['acc,none'] for task in tasks_to_plot]\n",
        "    except KeyError as e:\n",
        "        return\n",
        "\n",
        "    n_groups = len(tasks_to_plot)\n",
        "    index = np.arange(n_groups)\n",
        "    bar_width = 0.35\n",
        "\n",
        "    fig, ax = plt.subplots(figsize=(10, 6))\n",
        "\n",
        "    color_base = '#3366CC'\n",
        "    color_pruned = '#DC3912'\n",
        "\n",
        "    ax.bar(index - bar_width / 2,\n",
        "           base_scores,\n",
        "           bar_width,\n",
        "           label='Base Model',\n",
        "           color=color_base)\n",
        "\n",
        "    ax.bar(index + bar_width / 2,\n",
        "           pruned_scores,\n",
        "           bar_width,\n",
        "           label='Pruned Model',\n",
        "           color=color_pruned)\n",
        "\n",
        "    ax.set_ylim([0, 0.9])\n",
        "    ax.set_yticks(np.arange(0, 0.9, 0.2))\n",
        "    ax.tick_params(axis='both', which='major', labelsize=12)\n",
        "\n",
        "    ax.set_xticks(index)\n",
        "    ax.set_xticklabels(display_labels)\n",
        "\n",
        "    ax.yaxis.grid(True, linestyle='-', linewidth=0.5, color='lightgray')\n",
        "    ax.set_axisbelow(True)\n",
        "\n",
        "    ax.legend(fontsize=12, loc='upper center', bbox_to_anchor=(0.5, 1.1),\n",
        "              ncol=2, frameon=False)\n",
        "\n",
        "    plt.tight_layout()\n",
        "    plt.show()"
      ],
      "metadata": {
        "id": "6jhx184oHcbO"
      },
      "execution_count": 40,
      "outputs": []
    },
    {
      "cell_type": "code",
      "source": [
        "plot_model_comparison(metrics_base, metrics_pruned)"
      ],
      "metadata": {
        "id": "qZQYe49vHerT",
        "outputId": "664a78e9-5779-4e72-8172-cc6fd42093cf",
        "colab": {
          "base_uri": "https://localhost:8080/",
          "height": 631
        }
      },
      "execution_count": 41,
      "outputs": [
        {
          "output_type": "display_data",
          "data": {
            "text/plain": [
              "<Figure size 1000x600 with 1 Axes>"
            ],
            "image/png": "[encoded data removed]"
          },
          "metadata": {}
        }
      ]
    },
    {
      "cell_type": "markdown",
      "source": [
        "As we can see this Hybrid Pruning system in which we use both static data and activation-based data to decide which neurons to keep produces a very high quality model.\n",
        "\n",
        "If we compare it with the data obtained by the model pruned only using the static data from the `gate_proj` and `up_proj` layers the quality improvement in the Lambada benchmarks is remarkable.\n",
        "\n",
        "| Model | BoolQ | Lambada OpenAI | Lambada Standard |\n",
        "|---|---|---|---|\n",
        "| Base.  | 0.637 | 0.619 | 0.532 |\n",
        "| Pruning Hybrid | 0.622 | 0.445 | 0.370  |\n",
        "| Pruning Static | 0.622 | 0.293 | 0.241  |\n",
        "\n",
        "The method serves not only to create specialist models, but also to create generalist models using a generalist dataset such as wikitext."
      ],
      "metadata": {
        "id": "90wNDvvuauVL"
      }
    },
    {
      "cell_type": "markdown",
      "source": [
        "##Authors Note.\n",
        "In addition to creating content like this notebook and offering it under the MIT license, I have also contributed to repositories such as those of Hugging Face and Google Gemini.\n",
        "\n",
        "I am especially proud of my book: <a href=\"https://amzn.to/4eanT1g\"><b>Large Language Models:</b> Apply and Implement Strategies for Large Language Models</a> (Apress).\n",
        "\n",
        "You can find it on both <a href=\"https://amzn.to/4eanT1g\">Amazon</a> and <a href=\"https://link.springer.com/book/10.1007/979-8-8688-0515-8\">Springer</a>, where they often have good deals on the purchase price.\n",
        "\n",
        "If you take a look and end up purchasing it, keep in mind that you can reach out with any questions via the Discussions section of this same repository or on any of my social media channels. I’ll do my best to respond as quickly as possible."
      ],
      "metadata": {
        "id": "Sd3Jpqaic39j"
      }
    }
  ],
  "metadata": {
    "colab": {
      "gpuType": "T4",
      "provenance": [],
      "include_colab_link": true
    },
    "kernelspec": {
      "display_name": "Python 3",
      "name": "python3"
    },
    "language_info": {
      "name": "python"
    }
  },
  "nbformat": 4,
  "nbformat_minor": 0
}