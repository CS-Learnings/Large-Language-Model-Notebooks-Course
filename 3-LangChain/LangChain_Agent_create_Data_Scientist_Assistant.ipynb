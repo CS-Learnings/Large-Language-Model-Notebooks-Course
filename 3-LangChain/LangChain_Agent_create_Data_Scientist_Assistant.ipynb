{
 "cells": [
  {
   "cell_type": "markdown",
   "metadata": {
    "colab_type": "text",
    "id": "view-in-github"
   },
   "source": [
    "<a href=\"https://colab.research.google.com/github/peremartra/Large-Language-Model-Notebooks-Course/blob/main/3-LangChain/LangChain_Agent_create_Data_Scientist_Assistant.ipynb\" target=\"_parent\"><img src=\"https://colab.research.google.com/assets/colab-badge.svg\" alt=\"Open In Colab\"/></a>"
   ]
  },
  {
   "cell_type": "markdown",
   "metadata": {
    "id": "DPu6Q1vlol-r"
   },
   "source": [
    "<div align=\"center\">\n",
    "<h1><a href=\"https://github.com/peremartra/Large-Language-Model-Notebooks-Course\">LLM Hands On Course</a></h1>\n",
    "    <h3>Understand And Apply Large Language Models</h3>\n",
    "    <p>by <b>Pere Martra</b></p>\n",
    "    <h2>Create a Data Analyst Agent with LangChain </h2>\n",
    "</div>\n",
    "\n",
    "<br>\n",
    "\n",
    "<div align=\"center\">\n",
    "    &nbsp;\n",
    "    <a target=\"_blank\" href=\"https://www.linkedin.com/in/pere-martra/\"><img src=\"https://img.shields.io/badge/style--5eba00.svg?label=LinkedIn&logo=linkedin&style=social\"></a>\n",
    "    \n",
    "</div>\n",
    "\n",
    "<br>\n",
    "<hr>"
   ]
  },
  {
   "cell_type": "markdown",
   "metadata": {
    "id": "SutfCuwbr0QB"
   },
   "source": [
    "# Create an LLMAgent with LangChain\n",
    "\n",
    "We are going to create an Agent With LangChain that using the OpenAI API, will be able to analyze the data contained in an Excel file.\n",
    "\n",
    "It will be able to find relationships between variables, clean the data, search for a model, and execute it to make future predictions.\n",
    "\n",
    "In summary, it will act as a Data Scientist Assistant, helping us in our day-to-day tasks."
   ]
  },
  {
   "cell_type": "markdown",
   "metadata": {
    "id": "UYWYQH6burJZ"
   },
   "source": [
    "## Intalling and importing libraries"
   ]
  },
  {
   "cell_type": "code",
   "execution_count": null,
   "metadata": {
    "colab": {
     "base_uri": "https://localhost:8080/"
    },
    "id": "01iDISWNRzd5",
    "outputId": "d3c12fb7-8879-4cab-a20e-7f2dea94fcf8"
   },
   "outputs": [],
   "source": [
    "!pip install -q langchain==0.1.2\n",
    "!pip install -q langchain_experimental==0.0.49\n",
    "!pip install -q langchain-openai==0.0.2"
   ]
  },
  {
   "cell_type": "markdown",
   "metadata": {
    "id": "RGX5QZNgy7WW"
   },
   "source": [
    "We use the **os** library to store Environ variables. Like OPENAI_API_KEY.\n",
    "\n",
    "Get you OpenAI API  Key: https://platform.openai.com/"
   ]
  },
  {
   "cell_type": "code",
   "execution_count": null,
   "metadata": {
    "colab": {
     "base_uri": "https://localhost:8080/"
    },
    "id": "ErpDywmqURto",
    "outputId": "ebc40738-79b6-42c6-d90e-de98963ed052"
   },
   "outputs": [],
   "source": [
    "import os\n",
    "from getpass import getpass\n",
    "os.environ[\"OPENAI_API_KEY\"] = getpass(\"OpenAI API Key: \")"
   ]
  },
  {
   "cell_type": "markdown",
   "metadata": {
    "id": "DDdr_KjCwkbm"
   },
   "source": [
    "## Loading the Data"
   ]
  },
  {
   "cell_type": "code",
   "execution_count": null,
   "metadata": {
    "colab": {
     "base_uri": "https://localhost:8080/"
    },
    "id": "xP3D13awC5Y6",
    "outputId": "b59b4f1f-794a-4e29-f7ea-924b5470c751"
   },
   "outputs": [],
   "source": [
    "from google.colab import drive\n",
    "drive.mount('/content/drive')"
   ]
  },
  {
   "cell_type": "code",
   "execution_count": null,
   "metadata": {
    "colab": {
     "base_uri": "https://localhost:8080/"
    },
    "id": "DipEHmiMC_cw",
    "outputId": "d73dfc18-a97d-4f2e-8f0a-934a8d5cf3ed"
   },
   "outputs": [],
   "source": [
    "!pip install kaggle"
   ]
  },
  {
   "cell_type": "code",
   "execution_count": null,
   "metadata": {
    "id": "v8wQ7oAuDzJx"
   },
   "outputs": [],
   "source": [
    "import os\n",
    "#This directory should contain you kaggle.json file with you key\n",
    "os.environ['KAGGLE_CONFIG_DIR'] = '/content/drive/MyDrive/kaggle'"
   ]
  },
  {
   "cell_type": "code",
   "execution_count": null,
   "metadata": {
    "colab": {
     "base_uri": "https://localhost:8080/"
    },
    "id": "HC2kOxJgD264",
    "outputId": "a1c500c5-6c54-432b-804a-1941aca7bf96"
   },
   "outputs": [],
   "source": [
    "!kaggle datasets download -d goyaladi/climate-insights-dataset"
   ]
  },
  {
   "cell_type": "code",
   "execution_count": null,
   "metadata": {
    "id": "NuWeRYwtECbH"
   },
   "outputs": [],
   "source": [
    "\n",
    "import zipfile\n",
    "\n",
    "# Define the path to your zip file\n",
    "file_path = '/content/climate-insights-dataset.zip'\n",
    "with zipfile.ZipFile(file_path, 'r') as zip_ref:\n",
    "    zip_ref.extractall('/content/drive/MyDrive/kaggle')\n"
   ]
  },
  {
   "cell_type": "markdown",
   "metadata": {
    "id": "jJbLzm-rzrZ5"
   },
   "source": [
    "We are using a kaggle Dataset:\n",
    "https://www.kaggle.com/datasets/goyaladi/climate-insights-dataset\n",
    "\n",
    "You can download the CSV. Feel free to use the Dataset you are more interested In, or your own Data.\n",
    "\n",
    "\n"
   ]
  },
  {
   "cell_type": "code",
   "execution_count": null,
   "metadata": {
    "id": "49sY2-63Rxzp"
   },
   "outputs": [],
   "source": [
    "import pandas as pd\n",
    "csv_file='/content/drive/MyDrive/kaggle/climate_change_data.csv'\n",
    "#creating the document with Pandas.\n",
    "document = pd.read_csv(csv_file)"
   ]
  },
  {
   "cell_type": "code",
   "execution_count": null,
   "metadata": {
    "colab": {
     "base_uri": "https://localhost:8080/",
     "height": 206
    },
    "id": "iyJbbQZBUOXm",
    "outputId": "49f7f699-cfe8-4002-c4d7-b729976411c8"
   },
   "outputs": [],
   "source": [
    "document.head(5)"
   ]
  },
  {
   "cell_type": "code",
   "execution_count": null,
   "metadata": {
    "id": "kABkxcdEaq7r"
   },
   "outputs": [],
   "source": [
    "#If you want to use your own CSV just execute this Cell\n",
    "#from google.colab import files\n",
    "\n",
    "#def load_csv_file():\n",
    "#  \"\"\"Loads a CSV file into a Pandas dataframe.\"\"\"\n",
    "\n",
    "#  uploaded_file = files.upload()\n",
    "#  file_path = next(iter(uploaded_file))\n",
    "#  document = pd.read_csv(file_path)\n",
    "#  return document\n",
    "\n",
    "#if __name__ == \"__main__\":\n",
    "#  document = load_csv_file()\n",
    "#  print(document)"
   ]
  },
  {
   "cell_type": "markdown",
   "metadata": {
    "id": "VduNnDSMnILu"
   },
   "source": [
    "# Creating the Agent\n",
    "This is the easiest Agent we can create with LangChain, we only need to import the **create_pandas_dataframe_agent**."
   ]
  },
  {
   "cell_type": "markdown",
   "metadata": {
    "id": "bCGv4U6p1mcC"
   },
   "source": [
    "Time to create our little assistant, and we need only a call.\n",
    "\n",
    "We let **OpenAI** decide which model to use. However, we specify a **temperature** value of 0 to its parameter, so that it is not imaginative. This is much better when we want the model to be able to give commands to the different libraries it can use.\n",
    "\n"
   ]
  },
  {
   "cell_type": "code",
   "execution_count": null,
   "metadata": {
    "id": "E9uDnPbWXCwb"
   },
   "outputs": [],
   "source": [
    "from langchain.agents.agent_types import AgentType\n",
    "from langchain_experimental.agents.agent_toolkits import create_pandas_dataframe_agent\n",
    "\n",
    "from langchain_openai import ChatOpenAI\n",
    "from langchain_openai import OpenAI"
   ]
  },
  {
   "cell_type": "code",
   "execution_count": null,
   "metadata": {
    "id": "VyTyzCXDTrGU"
   },
   "outputs": [],
   "source": [
    "sm_ds_OAI = create_pandas_dataframe_agent(\n",
    "    OpenAI(temperature=0),\n",
    "    document,\n",
    "    verbose=True\n",
    ")"
   ]
  },
  {
   "cell_type": "markdown",
   "metadata": {
    "id": "25lfRzgDbS8S"
   },
   "source": [
    "## First Question."
   ]
  },
  {
   "cell_type": "code",
   "execution_count": null,
   "metadata": {
    "colab": {
     "base_uri": "https://localhost:8080/"
    },
    "id": "fTagQKYzUWF0",
    "outputId": "6d622634-2cfc-45a4-c478-176f9814175c"
   },
   "outputs": [],
   "source": [
    "sm_ds_OAI.invoke(\"Analyze this data, and write a brief explanation around 100 words.\")"
   ]
  },
  {
   "cell_type": "code",
   "execution_count": null,
   "metadata": {
    "colab": {
     "base_uri": "https://localhost:8080/"
    },
    "id": "9EiLTOo2cB79",
    "outputId": "b8b2773a-0c00-4beb-97a9-65f9b4f4cf2e"
   },
   "outputs": [],
   "source": [
    "document.info()"
   ]
  },
  {
   "cell_type": "markdown",
   "metadata": {
    "id": "M6O3TZX7bB4j"
   },
   "source": [
    "The description of the data made by the Agent is acurated."
   ]
  },
  {
   "cell_type": "markdown",
   "metadata": {
    "id": "Cw1tU1OIbPrH"
   },
   "source": [
    "## Second Question."
   ]
  },
  {
   "cell_type": "code",
   "execution_count": null,
   "metadata": {
    "colab": {
     "base_uri": "https://localhost:8080/",
     "height": 1000
    },
    "id": "wCZaMyRuUfK7",
    "outputId": "9ac07fee-13a3-46cc-c620-3a4190e191d6"
   },
   "outputs": [],
   "source": [
    "sm_ds_OAI.run(\"Do you think is possible to forecast the temperature?\")\n"
   ]
  },
  {
   "cell_type": "markdown",
   "metadata": {
    "id": "80lvpAWpb8Ho"
   },
   "source": [
    "The model thinks that is possible to forecast the temperature, but difficult because the weak correlation between variables.\n",
    "\n",
    "I don't now why the model decided to create a graphic bar."
   ]
  },
  {
   "cell_type": "markdown",
   "metadata": {
    "id": "TOt76k0EM1yh"
   },
   "source": [
    "## Third question"
   ]
  },
  {
   "cell_type": "code",
   "execution_count": null,
   "metadata": {
    "colab": {
     "base_uri": "https://localhost:8080/",
     "height": 1000
    },
    "id": "UvE5a5N_yNxq",
    "outputId": "f452b77b-bb66-4b5b-e523-9b8ffa5dc714"
   },
   "outputs": [],
   "source": [
    "sm_ds_OAI.run(\"\"\"\n",
    "Can you create a line graph containing the anual average co2 emissions over the years?\n",
    "\"\"\")\n"
   ]
  },
  {
   "cell_type": "markdown",
   "metadata": {
    "id": "rDUvtWEScyfy"
   },
   "source": [
    "## Fourth question"
   ]
  },
  {
   "cell_type": "code",
   "execution_count": null,
   "metadata": {
    "colab": {
     "base_uri": "https://localhost:8080/",
     "height": 1000
    },
    "id": "R_9Lp3JZfHGn",
    "outputId": "24074c2e-4bf2-4e7b-984b-8a25442d110a"
   },
   "outputs": [],
   "source": [
    "sm_ds_OAI.run(\"\"\"\n",
    "Create a line graph with seaborn containing the anual average co2 emissions in Portugal over the years.\n",
    "\"\"\")"
   ]
  },
  {
   "cell_type": "markdown",
   "metadata": {
    "id": "xgcnGNkQdbax"
   },
   "source": [
    "## Last Question."
   ]
  },
  {
   "cell_type": "code",
   "execution_count": null,
   "metadata": {
    "colab": {
     "base_uri": "https://localhost:8080/"
    },
    "id": "uYtojJhberB4",
    "outputId": "aa629c99-cc34-456e-f5d2-9dfcb75bf8cd"
   },
   "outputs": [],
   "source": [
    "sm_ds_OAI.invoke(\"\"\"Select a forecasting model to forecast the temperature.\n",
    "Use this kind of model to forecast the average temperature\n",
    "for year in Port Maryberg in Malta for the next 5 years.\n",
    "Write the temperatures forecasted in a table.\"\"\")"
   ]
  },
  {
   "cell_type": "markdown",
   "metadata": {
    "id": "imMJW0r-er18"
   },
   "source": [
    "Note how the agent is capable of installing the necessary software for the actions it needs to perform."
   ]
  },
  {
   "cell_type": "markdown",
   "metadata": {
    "id": "o_o-i2BNXBe6"
   },
   "source": [
    "# Conclusions\n",
    "\n",
    "This is one of the most powerful and, at the same time, easiest to use agents. We have seen how with just a few lines of code, we had an agent capable of following our instructions to analyze, clean, and generate charts from our data. Not only that, but it has also been able to draw conclusions and even decide which algorithm was best for forecasting the data.\n",
    "\n",
    "The world of agents is just beginning, and many players are entering the field, such as Hugging Face, Microsoft, or Google. Their capabilities are not only growing with new tools but also with new language models.\n",
    "\n",
    "**It's a revolution that we cannot afford to miss and will change many things.**"
   ]
  }
 ],
 "metadata": {
  "colab": {
   "gpuType": "T4",
   "include_colab_link": true,
   "machine_shape": "hm",
   "provenance": []
  },
  "kernelspec": {
   "display_name": "Python 3",
   "name": "python3"
  },
  "language_info": {
   "name": "python"
  }
 },
 "nbformat": 4,
 "nbformat_minor": 0
}
