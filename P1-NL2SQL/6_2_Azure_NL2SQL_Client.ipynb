{
 "cells": [
  {
   "cell_type": "markdown",
   "metadata": {
    "colab_type": "text",
    "id": "view-in-github"
   },
   "source": [
    "<a href=\"https://colab.research.google.com/github/peremartra/Large-Language-Model-Notebooks-Course/blob/main/P1-NL2SQL/6_2_Azure_NL2SQL_Client.ipynb\" target=\"_parent\"><img src=\"https://colab.research.google.com/assets/colab-badge.svg\" alt=\"Open In Colab\"/></a>"
   ]
  },
  {
   "cell_type": "markdown",
   "metadata": {
    "id": "Paa52inqag9w"
   },
   "source": [
    "<div>\n",
    "    <h1>Large Language Models Projects</a></h1>\n",
    "    <h3>Apply and Implement Strategies for Large Language Models</h3>\n",
    "    <h2>6.2-Calling Azure OpenAI Services from a Notebook.</h2>\n",
    "    <h3></h3>\n",
    "</div>\n",
    "\n",
    "by [Pere Martra](https://www.linkedin.com/in/pere-martra/)\n",
    "___________\n",
    "Models:\n",
    "\n",
    "Colab Environment: CPU\n",
    "\n",
    "Keys:\n",
    "* Azure\n",
    "* NL2SQL\n",
    "___________\n"
   ]
  },
  {
   "cell_type": "markdown",
   "metadata": {
    "id": "uxFVaxlskUf-"
   },
   "source": [
    "In this notebook, we make a call to a GPT3.5 model that we've set up from Azure OpenAI Studio to function as a translator for SQL queries from natural language.\n",
    "\n",
    "The prompt structure has been created and explained in a [previous article](https://colab.research.google.com/drive/1mbIAv1p6nqtsngXfCG5WrozlvmoJI06F#scrollTo=uxFVaxlskUf-&line=3&uniqifier=1), part of the Large Language Models course."
   ]
  },
  {
   "cell_type": "code",
   "execution_count": null,
   "metadata": {
    "colab": {
     "base_uri": "https://localhost:8080/"
    },
    "id": "Jssm3zDHbKq-",
    "outputId": "8bdf2324-ef7e-4355-fb9c-29eaa8139dbb"
   },
   "outputs": [],
   "source": [
    "#Install openai\n",
    "!pip install -q openai==1.30.1"
   ]
  },
  {
   "cell_type": "code",
   "execution_count": null,
   "metadata": {
    "id": "ZQ48GZBFaaHg"
   },
   "outputs": [],
   "source": [
    "import os\n",
    "import openai"
   ]
  },
  {
   "cell_type": "markdown",
   "metadata": {
    "id": "ZzKsM7pIEguo"
   },
   "source": [
    "\n",
    "You can Obtain the **prompt**  the **api_base** and the **key** from the Sample Code window on Chat Playground in Azure Open Studio.\n",
    "\n",
    "![My Image](https://github.com/peremartra/Large-Language-Model-Notebooks-Course/blob/main/img/Martra_Figure_6-13.jpg?raw=true)\n"
   ]
  },
  {
   "cell_type": "code",
   "execution_count": null,
   "metadata": {
    "colab": {
     "base_uri": "https://localhost:8080/"
    },
    "id": "_rWYcJ2gKEae",
    "outputId": "8031b629-a557-41dc-a7fc-876512221491"
   },
   "outputs": [],
   "source": [
    "from getpass import getpass\n",
    "os.environ[\"AZURE_OPENAI_KEY\"] = getpass(\"Azure AI key:\")"
   ]
  },
  {
   "cell_type": "code",
   "execution_count": null,
   "metadata": {
    "id": "B2C_0LNjHFo3"
   },
   "outputs": [],
   "source": [
    "\n",
    "client = AzureOpenAI(\n",
    "  azure_endpoint = \"https://largelanguagemodelsprojects.openai.azure.com/\",\n",
    "  api_key=os.getenv(\"AZURE_OPENAI_KEY\"),\n",
    "  api_version=\"2024-02-15-preview\"\n",
    ")\n"
   ]
  },
  {
   "cell_type": "code",
   "execution_count": null,
   "metadata": {
    "id": "VQeyT_dCbGND"
   },
   "outputs": [],
   "source": [
    "context = [{\"role\":\"system\",\"content\":\"create table employees( \\n        ID_Usr INT primary key,\\n        name VARCHAR);\\n    /*3 example rows\\n    select * from employees limit 3;\\n    ID_Usr    name\\n    1344      George StPierre\\n    2122      Jon jones\\n    1265      Anderson Silva\\n    */\\n\\n    create table salary(\\n        ID_Usr INT,\\n        year DATE,\\n        salary FLOAT,\\n        foreign key (ID_Usr) references employees(ID_Usr));\\n    /*3 example rows\\n    select * from salary limit 3\\n    ID_Usr    date          salary\\n    1344      01/01/2023    61000\\n    1344      01/01/2022    60000\\n    1265      01/01/2023    55000\\n    */\\n\\n    create table studies(\\n        ID_study INT,\\n        ID_Usr INT,\\n        educational_level INT,  /* 5=phd, 4=Master, 3=Bachelor */\\n        Institution VARCHAR,\\n        Years DATE,\\n        Speciality VARCHAR,\\n        primary key (ID_study, ID_Usr),\\n        foreign key(ID_Usr) references employees (ID_Usr));\\n    /*3 example rows\\n    select * from studies limit 3\\n    ID_Study ID_Usr educational_level Institution    Years       Speciality\\n    2782     1344   3                 UC San Diego   01/01/2010  Bachelor of Science in Marketing\\n    2334     1344   5                 MIT            01/01/2023  Phd. Data Science.\\n    2782     2122   3                 UC San Diego   01/01/2010  Bachelor of Science in Marketing\\n    */\\n-- Maintain the SQL order simple and efficient as you can, using valid SQL Lite, answer the following questions, returning only SQL code, for the table provided above.\"},{\"role\":\"user\",\"content\":\"How Many employes we have with a salary bigger than 50000?\"},{\"role\":\"assistant\",\"content\":\"SELECT COUNT(*) AS total_employees\\nFROM employees e\\nINNER JOIN salary s ON e.ID_Usr = s.ID_Usr\\nWHERE s.salary > 50000;\"},{\"role\":\"user\",\"content\":\"Return the names of the three people who have had the highest salary increase in the last three years.\"},{\"role\":\"assistant\",\"content\":\"SELECT e.name\\nFROM employees e\\nJOIN salary s ON e.ID_usr = s.ID_usr\\nWHERE s.year >= DATE_SUB(CURDATE(), INTERVAL 3 YEAR)\\nGROUP BY e.name\\nORDER BY (MAX(s.salary) - MIN(s.salary)) DESC\\nLIMIT 3;\"},{\"role\":\"user\",\"content\":\"Give me the name of the worst paid emploee\"},{\"role\":\"assistant\",\"content\":\"SELECT e.name\\nFROM employees e\\nJOIN salary s ON e.ID_usr = s.ID_usr\\nWHERE s.salary = (SELECT MIN(salary) FROM salary);\"}]"
   ]
  },
  {
   "cell_type": "code",
   "execution_count": null,
   "metadata": {
    "id": "j6M7t_pgy-CW"
   },
   "outputs": [],
   "source": [
    "context = [{\"role\":\"system\",\"content\":\"\"\"\n",
    "            create table employees(\n",
    "              ID_Usr INT primary key,\n",
    "              name VARCHAR);\n",
    "              /*3 example rows\n",
    "              select * from employees limit 3;\n",
    "              ID_Usr    name\n",
    "              1344      George StPierre\n",
    "              2122      Jon jones\n",
    "              1265      Anderson Silva\n",
    "              */\n",
    "\n",
    "            create table salary(\n",
    "              ID_Usr INT,\n",
    "              year DATE,\n",
    "              salary FLOAT,\n",
    "              foreign key (ID_Usr) references employees(ID_Usr));\n",
    "              /*3 example rows\n",
    "              select * from salary limit 3\n",
    "              ID_Usr    date          salary\n",
    "              1344      01/01/2023    61000\n",
    "              1344      01/01/2022    60000\n",
    "              1265      01/01/2023    55000\n",
    "              */\n",
    "\n",
    "            create table studies(\n",
    "              ID_study INT,\n",
    "              ID_Usr INT,\n",
    "              educational_level INT,  /* 5=phd, 4=Master, 3=Bachelor */\n",
    "              Institution VARCHAR,\n",
    "              Years DATE,\n",
    "              Speciality VARCHAR,\n",
    "              primary key (ID_study, ID_Usr),\n",
    "              foreign key(ID_Usr) references employees (ID_Usr));\n",
    "              /*3 example rows\n",
    "              select * from studies limit 3\n",
    "              ID_Study ID_Usr educational_level Institution    Years       Speciality\n",
    "              2782     1344   3                 UC San Diego   01/01/2010  Bachelor of Science in Marketing\n",
    "              2334     1344   5                 MIT            01/01/2023  Phd. Data Science.\n",
    "              2782     2122   3                 UC San Diego   01/01/2010  Bachelor of Science in Marketing\n",
    "              */\n",
    "              -- Maintain the SQL order simple and efficient as you can,\n",
    "              using valid SQL Lite, answer the following questions,\n",
    "              returning only SQL code, for the table provided above.\"\"\"},\n",
    "            {\"role\":\"user\",\"content\":\"\"\"How Many employes we have with a salary bigger than 50000?\"\"\"},\n",
    "            {\"role\":\"assistant\",\"content\":\"\"\"\n",
    "            SELECT COUNT(*) AS total_employees\n",
    "            FROM employees e\n",
    "            INNER JOIN salary s ON e.ID_Usr = s.ID_Usr\n",
    "            WHERE s.salary > 50000;\"\"\"},\n",
    "            {\"role\":\"user\",\"content\":\"Return the names of the three people who have had the highest salary increase in the last three years.\"},\n",
    "            {\"role\":\"assistant\",\"content\":\"\"\"\n",
    "            SELECT e.name\n",
    "            FROM employees e\n",
    "            JOIN salary s ON e.ID_usr = s.ID_usr\n",
    "            WHERE s.year >= DATE_SUB(CURDATE(), INTERVAL 3 YEAR)\n",
    "            GROUP BY e.name\n",
    "            ORDER BY (MAX(s.salary) - MIN(s.salary)) DESC\\nLIMIT 3;\"\"\"}]"
   ]
  },
  {
   "cell_type": "code",
   "execution_count": null,
   "metadata": {
    "id": "BcpmXLF1cVGb"
   },
   "outputs": [],
   "source": [
    "#Functio to call the model.\n",
    "def return_CCRMSQL(user_message, context):\n",
    "\n",
    "    newcontext = context.copy()\n",
    "    newcontext.append({'role':'user', 'content':\"question: \" + user_message})\n",
    "\n",
    "    response = client.chat.completions.create(\n",
    "      model=\"GPT35NL2SQL\", #Our deployment\n",
    "      messages = newcontext,\n",
    "      temperature=0,\n",
    "      max_tokens=800)\n",
    "\n",
    "    return (response.choices[0].message.content)"
   ]
  },
  {
   "cell_type": "code",
   "execution_count": null,
   "metadata": {
    "colab": {
     "base_uri": "https://localhost:8080/"
    },
    "id": "VmB27XTWhKOn",
    "outputId": "a00e7627-dcdc-4c26-837e-93631ca61bd6"
   },
   "outputs": [],
   "source": [
    "context_user = context.copy()\n",
    "response = return_CCRMSQL(\"What's the name of the best paid employee?\", context_user)\n",
    "print(response)\n"
   ]
  },
  {
   "cell_type": "code",
   "execution_count": null,
   "metadata": {
    "colab": {
     "base_uri": "https://localhost:8080/"
    },
    "id": "svMFswMghM3D",
    "outputId": "a2cc72a8-550d-47d7-f187-745020238263"
   },
   "outputs": [],
   "source": [
    "print(return_CCRMSQL(\"Return the Institution with a higher average salary\", context_user))"
   ]
  },
  {
   "cell_type": "markdown",
   "metadata": {
    "id": "CxcnI77oqLpl"
   },
   "source": [
    "#Conclusions.\n",
    "Once you have the prompt to use, set up the OpenAI services in Azure is straightforward.\n",
    "\n",
    "I observed some differences in the SQL from the one obtained calling directly to OpenAI API.\n"
   ]
  },
  {
   "cell_type": "code",
   "execution_count": null,
   "metadata": {
    "id": "YMVK994yhbnP"
   },
   "outputs": [],
   "source": []
  }
 ],
 "metadata": {
  "colab": {
   "authorship_tag": "ABX9TyPviR8piXLbY+Rsqjm1IQE7",
   "include_colab_link": true,
   "provenance": []
  },
  "kernelspec": {
   "display_name": "Python 3",
   "name": "python3"
  },
  "language_info": {
   "name": "python"
  }
 },
 "nbformat": 4,
 "nbformat_minor": 0
}
